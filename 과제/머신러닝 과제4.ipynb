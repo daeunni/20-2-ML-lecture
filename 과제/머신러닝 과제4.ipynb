{
 "cells": [
  {
   "cell_type": "markdown",
   "metadata": {},
   "source": [
    "# 과제 5"
   ]
  },
  {
   "cell_type": "markdown",
   "metadata": {},
   "source": [
    "Iris 데이터에 logisticregression을 적용하되, multi_class=’ovr’과 ‘multinomial’을 적용한 후, 추정된 sigmoid함수와 softmax 함수를 제시하고 해석하라. (intercept와 coefficient 제시 후 해석)"
   ]
  },
  {
   "cell_type": "code",
   "execution_count": 1,
   "metadata": {},
   "outputs": [],
   "source": [
    "import seaborn as sns \n",
    "data = sns.load_dataset('iris')  \n",
    "\n",
    "from sklearn.preprocessing import LabelEncoder  # 인코딩   \n",
    "classle = LabelEncoder()\n",
    "data['species'] = classle.fit_transform(data['species'].values) \n",
    "\n",
    "X = data.drop('species', axis=1) \n",
    "y = data['species']\n",
    "\n",
    "# 트테분리\n",
    "from sklearn.model_selection import train_test_split\n",
    "X_train, X_test, y_train, y_test = train_test_split(X, y, test_size=0.3,\n",
    "                                                    random_state=1, stratify=y)"
   ]
  },
  {
   "cell_type": "code",
   "execution_count": 2,
   "metadata": {},
   "outputs": [
    {
     "name": "stdout",
     "output_type": "stream",
     "text": [
      "(105, 4) (45, 4) (105,) (45,)\n"
     ]
    }
   ],
   "source": [
    "print(X_train.shape, X_test.shape, y_train.shape, y_test.shape)"
   ]
  },
  {
   "cell_type": "code",
   "execution_count": 3,
   "metadata": {},
   "outputs": [
    {
     "data": {
      "text/html": [
       "<div>\n",
       "<style scoped>\n",
       "    .dataframe tbody tr th:only-of-type {\n",
       "        vertical-align: middle;\n",
       "    }\n",
       "\n",
       "    .dataframe tbody tr th {\n",
       "        vertical-align: top;\n",
       "    }\n",
       "\n",
       "    .dataframe thead th {\n",
       "        text-align: right;\n",
       "    }\n",
       "</style>\n",
       "<table border=\"1\" class=\"dataframe\">\n",
       "  <thead>\n",
       "    <tr style=\"text-align: right;\">\n",
       "      <th></th>\n",
       "      <th>sepal_length</th>\n",
       "      <th>sepal_width</th>\n",
       "      <th>petal_length</th>\n",
       "      <th>petal_width</th>\n",
       "      <th>species</th>\n",
       "    </tr>\n",
       "  </thead>\n",
       "  <tbody>\n",
       "    <tr>\n",
       "      <th>0</th>\n",
       "      <td>5.1</td>\n",
       "      <td>3.5</td>\n",
       "      <td>1.4</td>\n",
       "      <td>0.2</td>\n",
       "      <td>0</td>\n",
       "    </tr>\n",
       "    <tr>\n",
       "      <th>1</th>\n",
       "      <td>4.9</td>\n",
       "      <td>3.0</td>\n",
       "      <td>1.4</td>\n",
       "      <td>0.2</td>\n",
       "      <td>0</td>\n",
       "    </tr>\n",
       "    <tr>\n",
       "      <th>2</th>\n",
       "      <td>4.7</td>\n",
       "      <td>3.2</td>\n",
       "      <td>1.3</td>\n",
       "      <td>0.2</td>\n",
       "      <td>0</td>\n",
       "    </tr>\n",
       "    <tr>\n",
       "      <th>3</th>\n",
       "      <td>4.6</td>\n",
       "      <td>3.1</td>\n",
       "      <td>1.5</td>\n",
       "      <td>0.2</td>\n",
       "      <td>0</td>\n",
       "    </tr>\n",
       "    <tr>\n",
       "      <th>4</th>\n",
       "      <td>5.0</td>\n",
       "      <td>3.6</td>\n",
       "      <td>1.4</td>\n",
       "      <td>0.2</td>\n",
       "      <td>0</td>\n",
       "    </tr>\n",
       "    <tr>\n",
       "      <th>...</th>\n",
       "      <td>...</td>\n",
       "      <td>...</td>\n",
       "      <td>...</td>\n",
       "      <td>...</td>\n",
       "      <td>...</td>\n",
       "    </tr>\n",
       "    <tr>\n",
       "      <th>145</th>\n",
       "      <td>6.7</td>\n",
       "      <td>3.0</td>\n",
       "      <td>5.2</td>\n",
       "      <td>2.3</td>\n",
       "      <td>2</td>\n",
       "    </tr>\n",
       "    <tr>\n",
       "      <th>146</th>\n",
       "      <td>6.3</td>\n",
       "      <td>2.5</td>\n",
       "      <td>5.0</td>\n",
       "      <td>1.9</td>\n",
       "      <td>2</td>\n",
       "    </tr>\n",
       "    <tr>\n",
       "      <th>147</th>\n",
       "      <td>6.5</td>\n",
       "      <td>3.0</td>\n",
       "      <td>5.2</td>\n",
       "      <td>2.0</td>\n",
       "      <td>2</td>\n",
       "    </tr>\n",
       "    <tr>\n",
       "      <th>148</th>\n",
       "      <td>6.2</td>\n",
       "      <td>3.4</td>\n",
       "      <td>5.4</td>\n",
       "      <td>2.3</td>\n",
       "      <td>2</td>\n",
       "    </tr>\n",
       "    <tr>\n",
       "      <th>149</th>\n",
       "      <td>5.9</td>\n",
       "      <td>3.0</td>\n",
       "      <td>5.1</td>\n",
       "      <td>1.8</td>\n",
       "      <td>2</td>\n",
       "    </tr>\n",
       "  </tbody>\n",
       "</table>\n",
       "<p>150 rows × 5 columns</p>\n",
       "</div>"
      ],
      "text/plain": [
       "     sepal_length  sepal_width  petal_length  petal_width  species\n",
       "0             5.1          3.5           1.4          0.2        0\n",
       "1             4.9          3.0           1.4          0.2        0\n",
       "2             4.7          3.2           1.3          0.2        0\n",
       "3             4.6          3.1           1.5          0.2        0\n",
       "4             5.0          3.6           1.4          0.2        0\n",
       "..            ...          ...           ...          ...      ...\n",
       "145           6.7          3.0           5.2          2.3        2\n",
       "146           6.3          2.5           5.0          1.9        2\n",
       "147           6.5          3.0           5.2          2.0        2\n",
       "148           6.2          3.4           5.4          2.3        2\n",
       "149           5.9          3.0           5.1          1.8        2\n",
       "\n",
       "[150 rows x 5 columns]"
      ]
     },
     "execution_count": 3,
     "metadata": {},
     "output_type": "execute_result"
    }
   ],
   "source": [
    "data"
   ]
  },
  {
   "cell_type": "code",
   "execution_count": 4,
   "metadata": {},
   "outputs": [
    {
     "data": {
      "text/plain": [
       "Index(['sepal_length', 'sepal_width', 'petal_length', 'petal_width',\n",
       "       'species'],\n",
       "      dtype='object')"
      ]
     },
     "execution_count": 4,
     "metadata": {},
     "output_type": "execute_result"
    }
   ],
   "source": [
    "data.columns"
   ]
  },
  {
   "cell_type": "code",
   "execution_count": 5,
   "metadata": {},
   "outputs": [],
   "source": [
    "train_col = ['sepal_length', 'sepal_width', 'petal_length', 'petal_width']"
   ]
  },
  {
   "cell_type": "code",
   "execution_count": 6,
   "metadata": {},
   "outputs": [],
   "source": [
    "# 0, 1인것 먼저 적합(1일확률)\n",
    "data_1 = data.query('species!=2')"
   ]
  },
  {
   "cell_type": "code",
   "execution_count": 7,
   "metadata": {},
   "outputs": [
    {
     "data": {
      "text/html": [
       "<div>\n",
       "<style scoped>\n",
       "    .dataframe tbody tr th:only-of-type {\n",
       "        vertical-align: middle;\n",
       "    }\n",
       "\n",
       "    .dataframe tbody tr th {\n",
       "        vertical-align: top;\n",
       "    }\n",
       "\n",
       "    .dataframe thead th {\n",
       "        text-align: right;\n",
       "    }\n",
       "</style>\n",
       "<table border=\"1\" class=\"dataframe\">\n",
       "  <thead>\n",
       "    <tr style=\"text-align: right;\">\n",
       "      <th></th>\n",
       "      <th>sepal_length</th>\n",
       "      <th>sepal_width</th>\n",
       "      <th>petal_length</th>\n",
       "      <th>petal_width</th>\n",
       "      <th>species</th>\n",
       "    </tr>\n",
       "  </thead>\n",
       "  <tbody>\n",
       "    <tr>\n",
       "      <th>0</th>\n",
       "      <td>5.1</td>\n",
       "      <td>3.5</td>\n",
       "      <td>1.4</td>\n",
       "      <td>0.2</td>\n",
       "      <td>0</td>\n",
       "    </tr>\n",
       "    <tr>\n",
       "      <th>1</th>\n",
       "      <td>4.9</td>\n",
       "      <td>3.0</td>\n",
       "      <td>1.4</td>\n",
       "      <td>0.2</td>\n",
       "      <td>0</td>\n",
       "    </tr>\n",
       "    <tr>\n",
       "      <th>2</th>\n",
       "      <td>4.7</td>\n",
       "      <td>3.2</td>\n",
       "      <td>1.3</td>\n",
       "      <td>0.2</td>\n",
       "      <td>0</td>\n",
       "    </tr>\n",
       "    <tr>\n",
       "      <th>3</th>\n",
       "      <td>4.6</td>\n",
       "      <td>3.1</td>\n",
       "      <td>1.5</td>\n",
       "      <td>0.2</td>\n",
       "      <td>0</td>\n",
       "    </tr>\n",
       "    <tr>\n",
       "      <th>4</th>\n",
       "      <td>5.0</td>\n",
       "      <td>3.6</td>\n",
       "      <td>1.4</td>\n",
       "      <td>0.2</td>\n",
       "      <td>0</td>\n",
       "    </tr>\n",
       "    <tr>\n",
       "      <th>...</th>\n",
       "      <td>...</td>\n",
       "      <td>...</td>\n",
       "      <td>...</td>\n",
       "      <td>...</td>\n",
       "      <td>...</td>\n",
       "    </tr>\n",
       "    <tr>\n",
       "      <th>95</th>\n",
       "      <td>5.7</td>\n",
       "      <td>3.0</td>\n",
       "      <td>4.2</td>\n",
       "      <td>1.2</td>\n",
       "      <td>1</td>\n",
       "    </tr>\n",
       "    <tr>\n",
       "      <th>96</th>\n",
       "      <td>5.7</td>\n",
       "      <td>2.9</td>\n",
       "      <td>4.2</td>\n",
       "      <td>1.3</td>\n",
       "      <td>1</td>\n",
       "    </tr>\n",
       "    <tr>\n",
       "      <th>97</th>\n",
       "      <td>6.2</td>\n",
       "      <td>2.9</td>\n",
       "      <td>4.3</td>\n",
       "      <td>1.3</td>\n",
       "      <td>1</td>\n",
       "    </tr>\n",
       "    <tr>\n",
       "      <th>98</th>\n",
       "      <td>5.1</td>\n",
       "      <td>2.5</td>\n",
       "      <td>3.0</td>\n",
       "      <td>1.1</td>\n",
       "      <td>1</td>\n",
       "    </tr>\n",
       "    <tr>\n",
       "      <th>99</th>\n",
       "      <td>5.7</td>\n",
       "      <td>2.8</td>\n",
       "      <td>4.1</td>\n",
       "      <td>1.3</td>\n",
       "      <td>1</td>\n",
       "    </tr>\n",
       "  </tbody>\n",
       "</table>\n",
       "<p>100 rows × 5 columns</p>\n",
       "</div>"
      ],
      "text/plain": [
       "    sepal_length  sepal_width  petal_length  petal_width  species\n",
       "0            5.1          3.5           1.4          0.2        0\n",
       "1            4.9          3.0           1.4          0.2        0\n",
       "2            4.7          3.2           1.3          0.2        0\n",
       "3            4.6          3.1           1.5          0.2        0\n",
       "4            5.0          3.6           1.4          0.2        0\n",
       "..           ...          ...           ...          ...      ...\n",
       "95           5.7          3.0           4.2          1.2        1\n",
       "96           5.7          2.9           4.2          1.3        1\n",
       "97           6.2          2.9           4.3          1.3        1\n",
       "98           5.1          2.5           3.0          1.1        1\n",
       "99           5.7          2.8           4.1          1.3        1\n",
       "\n",
       "[100 rows x 5 columns]"
      ]
     },
     "execution_count": 7,
     "metadata": {},
     "output_type": "execute_result"
    }
   ],
   "source": [
    "data_1"
   ]
  },
  {
   "cell_type": "code",
   "execution_count": 8,
   "metadata": {},
   "outputs": [],
   "source": [
    "# from sklearn.linear_model import LogisticRegression\n",
    "# import statsmodels.api as sm\n",
    "\n",
    "# model = sm.Logit(data_1['species'], data_1[train_col])\n",
    "# model.fit()"
   ]
  },
  {
   "cell_type": "markdown",
   "metadata": {},
   "source": [
    "## Ovr - sigmoid\n",
    "- OVR(=OVA, 일대다 전략) : One-Versus-Rest, One-Versus-All\n",
    "- 한 분류에 대한 다른 분류의 이진 분류를 클래스 개수만큼 반복함. "
   ]
  },
  {
   "cell_type": "code",
   "execution_count": 9,
   "metadata": {},
   "outputs": [],
   "source": [
    "# Logistic regression\n",
    "from sklearn.linear_model import LogisticRegression\n",
    "Logit = LogisticRegression(C=1e2, random_state=1, multi_class='ovr') \n",
    "model=Logit.fit(X_train, y_train)\n",
    "y_train_pred = Logit.predict(X_train)\n",
    "y_test_pred = Logit.predict(X_test)"
   ]
  },
  {
   "cell_type": "code",
   "execution_count": 10,
   "metadata": {},
   "outputs": [
    {
     "name": "stdout",
     "output_type": "stream",
     "text": [
      "(105, 4) (45, 4)\n"
     ]
    }
   ],
   "source": [
    "print(X_train.shape, X_test.shape)"
   ]
  },
  {
   "cell_type": "code",
   "execution_count": 11,
   "metadata": {},
   "outputs": [
    {
     "data": {
      "text/plain": [
       "2    50\n",
       "1    50\n",
       "0    50\n",
       "Name: species, dtype: int64"
      ]
     },
     "execution_count": 11,
     "metadata": {},
     "output_type": "execute_result"
    }
   ],
   "source": [
    "data['species'].value_counts()"
   ]
  },
  {
   "cell_type": "code",
   "execution_count": 12,
   "metadata": {},
   "outputs": [
    {
     "data": {
      "text/plain": [
       "array([[-0.76671984,  2.09831221, -4.68649463, -1.9094582 ],\n",
       "       [-1.55950151, -2.15532289,  1.99096135, -2.96098118],\n",
       "       [-0.79884463, -4.12128048,  6.23015952,  9.97751475]])"
      ]
     },
     "execution_count": 12,
     "metadata": {},
     "output_type": "execute_result"
    }
   ],
   "source": [
    "# 특정 분류 하나만 구분하는 분류별 회귀식 3개\n",
    "# 첫째 : 0만 구분하게함, 둘째 : 1만 구분하게함, 셋째 : 2만 구분하게함. \n",
    "model.coef_"
   ]
  },
  {
   "cell_type": "code",
   "execution_count": 13,
   "metadata": {},
   "outputs": [
    {
     "data": {
      "text/plain": [
       "array([ 11.74134616,  10.71605225, -30.65341967])"
      ]
     },
     "execution_count": 13,
     "metadata": {},
     "output_type": "execute_result"
    }
   ],
   "source": [
    "model.intercept_"
   ]
  },
  {
   "cell_type": "code",
   "execution_count": 68,
   "metadata": {},
   "outputs": [
    {
     "data": {
      "text/html": [
       "<div>\n",
       "<style scoped>\n",
       "    .dataframe tbody tr th:only-of-type {\n",
       "        vertical-align: middle;\n",
       "    }\n",
       "\n",
       "    .dataframe tbody tr th {\n",
       "        vertical-align: top;\n",
       "    }\n",
       "\n",
       "    .dataframe thead th {\n",
       "        text-align: right;\n",
       "    }\n",
       "</style>\n",
       "<table border=\"1\" class=\"dataframe\">\n",
       "  <thead>\n",
       "    <tr style=\"text-align: right;\">\n",
       "      <th></th>\n",
       "      <th>sepal_length</th>\n",
       "      <th>sepal_width</th>\n",
       "      <th>petal_length</th>\n",
       "      <th>petal_width</th>\n",
       "    </tr>\n",
       "  </thead>\n",
       "  <tbody>\n",
       "    <tr>\n",
       "      <th>148</th>\n",
       "      <td>6.2</td>\n",
       "      <td>3.4</td>\n",
       "      <td>5.4</td>\n",
       "      <td>2.3</td>\n",
       "    </tr>\n",
       "    <tr>\n",
       "      <th>5</th>\n",
       "      <td>5.4</td>\n",
       "      <td>3.9</td>\n",
       "      <td>1.7</td>\n",
       "      <td>0.4</td>\n",
       "    </tr>\n",
       "    <tr>\n",
       "      <th>6</th>\n",
       "      <td>4.6</td>\n",
       "      <td>3.4</td>\n",
       "      <td>1.4</td>\n",
       "      <td>0.3</td>\n",
       "    </tr>\n",
       "    <tr>\n",
       "      <th>106</th>\n",
       "      <td>4.9</td>\n",
       "      <td>2.5</td>\n",
       "      <td>4.5</td>\n",
       "      <td>1.7</td>\n",
       "    </tr>\n",
       "    <tr>\n",
       "      <th>75</th>\n",
       "      <td>6.6</td>\n",
       "      <td>3.0</td>\n",
       "      <td>4.4</td>\n",
       "      <td>1.4</td>\n",
       "    </tr>\n",
       "  </tbody>\n",
       "</table>\n",
       "</div>"
      ],
      "text/plain": [
       "     sepal_length  sepal_width  petal_length  petal_width\n",
       "148           6.2          3.4           5.4          2.3\n",
       "5             5.4          3.9           1.7          0.4\n",
       "6             4.6          3.4           1.4          0.3\n",
       "106           4.9          2.5           4.5          1.7\n",
       "75            6.6          3.0           4.4          1.4"
      ]
     },
     "execution_count": 68,
     "metadata": {},
     "output_type": "execute_result"
    }
   ],
   "source": [
    "X_test.head()"
   ]
  },
  {
   "cell_type": "code",
   "execution_count": 69,
   "metadata": {},
   "outputs": [],
   "source": [
    "x11 = np.array(X_test['sepal_length'].tolist())\n",
    "x22 = np.array(X_test['sepal_width'].tolist())\n",
    "x33 = np.array(X_test['petal_length'].tolist())\n",
    "x44 = np.array(X_test['petal_width'].tolist())"
   ]
  },
  {
   "cell_type": "code",
   "execution_count": 14,
   "metadata": {},
   "outputs": [],
   "source": [
    "# 회귀 방정식 생성\n",
    "def reg(x1, x2, x3, x4):\n",
    "    y1 = 11.74134616 -0.76671984*x1 + 2.09831221*x2 -4.68649463*x3 -1.9094582 *x4\n",
    "    y2 = 10.71605225 -1.55950151*x1 -2.15532289*x2 +1.99096135*x3 -2.96098118*x4\n",
    "    y3 = -30.65341967 -0.79884463*x1 -4.12128048*x2 + 6.23015952*x3 + 9.97751475*x4\n",
    "    return(y1, y2, y3)"
   ]
  },
  {
   "cell_type": "code",
   "execution_count": 71,
   "metadata": {},
   "outputs": [],
   "source": [
    "logit = reg(x11, x22, x33, x44)"
   ]
  },
  {
   "cell_type": "code",
   "execution_count": 74,
   "metadata": {},
   "outputs": [
    {
     "data": {
      "text/plain": [
       "(array([-15.5768802 ,   7.05365249,   8.21476647, -11.10510531,\n",
       "        -10.31788601,  -8.28864486, -18.76858986, -12.34944312,\n",
       "        -15.96660997,   8.92825034,   8.81009157, -13.04155668,\n",
       "          7.50990015,  -4.35452223,   7.98604985, -12.76549027,\n",
       "        -15.33712936, -10.21076145,  -9.71477798, -15.13608465,\n",
       "        -19.06760861,   7.60398926, -10.18472677, -13.45975084,\n",
       "         -9.05241508, -11.24621642,  -3.08303241, -17.95791137,\n",
       "          6.60777337, -14.63456595,   7.31506939,   8.23218359,\n",
       "         -8.89812274,  -8.87776906, -20.73254419, -16.96299481,\n",
       "          8.7863046 ,   6.32240054,   7.33637145, -11.61085989,\n",
       "        -17.93919492, -13.82551164, -11.78912121,   7.63037489,\n",
       "          7.26849903]),\n",
       " array([-2.34002036, -3.91077335, -1.88670099,  1.61184569, -1.4277701 ,\n",
       "        -0.71724119,  1.09689461,  0.82328684, -0.1578983 , -4.70715789,\n",
       "        -5.85447752, -0.83693114, -0.20104112,  1.51091119, -1.15953829,\n",
       "        -0.51222128, -3.38236296,  0.03472943, -0.80333552, -1.45563957,\n",
       "        -1.29376565, -0.7442759 , -1.79925254, -0.21831204,  0.67623413,\n",
       "        -1.60142434,  0.09009208, -2.89914666, -3.21613596,  0.47143081,\n",
       "        -1.5043109 , -2.58588591,  1.62019705,  1.29612116,  0.29454523,\n",
       "        -1.62229974, -2.19341978, -0.95408205, -1.19632416, -1.88534687,\n",
       "        -2.40331844, -0.12683857, -0.73866122, -2.01530734, -0.9166622 ]),\n",
       " array([  6.97253532, -36.45789746, -36.62498085,   0.12653336,\n",
       "         -6.90841313,  -9.17455   ,   7.78557187,  -1.67108347,\n",
       "          5.08364088, -38.94996127, -40.00422299,   0.59709484,\n",
       "        -35.40232316, -13.92179034, -36.79847623,  -3.75186215,\n",
       "          5.78068037,  -4.48880107,  -7.95728358,   4.1421078 ,\n",
       "          9.02166416, -37.13174053,  -7.40042564,   3.81627621,\n",
       "         -7.11696774,  -4.04059308, -15.3649837 ,  10.84979186,\n",
       "        -33.11736042,   5.59579184, -36.53646934, -38.43428268,\n",
       "         -9.61515168,  -6.63460298,   8.77283266,   6.76925374,\n",
       "        -39.68439328, -35.04772608, -36.21387352,  -6.18315922,\n",
       "          9.10664804,   2.00289567,  -3.76048919, -37.31925422,\n",
       "        -37.00073709]))"
      ]
     },
     "execution_count": 74,
     "metadata": {},
     "output_type": "execute_result"
    }
   ],
   "source": [
    "logit"
   ]
  },
  {
   "cell_type": "code",
   "execution_count": 72,
   "metadata": {},
   "outputs": [],
   "source": [
    "oz = np.exp(reg(x11, x22, x33, x44))"
   ]
  },
  {
   "cell_type": "code",
   "execution_count": 73,
   "metadata": {},
   "outputs": [
    {
     "data": {
      "text/plain": [
       "array([[1.71809386e-07, 1.15707725e+03, 3.69511320e+03, 1.50353674e-05,\n",
       "        3.30368813e-05, 2.51354854e-04, 7.06163054e-09, 4.33216509e-06,\n",
       "        1.16356164e-07, 7.54205782e+03, 6.70153290e+03, 2.16832261e-06,\n",
       "        1.82603121e+03, 1.28485768e-02, 2.93966188e+03, 2.85770910e-06,\n",
       "        2.18358123e-07, 3.67724568e-05, 6.03845080e-05, 2.66981987e-07,\n",
       "        5.23652037e-09, 2.00618313e+03, 3.77423871e-05, 1.42726456e-06,\n",
       "        1.17107870e-04, 1.30566050e-05, 4.58201005e-02, 1.58846696e-08,\n",
       "        7.40831621e+02, 4.40847885e-07, 1.50277608e+03, 3.76003517e+03,\n",
       "        1.36645205e-04, 1.39454935e-04, 9.90764556e-10, 4.29600679e-08,\n",
       "        6.54400471e+03, 5.56908271e+02, 1.53513170e+03, 9.06708360e-06,\n",
       "        1.61847740e-08, 9.90048763e-07, 7.58664411e-06, 2.05982208e+03,\n",
       "        1.43439585e+03],\n",
       "       [9.63256768e-02, 2.00250087e-02, 1.51571020e-01, 5.01205342e+00,\n",
       "        2.39843153e-01, 4.88096968e-01, 2.99485140e+00, 2.27797487e+00,\n",
       "        8.53936619e-01, 9.03040654e-03, 2.86703318e-03, 4.33037418e-01,\n",
       "        8.17878799e-01, 4.53085739e+00, 3.13630954e-01, 5.99163189e-01,\n",
       "        3.39670970e-02, 1.03533954e+00, 4.47832713e-01, 2.33251135e-01,\n",
       "        2.74236158e-01, 4.75078181e-01, 1.65422489e-01, 8.03874559e-01,\n",
       "        1.96645834e+00, 2.01609153e-01, 1.09427504e+00, 5.50701937e-02,\n",
       "        4.01097447e-02, 1.60228512e+00, 2.22170339e-01, 7.53293149e-02,\n",
       "        5.05408614e+00, 3.65509163e+00, 1.34251568e+00, 1.97444106e-01,\n",
       "        1.11534672e-01, 3.85165547e-01, 3.02303389e-01, 1.51776403e-01,\n",
       "        9.04174105e-02, 8.80875863e-01, 4.77753095e-01, 1.33279435e-01,\n",
       "        3.99851440e-01],\n",
       "       [1.06692432e+03, 1.46735877e-16, 1.24157488e-16, 1.13488731e+00,\n",
       "        9.99342365e-04, 1.03643856e-04, 2.40564148e+03, 1.88043217e-01,\n",
       "        1.61360482e+02, 1.21407845e-17, 4.23045131e-18, 1.81683294e+00,\n",
       "        4.21663886e-16, 8.99173038e-07, 1.04381812e-16, 2.34739930e-02,\n",
       "        3.23979542e+02, 1.12341046e-02, 3.50102852e-04, 6.29353368e+01,\n",
       "        8.28054577e+03, 7.47979997e-17, 6.10992642e-04, 4.54347034e+01,\n",
       "        8.11222868e-04, 1.75870388e-02, 2.12359828e-07, 5.15234264e+04,\n",
       "        4.14298266e-15, 2.69290801e+02, 1.35647869e-16, 2.03330774e-17,\n",
       "        6.67102679e-05, 1.31410036e-03, 6.45643550e+03, 8.70661912e+02,\n",
       "        5.82487996e-18, 6.01126621e-16, 1.87289988e-16, 2.06389723e-03,\n",
       "        9.01502615e+03, 7.41048341e+00, 2.32723529e-02, 6.20088708e-17,\n",
       "        8.52676032e-17]])"
      ]
     },
     "execution_count": 73,
     "metadata": {},
     "output_type": "execute_result"
    }
   ],
   "source": [
    "oz"
   ]
  },
  {
   "cell_type": "code",
   "execution_count": 15,
   "metadata": {},
   "outputs": [
    {
     "data": {
      "text/html": [
       "<div>\n",
       "<style scoped>\n",
       "    .dataframe tbody tr th:only-of-type {\n",
       "        vertical-align: middle;\n",
       "    }\n",
       "\n",
       "    .dataframe tbody tr th {\n",
       "        vertical-align: top;\n",
       "    }\n",
       "\n",
       "    .dataframe thead th {\n",
       "        text-align: right;\n",
       "    }\n",
       "</style>\n",
       "<table border=\"1\" class=\"dataframe\">\n",
       "  <thead>\n",
       "    <tr style=\"text-align: right;\">\n",
       "      <th></th>\n",
       "      <th>sepal_length</th>\n",
       "      <th>sepal_width</th>\n",
       "      <th>petal_length</th>\n",
       "      <th>petal_width</th>\n",
       "    </tr>\n",
       "  </thead>\n",
       "  <tbody>\n",
       "    <tr>\n",
       "      <th>33</th>\n",
       "      <td>5.5</td>\n",
       "      <td>4.2</td>\n",
       "      <td>1.4</td>\n",
       "      <td>0.2</td>\n",
       "    </tr>\n",
       "  </tbody>\n",
       "</table>\n",
       "</div>"
      ],
      "text/plain": [
       "    sepal_length  sepal_width  petal_length  petal_width\n",
       "33           5.5          4.2           1.4          0.2"
      ]
     },
     "execution_count": 15,
     "metadata": {},
     "output_type": "execute_result"
    }
   ],
   "source": [
    "X_train.head(1)"
   ]
  },
  {
   "cell_type": "code",
   "execution_count": 16,
   "metadata": {},
   "outputs": [
    {
     "data": {
      "text/plain": [
       "(9.394314200000004, -4.718412539000001, -41.63871687300001)"
      ]
     },
     "execution_count": 16,
     "metadata": {},
     "output_type": "execute_result"
    }
   ],
   "source": [
    "reg(5.5, 4.2, 1.4, 0.2) # 로짓 반환"
   ]
  },
  {
   "cell_type": "code",
   "execution_count": 17,
   "metadata": {},
   "outputs": [
    {
     "data": {
      "text/plain": [
       "array([1.20198436e+04, 8.92934229e-03, 8.25154037e-19])"
      ]
     },
     "execution_count": 17,
     "metadata": {},
     "output_type": "execute_result"
    }
   ],
   "source": [
    "import numpy as np\n",
    "np.exp(reg(5.5, 4.2, 1.4, 0.2)) # 오즈비"
   ]
  },
  {
   "cell_type": "code",
   "execution_count": 18,
   "metadata": {},
   "outputs": [
    {
     "data": {
      "text/plain": [
       "[0.999916811162904]"
      ]
     },
     "execution_count": 18,
     "metadata": {},
     "output_type": "execute_result"
    }
   ],
   "source": [
    "# 오즈비를 원래 특정 클래스일 확률로 반환\n",
    "from sympy import Symbol, solve\n",
    "x = Symbol('x')\n",
    "e = x/(1-x)-1.20198436e+04\n",
    "solve(e) # 0일 확률"
   ]
  },
  {
   "cell_type": "code",
   "execution_count": 19,
   "metadata": {},
   "outputs": [
    {
     "data": {
      "text/plain": [
       "[0.00885031479977852]"
      ]
     },
     "execution_count": 19,
     "metadata": {},
     "output_type": "execute_result"
    }
   ],
   "source": [
    "e = x/(1-x)-8.92934229e-03\n",
    "solve(e) # 1일 확률"
   ]
  },
  {
   "cell_type": "code",
   "execution_count": 20,
   "metadata": {},
   "outputs": [
    {
     "data": {
      "text/plain": [
       "[8.25154037000000e-19]"
      ]
     },
     "execution_count": 20,
     "metadata": {},
     "output_type": "execute_result"
    }
   ],
   "source": [
    "e = x/(1-x)-8.25154037e-19\n",
    "solve(e) # 2일 확률"
   ]
  },
  {
   "cell_type": "code",
   "execution_count": 21,
   "metadata": {},
   "outputs": [
    {
     "data": {
      "text/html": [
       "<div>\n",
       "<style scoped>\n",
       "    .dataframe tbody tr th:only-of-type {\n",
       "        vertical-align: middle;\n",
       "    }\n",
       "\n",
       "    .dataframe tbody tr th {\n",
       "        vertical-align: top;\n",
       "    }\n",
       "\n",
       "    .dataframe thead th {\n",
       "        text-align: right;\n",
       "    }\n",
       "</style>\n",
       "<table border=\"1\" class=\"dataframe\">\n",
       "  <thead>\n",
       "    <tr style=\"text-align: right;\">\n",
       "      <th></th>\n",
       "      <th>sepal_length</th>\n",
       "      <th>sepal_width</th>\n",
       "      <th>petal_length</th>\n",
       "      <th>petal_width</th>\n",
       "    </tr>\n",
       "  </thead>\n",
       "  <tbody>\n",
       "    <tr>\n",
       "      <th>148</th>\n",
       "      <td>6.2</td>\n",
       "      <td>3.4</td>\n",
       "      <td>5.4</td>\n",
       "      <td>2.3</td>\n",
       "    </tr>\n",
       "  </tbody>\n",
       "</table>\n",
       "</div>"
      ],
      "text/plain": [
       "     sepal_length  sepal_width  petal_length  petal_width\n",
       "148           6.2          3.4           5.4          2.3"
      ]
     },
     "execution_count": 21,
     "metadata": {},
     "output_type": "execute_result"
    }
   ],
   "source": [
    "## test에도 적용\n",
    "X_test.head(1)"
   ]
  },
  {
   "cell_type": "code",
   "execution_count": 22,
   "metadata": {},
   "outputs": [
    {
     "data": {
      "text/plain": [
       "(-15.576880196000003, -2.340020361999998, 6.972535324999992)"
      ]
     },
     "execution_count": 22,
     "metadata": {},
     "output_type": "execute_result"
    }
   ],
   "source": [
    "reg(6.2, 3.4, 5.4, 2.3) # 로짓 반환"
   ]
  },
  {
   "cell_type": "code",
   "execution_count": 23,
   "metadata": {},
   "outputs": [
    {
     "data": {
      "text/plain": [
       "array([1.71809386e-07, 9.63256768e-02, 1.06692432e+03])"
      ]
     },
     "execution_count": 23,
     "metadata": {},
     "output_type": "execute_result"
    }
   ],
   "source": [
    "np.exp(reg(6.2, 3.4, 5.4, 2.3)) # 오즈비"
   ]
  },
  {
   "cell_type": "code",
   "execution_count": 24,
   "metadata": {},
   "outputs": [
    {
     "data": {
      "text/plain": [
       "[1.71809356481540e-7]"
      ]
     },
     "execution_count": 24,
     "metadata": {},
     "output_type": "execute_result"
    }
   ],
   "source": [
    "# 오즈비를 원래 특정 클래스일 확률로 반환\n",
    "from sympy import Symbol, solve\n",
    "x = Symbol('x')\n",
    "e = x/(1-x)-1.71809386e-07\n",
    "solve(e) # 0일 확률"
   ]
  },
  {
   "cell_type": "code",
   "execution_count": 25,
   "metadata": {},
   "outputs": [
    {
     "data": {
      "text/plain": [
       "[0.0878622829314363]"
      ]
     },
     "execution_count": 25,
     "metadata": {},
     "output_type": "execute_result"
    }
   ],
   "source": [
    "e = x/(1-x)-9.63256768e-02\n",
    "solve(e) # 1일 확률"
   ]
  },
  {
   "cell_type": "code",
   "execution_count": 26,
   "metadata": {},
   "outputs": [
    {
     "data": {
      "text/plain": [
       "[0.999063604057636]"
      ]
     },
     "execution_count": 26,
     "metadata": {},
     "output_type": "execute_result"
    }
   ],
   "source": [
    "e = x/(1-x)-1.06692432e+03\n",
    "solve(e) # 2일 확률"
   ]
  },
  {
   "cell_type": "code",
   "execution_count": 27,
   "metadata": {},
   "outputs": [
    {
     "data": {
      "text/plain": [
       "array([27, 35, 48])"
      ]
     },
     "execution_count": 27,
     "metadata": {},
     "output_type": "execute_result"
    }
   ],
   "source": [
    "model.n_iter_ # 모든 클래스의 실제 반복 횟수(최대 반복 횟수)"
   ]
  },
  {
   "cell_type": "code",
   "execution_count": 28,
   "metadata": {},
   "outputs": [
    {
     "data": {
      "text/plain": [
       "array([[1.58069040e-07, 8.08355630e-02, 9.19164279e-01],\n",
       "       [9.80729791e-01, 1.92702092e-02, 1.44032616e-16],\n",
       "       [8.83660214e-01, 1.16339786e-01, 1.09742723e-16],\n",
       "       [1.10125474e-05, 6.10622960e-01, 3.89366027e-01],\n",
       "       [1.69869263e-04, 9.94696666e-01, 5.13346497e-03],\n",
       "       [7.65303285e-04, 9.98919084e-01, 3.15612351e-04],\n",
       "       [4.03691928e-09, 4.28567973e-01, 5.71432023e-01],\n",
       "       [5.07742209e-06, 8.14485670e-01, 1.85509252e-01],\n",
       "       [8.00002036e-08, 3.16688640e-01, 6.83311280e-01],\n",
       "       [9.91128631e-01, 8.87136898e-03, 1.20346744e-17],\n",
       "       [9.97148889e-01, 2.85111127e-03, 4.21901923e-18],\n",
       "       [2.28924732e-06, 3.19034489e-01, 6.80963222e-01],\n",
       "       [6.89581599e-01, 3.10418401e-01, 2.90930891e-16],\n",
       "       [1.52492478e-02, 9.84749671e-01, 1.08088826e-06],\n",
       "       [8.07211691e-01, 1.92788309e-01, 8.42868808e-17],\n",
       "       [7.18717065e-06, 9.42309349e-01, 5.76834635e-02],\n",
       "       [2.12044592e-07, 3.19013917e-02, 9.68098396e-01],\n",
       "       [7.07371228e-05, 9.78558134e-01, 2.13711289e-02],\n",
       "       [1.94951287e-04, 9.98675070e-01, 1.12997911e-03],\n",
       "       [2.27510138e-07, 1.61172569e-01, 8.38827203e-01],\n",
       "       [4.30955511e-09, 1.77118698e-01, 8.22881298e-01],\n",
       "       [7.56297862e-01, 2.43702138e-01, 5.65977643e-17],\n",
       "       [2.64680894e-04, 9.95452987e-01, 4.28233186e-03],\n",
       "       [1.00221824e-06, 3.12925085e-01, 6.87073913e-01],\n",
       "       [1.76393027e-04, 9.98602555e-01, 1.22105211e-03],\n",
       "       [7.05452863e-05, 9.06547158e-01, 9.33822967e-02],\n",
       "       [7.73636042e-02, 9.22636021e-01, 3.74981556e-07],\n",
       "       [1.50969648e-08, 4.96074253e-02, 9.50392560e-01],\n",
       "       [9.62820637e-01, 3.71793632e-02, 3.99433357e-15],\n",
       "       [2.73474807e-07, 3.81956286e-01, 6.18043440e-01],\n",
       "       [8.46092112e-01, 1.53907888e-01, 1.14846963e-16],\n",
       "       [9.34517472e-01, 6.54825282e-02, 1.90066694e-17],\n",
       "       [1.63619574e-04, 9.99756496e-01, 7.98847546e-05],\n",
       "       [1.77256033e-04, 9.98154399e-01, 1.66834512e-03],\n",
       "       [6.29875253e-10, 3.64351807e-01, 6.35648193e-01],\n",
       "       [3.69154956e-08, 1.41687867e-01, 8.58312096e-01],\n",
       "       [9.08794902e-01, 9.12050983e-02, 5.29443008e-18],\n",
       "       [7.82127493e-01, 2.17872507e-01, 4.71001880e-16],\n",
       "       [8.11503233e-01, 1.88496767e-01, 1.52085435e-16],\n",
       "       [6.77427342e-05, 9.84543921e-01, 1.53883368e-02],\n",
       "       [1.49470244e-08, 7.65785913e-02, 9.23421394e-01],\n",
       "       [7.33676038e-07, 3.47058545e-01, 6.52940721e-01],\n",
       "       [2.19235342e-05, 9.34255710e-01, 6.57223665e-02],\n",
       "       [8.94724731e-01, 1.05275269e-01, 5.55078044e-17],\n",
       "       [7.77703179e-01, 2.22296821e-01, 6.63591159e-17]])"
      ]
     },
     "execution_count": 28,
     "metadata": {},
     "output_type": "execute_result"
    }
   ],
   "source": [
    "# 클래스에 속할 확률 반환. (시그모이드 함수를 적용해 계산한 확률)\n",
    "model.predict_proba(X_test) # 각각 0, 1, 2일 확률임. "
   ]
  },
  {
   "cell_type": "code",
   "execution_count": 29,
   "metadata": {},
   "outputs": [],
   "source": [
    "c = model.predict_proba(X_test)"
   ]
  },
  {
   "cell_type": "code",
   "execution_count": 30,
   "metadata": {},
   "outputs": [],
   "source": [
    "import pandas as pd\n",
    "c_df = pd.DataFrame(c, columns=list('123'))"
   ]
  },
  {
   "cell_type": "code",
   "execution_count": 31,
   "metadata": {},
   "outputs": [],
   "source": [
    "c_df['sum'] = c_df['1'] + c_df['2'] + c_df['3']"
   ]
  },
  {
   "cell_type": "code",
   "execution_count": 32,
   "metadata": {},
   "outputs": [],
   "source": [
    "c_df['pred'] = [np.argmax(line) for line in np.array(c)]"
   ]
  },
  {
   "cell_type": "code",
   "execution_count": 33,
   "metadata": {},
   "outputs": [
    {
     "data": {
      "text/html": [
       "<div>\n",
       "<style scoped>\n",
       "    .dataframe tbody tr th:only-of-type {\n",
       "        vertical-align: middle;\n",
       "    }\n",
       "\n",
       "    .dataframe tbody tr th {\n",
       "        vertical-align: top;\n",
       "    }\n",
       "\n",
       "    .dataframe thead th {\n",
       "        text-align: right;\n",
       "    }\n",
       "</style>\n",
       "<table border=\"1\" class=\"dataframe\">\n",
       "  <thead>\n",
       "    <tr style=\"text-align: right;\">\n",
       "      <th></th>\n",
       "      <th>1</th>\n",
       "      <th>2</th>\n",
       "      <th>3</th>\n",
       "      <th>sum</th>\n",
       "      <th>pred</th>\n",
       "    </tr>\n",
       "  </thead>\n",
       "  <tbody>\n",
       "    <tr>\n",
       "      <th>0</th>\n",
       "      <td>1.580690e-07</td>\n",
       "      <td>0.080836</td>\n",
       "      <td>9.191643e-01</td>\n",
       "      <td>1.0</td>\n",
       "      <td>2</td>\n",
       "    </tr>\n",
       "    <tr>\n",
       "      <th>1</th>\n",
       "      <td>9.807298e-01</td>\n",
       "      <td>0.019270</td>\n",
       "      <td>1.440326e-16</td>\n",
       "      <td>1.0</td>\n",
       "      <td>0</td>\n",
       "    </tr>\n",
       "    <tr>\n",
       "      <th>2</th>\n",
       "      <td>8.836602e-01</td>\n",
       "      <td>0.116340</td>\n",
       "      <td>1.097427e-16</td>\n",
       "      <td>1.0</td>\n",
       "      <td>0</td>\n",
       "    </tr>\n",
       "    <tr>\n",
       "      <th>3</th>\n",
       "      <td>1.101255e-05</td>\n",
       "      <td>0.610623</td>\n",
       "      <td>3.893660e-01</td>\n",
       "      <td>1.0</td>\n",
       "      <td>1</td>\n",
       "    </tr>\n",
       "    <tr>\n",
       "      <th>4</th>\n",
       "      <td>1.698693e-04</td>\n",
       "      <td>0.994697</td>\n",
       "      <td>5.133465e-03</td>\n",
       "      <td>1.0</td>\n",
       "      <td>1</td>\n",
       "    </tr>\n",
       "  </tbody>\n",
       "</table>\n",
       "</div>"
      ],
      "text/plain": [
       "              1         2             3  sum  pred\n",
       "0  1.580690e-07  0.080836  9.191643e-01  1.0     2\n",
       "1  9.807298e-01  0.019270  1.440326e-16  1.0     0\n",
       "2  8.836602e-01  0.116340  1.097427e-16  1.0     0\n",
       "3  1.101255e-05  0.610623  3.893660e-01  1.0     1\n",
       "4  1.698693e-04  0.994697  5.133465e-03  1.0     1"
      ]
     },
     "execution_count": 33,
     "metadata": {},
     "output_type": "execute_result"
    }
   ],
   "source": [
    "c_df.head()"
   ]
  },
  {
   "cell_type": "code",
   "execution_count": 34,
   "metadata": {},
   "outputs": [
    {
     "data": {
      "text/plain": [
       "array([2, 0, 0, 1, 1, 1, 2, 1, 2, 0, 0, 2, 0, 1, 0, 1, 2, 1, 1, 2, 2, 0,\n",
       "       1, 2, 1, 1, 1, 2, 0, 2, 0, 0, 1, 1, 2, 2, 0, 0, 0, 1, 2, 2, 1, 0,\n",
       "       0])"
      ]
     },
     "execution_count": 34,
     "metadata": {},
     "output_type": "execute_result"
    }
   ],
   "source": [
    "ovr_pred= model.predict(X_test) # target으로는 똑같이 argmax 값을 반환함.\n",
    "ovr_pred"
   ]
  },
  {
   "cell_type": "markdown",
   "metadata": {},
   "source": [
    "## Multinomial - softmax\n",
    "- 로지스틱은 여러개의 이진분류기를 연결하는 것과 더불어, 직접 다중클래스를 지원함. \n",
    "- 이를 소프트맥스 회귀 / 다항 로지스틱 회귀라고 함. \n",
    "\n",
    "### Process\n",
    "소프트맥스 회귀모델이 각 클래스 k에 대한 **점수를 계산**하고, 그 점수에 **소프트맥스 함수**를 적용해 각 클래스의 확률을 추정한 후 가장 높은 확률 선택.    \n",
    "> 1) 점수를 계산하는 식은 선형 회귀 예측식과 비슷한데, 각 클래스마다 자신만의 **파라미터 벡터**가 있고, 샘플 X에 대해 선형으로 결합되어 있음. (회귀랑 똑같음)    \n",
    "> 2) 이 점수를 소프트맥스 함수에 통과시켜 각 클래스 확률을 추정함.      \n",
    "> 3) 이러한 추정확률이 가장 높은 클래스를 선택함.    \n",
    ">> **Sortmax 함수** : 각 점수에 exp를 취한 후, 정규화함(모든 지수함수 결과의 합으로 나눔)       \n"
   ]
  },
  {
   "cell_type": "code",
   "execution_count": 35,
   "metadata": {},
   "outputs": [],
   "source": [
    "# Logistic regression\n",
    "import warnings\n",
    "warnings.filterwarnings('ignore')\n",
    "\n",
    "from sklearn.linear_model import LogisticRegression\n",
    "Logit = LogisticRegression(C=1e2, random_state=1, multi_class='multinomial') \n",
    "model=Logit.fit(X_train, y_train)\n",
    "y_train_pred = Logit.predict(X_train)\n",
    "y_test_pred = Logit.predict(X_test)"
   ]
  },
  {
   "cell_type": "code",
   "execution_count": 36,
   "metadata": {},
   "outputs": [
    {
     "data": {
      "text/plain": [
       "array([[-0.12719837,  2.25944687, -6.18925133, -3.38970816],\n",
       "       [ 0.56950349,  1.12009438, -0.14751722, -3.61616035],\n",
       "       [-0.44230512, -3.37954125,  6.33676855,  7.00586852]])"
      ]
     },
     "execution_count": 36,
     "metadata": {},
     "output_type": "execute_result"
    }
   ],
   "source": [
    "model.coef_ # 각 클래스에 대한 점수를 계산함. (회귀식과 비슷)"
   ]
  },
  {
   "cell_type": "code",
   "execution_count": 37,
   "metadata": {},
   "outputs": [
    {
     "data": {
      "text/plain": [
       "array([ 20.99972641,   4.79543305, -25.79515947])"
      ]
     },
     "execution_count": 37,
     "metadata": {},
     "output_type": "execute_result"
    }
   ],
   "source": [
    "model.intercept_"
   ]
  },
  {
   "cell_type": "code",
   "execution_count": 38,
   "metadata": {},
   "outputs": [],
   "source": [
    "def score(x1, x2, x3, x4):\n",
    "    y1 = 20.99972641 -0.12719837*x1 + 2.25944687*x2 -6.18925133*x3  -3.38970816*x4\n",
    "    y2 = 4.79543305 +0.56950349*x1 + 1.12009438*x2 -0.14751722*x3 -3.61616035*x4\n",
    "    y3 = -25.79515947 -0.44230512*x1 -3.37954125*x2 +6.33676855*x3 +7.00586852*x4\n",
    "    return(y1, y2, y3)"
   ]
  },
  {
   "cell_type": "code",
   "execution_count": 39,
   "metadata": {},
   "outputs": [
    {
     "data": {
      "text/html": [
       "<div>\n",
       "<style scoped>\n",
       "    .dataframe tbody tr th:only-of-type {\n",
       "        vertical-align: middle;\n",
       "    }\n",
       "\n",
       "    .dataframe tbody tr th {\n",
       "        vertical-align: top;\n",
       "    }\n",
       "\n",
       "    .dataframe thead th {\n",
       "        text-align: right;\n",
       "    }\n",
       "</style>\n",
       "<table border=\"1\" class=\"dataframe\">\n",
       "  <thead>\n",
       "    <tr style=\"text-align: right;\">\n",
       "      <th></th>\n",
       "      <th>sepal_length</th>\n",
       "      <th>sepal_width</th>\n",
       "      <th>petal_length</th>\n",
       "      <th>petal_width</th>\n",
       "    </tr>\n",
       "  </thead>\n",
       "  <tbody>\n",
       "    <tr>\n",
       "      <th>148</th>\n",
       "      <td>6.2</td>\n",
       "      <td>3.4</td>\n",
       "      <td>5.4</td>\n",
       "      <td>2.3</td>\n",
       "    </tr>\n",
       "  </tbody>\n",
       "</table>\n",
       "</div>"
      ],
      "text/plain": [
       "     sepal_length  sepal_width  petal_length  petal_width\n",
       "148           6.2          3.4           5.4          2.3"
      ]
     },
     "execution_count": 39,
     "metadata": {},
     "output_type": "execute_result"
    }
   ],
   "source": [
    "X_test.head(1)"
   ]
  },
  {
   "cell_type": "code",
   "execution_count": 40,
   "metadata": {},
   "outputs": [
    {
     "data": {
      "text/plain": [
       "(-13.325070076000003, 3.0209137869999996, 10.304156302000006)"
      ]
     },
     "execution_count": 40,
     "metadata": {},
     "output_type": "execute_result"
    }
   ],
   "source": [
    "score(6.2, 3.4, 5.4, 2.3) # 각 클래스에 대한 score"
   ]
  },
  {
   "cell_type": "code",
   "execution_count": 41,
   "metadata": {},
   "outputs": [
    {
     "data": {
      "text/plain": [
       "array([1.63303538e-06, 2.05100249e+01, 2.98564538e+04])"
      ]
     },
     "execution_count": 41,
     "metadata": {},
     "output_type": "execute_result"
    }
   ],
   "source": [
    "# 이들을 softmax에 통과시킴. \n",
    "np.exp(score(6.2, 3.4, 5.4, 2.3))"
   ]
  },
  {
   "cell_type": "code",
   "execution_count": 42,
   "metadata": {},
   "outputs": [
    {
     "data": {
      "text/plain": [
       "array([5.46586793e-11, 6.86482905e-04, 9.99313516e-01])"
      ]
     },
     "execution_count": 42,
     "metadata": {},
     "output_type": "execute_result"
    }
   ],
   "source": [
    "# softmax 식 직접 구현 \n",
    "np.exp(score(6.2, 3.4, 5.4, 2.3))/(1.63303538e-06 + 2.05100249e+01 + 2.98564538e+04)"
   ]
  },
  {
   "cell_type": "code",
   "execution_count": 43,
   "metadata": {},
   "outputs": [
    {
     "data": {
      "text/plain": [
       "array([100])"
      ]
     },
     "execution_count": 43,
     "metadata": {},
     "output_type": "execute_result"
    }
   ],
   "source": [
    "model.n_iter_"
   ]
  },
  {
   "cell_type": "code",
   "execution_count": 44,
   "metadata": {},
   "outputs": [
    {
     "data": {
      "text/plain": [
       "array([[5.46586752e-11, 6.86482851e-04, 9.99313517e-01],\n",
       "       [9.98776983e-01, 1.22301679e-03, 2.75778165e-20],\n",
       "       [9.99793039e-01, 2.06961419e-04, 4.91476679e-21],\n",
       "       [5.55580351e-06, 3.91931500e-01, 6.08062944e-01],\n",
       "       [1.30970452e-05, 9.99354753e-01, 6.32150027e-04],\n",
       "       [1.61957236e-04, 9.99771393e-01, 6.66501836e-05],\n",
       "       [4.82554481e-13, 3.00515629e-04, 9.99699484e-01],\n",
       "       [3.26458832e-06, 8.38979511e-01, 1.61017224e-01],\n",
       "       [2.50520538e-10, 4.80450254e-03, 9.95195497e-01],\n",
       "       [9.99890766e-01, 1.09234478e-04, 1.84098980e-22],\n",
       "       [9.99745059e-01, 2.54941001e-04, 1.22303506e-22],\n",
       "       [3.44178464e-07, 3.47256418e-01, 6.52743238e-01],\n",
       "       [9.99674489e-01, 3.25510561e-04, 3.10340027e-20],\n",
       "       [1.49737334e-02, 9.85025676e-01, 5.90382135e-07],\n",
       "       [9.99734135e-01, 2.65865141e-04, 5.36783865e-21],\n",
       "       [7.96337873e-07, 9.83282017e-01, 1.67171867e-02],\n",
       "       [5.36975368e-10, 2.52350058e-03, 9.97476499e-01],\n",
       "       [1.45648536e-05, 9.90451452e-01, 9.53398292e-03],\n",
       "       [2.40400665e-05, 9.99756488e-01, 2.19471522e-04],\n",
       "       [1.72171923e-09, 1.34386789e-02, 9.86561319e-01],\n",
       "       [1.15996943e-13, 9.23154964e-05, 9.99907685e-01],\n",
       "       [9.99607429e-01, 3.92571440e-04, 5.50423172e-21],\n",
       "       [1.36934690e-05, 9.99621907e-01, 3.64399072e-04],\n",
       "       [1.79537540e-08, 1.53471764e-02, 9.84652806e-01],\n",
       "       [6.11258380e-05, 9.99305085e-01, 6.33789130e-04],\n",
       "       [3.83317436e-06, 9.87157840e-01, 1.28383270e-02],\n",
       "       [8.49737830e-02, 9.15026099e-01, 1.18113587e-07],\n",
       "       [1.06300585e-13, 1.24100271e-05, 9.99987590e-01],\n",
       "       [9.99237096e-01, 7.62904485e-04, 6.82405163e-19],\n",
       "       [9.88212498e-10, 2.33246139e-03, 9.97667538e-01],\n",
       "       [9.99185758e-01, 8.14241672e-04, 1.99706096e-20],\n",
       "       [9.99732389e-01, 2.67610517e-04, 8.44655681e-22],\n",
       "       [8.19047308e-05, 9.99872768e-01, 4.53274483e-05],\n",
       "       [1.39018496e-04, 9.98702007e-01, 1.15897419e-03],\n",
       "       [1.06006291e-14, 1.30381720e-04, 9.99869618e-01],\n",
       "       [1.58135216e-11, 9.11019802e-04, 9.99088980e-01],\n",
       "       [9.99787497e-01, 2.12503264e-04, 1.81009417e-22],\n",
       "       [9.98524611e-01, 1.47538858e-03, 1.78783159e-19],\n",
       "       [9.99588535e-01, 4.11465262e-04, 1.50826533e-20],\n",
       "       [2.03094239e-06, 9.98799014e-01, 1.19895505e-03],\n",
       "       [5.15140667e-13, 8.10640885e-05, 9.99918936e-01],\n",
       "       [3.61346556e-08, 1.06182785e-01, 8.93817179e-01],\n",
       "       [3.35709768e-06, 9.82108616e-01, 1.78880266e-02],\n",
       "       [9.99488306e-01, 5.11694069e-04, 5.35987731e-21],\n",
       "       [9.99313001e-01, 6.86998628e-04, 1.06165608e-20]])"
      ]
     },
     "execution_count": 44,
     "metadata": {},
     "output_type": "execute_result"
    }
   ],
   "source": [
    "model.predict_proba(X_test) \n",
    "# 각 클래스에 softmax를 적용한 확률값 도출. \n",
    "# 정규화의 효과로 row별 각 클래스의 합은 1이 나옴. "
   ]
  },
  {
   "cell_type": "code",
   "execution_count": 45,
   "metadata": {},
   "outputs": [],
   "source": [
    "b = model.predict_proba(X_test) "
   ]
  },
  {
   "cell_type": "code",
   "execution_count": 46,
   "metadata": {},
   "outputs": [],
   "source": [
    "import pandas as pd\n",
    "import numpy as np\n",
    "b_df= pd.DataFrame(b, columns=list('123'))"
   ]
  },
  {
   "cell_type": "code",
   "execution_count": 47,
   "metadata": {},
   "outputs": [],
   "source": [
    "b_df['sum'] = b_df['1'] + b_df['2'] + b_df['3']"
   ]
  },
  {
   "cell_type": "code",
   "execution_count": 48,
   "metadata": {},
   "outputs": [],
   "source": [
    "b_df['pred'] = [np.argmax(line) for line in np.array(b)]"
   ]
  },
  {
   "cell_type": "code",
   "execution_count": 49,
   "metadata": {},
   "outputs": [
    {
     "data": {
      "text/html": [
       "<div>\n",
       "<style scoped>\n",
       "    .dataframe tbody tr th:only-of-type {\n",
       "        vertical-align: middle;\n",
       "    }\n",
       "\n",
       "    .dataframe tbody tr th {\n",
       "        vertical-align: top;\n",
       "    }\n",
       "\n",
       "    .dataframe thead th {\n",
       "        text-align: right;\n",
       "    }\n",
       "</style>\n",
       "<table border=\"1\" class=\"dataframe\">\n",
       "  <thead>\n",
       "    <tr style=\"text-align: right;\">\n",
       "      <th></th>\n",
       "      <th>1</th>\n",
       "      <th>2</th>\n",
       "      <th>3</th>\n",
       "      <th>sum</th>\n",
       "      <th>pred</th>\n",
       "    </tr>\n",
       "  </thead>\n",
       "  <tbody>\n",
       "    <tr>\n",
       "      <th>0</th>\n",
       "      <td>5.465868e-11</td>\n",
       "      <td>0.000686</td>\n",
       "      <td>9.993135e-01</td>\n",
       "      <td>1.0</td>\n",
       "      <td>2</td>\n",
       "    </tr>\n",
       "    <tr>\n",
       "      <th>1</th>\n",
       "      <td>9.987770e-01</td>\n",
       "      <td>0.001223</td>\n",
       "      <td>2.757782e-20</td>\n",
       "      <td>1.0</td>\n",
       "      <td>0</td>\n",
       "    </tr>\n",
       "    <tr>\n",
       "      <th>2</th>\n",
       "      <td>9.997930e-01</td>\n",
       "      <td>0.000207</td>\n",
       "      <td>4.914767e-21</td>\n",
       "      <td>1.0</td>\n",
       "      <td>0</td>\n",
       "    </tr>\n",
       "    <tr>\n",
       "      <th>3</th>\n",
       "      <td>5.555804e-06</td>\n",
       "      <td>0.391931</td>\n",
       "      <td>6.080629e-01</td>\n",
       "      <td>1.0</td>\n",
       "      <td>2</td>\n",
       "    </tr>\n",
       "    <tr>\n",
       "      <th>4</th>\n",
       "      <td>1.309705e-05</td>\n",
       "      <td>0.999355</td>\n",
       "      <td>6.321500e-04</td>\n",
       "      <td>1.0</td>\n",
       "      <td>1</td>\n",
       "    </tr>\n",
       "  </tbody>\n",
       "</table>\n",
       "</div>"
      ],
      "text/plain": [
       "              1         2             3  sum  pred\n",
       "0  5.465868e-11  0.000686  9.993135e-01  1.0     2\n",
       "1  9.987770e-01  0.001223  2.757782e-20  1.0     0\n",
       "2  9.997930e-01  0.000207  4.914767e-21  1.0     0\n",
       "3  5.555804e-06  0.391931  6.080629e-01  1.0     2\n",
       "4  1.309705e-05  0.999355  6.321500e-04  1.0     1"
      ]
     },
     "execution_count": 49,
     "metadata": {},
     "output_type": "execute_result"
    }
   ],
   "source": [
    "b_df.head() # 각 클래스의 최대 확률 값을 target으로 반환함. "
   ]
  },
  {
   "cell_type": "code",
   "execution_count": 50,
   "metadata": {},
   "outputs": [
    {
     "data": {
      "text/plain": [
       "array([2, 0, 0, 2, 1, 1, 2, 1, 2, 0, 0, 2, 0, 1, 0, 1, 2, 1, 1, 2, 2, 0,\n",
       "       1, 2, 1, 1, 1, 2, 0, 2, 0, 0, 1, 1, 2, 2, 0, 0, 0, 1, 2, 2, 1, 0,\n",
       "       0])"
      ]
     },
     "execution_count": 50,
     "metadata": {},
     "output_type": "execute_result"
    }
   ],
   "source": [
    "multi_pred = model.predict(X_test)\n",
    "multi_pred"
   ]
  },
  {
   "cell_type": "markdown",
   "metadata": {},
   "source": [
    "## 성능 비교"
   ]
  },
  {
   "cell_type": "code",
   "execution_count": 53,
   "metadata": {},
   "outputs": [
    {
     "name": "stdout",
     "output_type": "stream",
     "text": [
      "[2 0 0 1 1 1 2 1 2 0 0 2 0 1 0 1 2 1 1 2 2 0 1 2 1 1 1 2 0 2 0 0 1 1 2 2 0\n",
      " 0 0 1 2 2 1 0 0]\n",
      "[2 0 0 2 1 1 2 1 2 0 0 2 0 1 0 1 2 1 1 2 2 0 1 2 1 1 1 2 0 2 0 0 1 1 2 2 0\n",
      " 0 0 1 2 2 1 0 0]\n"
     ]
    }
   ],
   "source": [
    "print(ovr_pred)\n",
    "print(multi_pred)"
   ]
  },
  {
   "cell_type": "code",
   "execution_count": 61,
   "metadata": {},
   "outputs": [
    {
     "name": "stdout",
     "output_type": "stream",
     "text": [
      "ovr_accuracy =  0.9777777777777777\n",
      "multi_accuracy =  1.0\n"
     ]
    }
   ],
   "source": [
    "from sklearn.metrics import accuracy_score, confusion_matrix\n",
    "print('ovr_accuracy = ', str(accuracy_score(y_test, ovr_pred)))\n",
    "print('multi_accuracy = ', str(accuracy_score(y_test, multi_pred)))"
   ]
  },
  {
   "cell_type": "code",
   "execution_count": 62,
   "metadata": {},
   "outputs": [
    {
     "name": "stdout",
     "output_type": "stream",
     "text": [
      "ovr_score =  [[15  0  0]\n",
      " [ 0 15  0]\n",
      " [ 0  1 14]]\n",
      "multi_score =  [[15  0  0]\n",
      " [ 0 15  0]\n",
      " [ 0  0 15]]\n"
     ]
    }
   ],
   "source": [
    "print('ovr_score = ', str(confusion_matrix(y_test, ovr_pred)))\n",
    "print('multi_score = ', str(confusion_matrix(y_test, multi_pred)))"
   ]
  }
 ],
 "metadata": {
  "kernelspec": {
   "display_name": "Python 3",
   "language": "python",
   "name": "python3"
  },
  "language_info": {
   "codemirror_mode": {
    "name": "ipython",
    "version": 3
   },
   "file_extension": ".py",
   "mimetype": "text/x-python",
   "name": "python",
   "nbconvert_exporter": "python",
   "pygments_lexer": "ipython3",
   "version": "3.7.7"
  }
 },
 "nbformat": 4,
 "nbformat_minor": 4
}
