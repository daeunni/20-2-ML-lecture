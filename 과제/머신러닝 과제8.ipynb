{
 "cells": [
  {
   "cell_type": "markdown",
   "metadata": {},
   "source": [
    "# 과제 8\n",
    "1. p141의 wine_data를 이용하여 MDS, LLE, Isomap, t-SNE의 성능을 비교하라.   \n",
    "> 각 method로 차원 축소 후 logistic으로 성능 측정"
   ]
  },
  {
   "cell_type": "code",
   "execution_count": 1,
   "metadata": {},
   "outputs": [
    {
     "name": "stdout",
     "output_type": "stream",
     "text": [
      "class label: [1 2 3]\n"
     ]
    },
    {
     "data": {
      "text/html": [
       "<div>\n",
       "<style scoped>\n",
       "    .dataframe tbody tr th:only-of-type {\n",
       "        vertical-align: middle;\n",
       "    }\n",
       "\n",
       "    .dataframe tbody tr th {\n",
       "        vertical-align: top;\n",
       "    }\n",
       "\n",
       "    .dataframe thead th {\n",
       "        text-align: right;\n",
       "    }\n",
       "</style>\n",
       "<table border=\"1\" class=\"dataframe\">\n",
       "  <thead>\n",
       "    <tr style=\"text-align: right;\">\n",
       "      <th></th>\n",
       "      <th>class label</th>\n",
       "      <th>alchohol</th>\n",
       "      <th>malic acid</th>\n",
       "      <th>ash</th>\n",
       "      <th>alcalinity of ash</th>\n",
       "      <th>magnesium</th>\n",
       "      <th>total phenols</th>\n",
       "      <th>flavanoids</th>\n",
       "      <th>nonflavanoid phenols</th>\n",
       "      <th>proanthocyanins</th>\n",
       "      <th>color intensity</th>\n",
       "      <th>hue</th>\n",
       "      <th>OD208</th>\n",
       "      <th>proline</th>\n",
       "    </tr>\n",
       "  </thead>\n",
       "  <tbody>\n",
       "    <tr>\n",
       "      <th>0</th>\n",
       "      <td>1</td>\n",
       "      <td>14.23</td>\n",
       "      <td>1.71</td>\n",
       "      <td>2.43</td>\n",
       "      <td>15.6</td>\n",
       "      <td>127</td>\n",
       "      <td>2.80</td>\n",
       "      <td>3.06</td>\n",
       "      <td>0.28</td>\n",
       "      <td>2.29</td>\n",
       "      <td>5.64</td>\n",
       "      <td>1.04</td>\n",
       "      <td>3.92</td>\n",
       "      <td>1065</td>\n",
       "    </tr>\n",
       "    <tr>\n",
       "      <th>1</th>\n",
       "      <td>1</td>\n",
       "      <td>13.20</td>\n",
       "      <td>1.78</td>\n",
       "      <td>2.14</td>\n",
       "      <td>11.2</td>\n",
       "      <td>100</td>\n",
       "      <td>2.65</td>\n",
       "      <td>2.76</td>\n",
       "      <td>0.26</td>\n",
       "      <td>1.28</td>\n",
       "      <td>4.38</td>\n",
       "      <td>1.05</td>\n",
       "      <td>3.40</td>\n",
       "      <td>1050</td>\n",
       "    </tr>\n",
       "    <tr>\n",
       "      <th>2</th>\n",
       "      <td>1</td>\n",
       "      <td>13.16</td>\n",
       "      <td>2.36</td>\n",
       "      <td>2.67</td>\n",
       "      <td>18.6</td>\n",
       "      <td>101</td>\n",
       "      <td>2.80</td>\n",
       "      <td>3.24</td>\n",
       "      <td>0.30</td>\n",
       "      <td>2.81</td>\n",
       "      <td>5.68</td>\n",
       "      <td>1.03</td>\n",
       "      <td>3.17</td>\n",
       "      <td>1185</td>\n",
       "    </tr>\n",
       "    <tr>\n",
       "      <th>3</th>\n",
       "      <td>1</td>\n",
       "      <td>14.37</td>\n",
       "      <td>1.95</td>\n",
       "      <td>2.50</td>\n",
       "      <td>16.8</td>\n",
       "      <td>113</td>\n",
       "      <td>3.85</td>\n",
       "      <td>3.49</td>\n",
       "      <td>0.24</td>\n",
       "      <td>2.18</td>\n",
       "      <td>7.80</td>\n",
       "      <td>0.86</td>\n",
       "      <td>3.45</td>\n",
       "      <td>1480</td>\n",
       "    </tr>\n",
       "    <tr>\n",
       "      <th>4</th>\n",
       "      <td>1</td>\n",
       "      <td>13.24</td>\n",
       "      <td>2.59</td>\n",
       "      <td>2.87</td>\n",
       "      <td>21.0</td>\n",
       "      <td>118</td>\n",
       "      <td>2.80</td>\n",
       "      <td>2.69</td>\n",
       "      <td>0.39</td>\n",
       "      <td>1.82</td>\n",
       "      <td>4.32</td>\n",
       "      <td>1.04</td>\n",
       "      <td>2.93</td>\n",
       "      <td>735</td>\n",
       "    </tr>\n",
       "  </tbody>\n",
       "</table>\n",
       "</div>"
      ],
      "text/plain": [
       "   class label  alchohol  malic acid   ash  alcalinity of ash  magnesium  \\\n",
       "0            1     14.23        1.71  2.43               15.6        127   \n",
       "1            1     13.20        1.78  2.14               11.2        100   \n",
       "2            1     13.16        2.36  2.67               18.6        101   \n",
       "3            1     14.37        1.95  2.50               16.8        113   \n",
       "4            1     13.24        2.59  2.87               21.0        118   \n",
       "\n",
       "   total phenols  flavanoids  nonflavanoid phenols  proanthocyanins  \\\n",
       "0           2.80        3.06                  0.28             2.29   \n",
       "1           2.65        2.76                  0.26             1.28   \n",
       "2           2.80        3.24                  0.30             2.81   \n",
       "3           3.85        3.49                  0.24             2.18   \n",
       "4           2.80        2.69                  0.39             1.82   \n",
       "\n",
       "   color intensity   hue  OD208  proline  \n",
       "0             5.64  1.04   3.92     1065  \n",
       "1             4.38  1.05   3.40     1050  \n",
       "2             5.68  1.03   3.17     1185  \n",
       "3             7.80  0.86   3.45     1480  \n",
       "4             4.32  1.04   2.93      735  "
      ]
     },
     "execution_count": 1,
     "metadata": {},
     "output_type": "execute_result"
    }
   ],
   "source": [
    "import pandas as pd\n",
    "import numpy as np\n",
    "\n",
    "# 데이터 불러오기. y값은 이미 범주형으로 되어있음.\n",
    "dat_wine=pd.read_csv('http://archive.ics.uci.edu/ml/machine-learning-databases/'\n",
    "                     'wine/wine.data',header=None)\n",
    "dat_wine.head()\n",
    "dat_wine.columns = ['class label', 'alchohol', 'malic acid', 'ash', \n",
    "                    'alcalinity of ash', 'magnesium', 'total phenols', \n",
    "                    'flavanoids', 'nonflavanoid phenols', \n",
    "                    'proanthocyanins', 'color intensity', 'hue', \n",
    "                    'OD208', 'proline']  # Column names\n",
    "print('class label:', np.unique(dat_wine['class label']))  # Class 출력\n",
    "dat_wine.head()"
   ]
  },
  {
   "cell_type": "code",
   "execution_count": 2,
   "metadata": {},
   "outputs": [
    {
     "name": "stdout",
     "output_type": "stream",
     "text": [
      "(124, 13) (54, 13)\n"
     ]
    }
   ],
   "source": [
    "# 전체 data를 training set과 test set으로 split\n",
    "from sklearn.model_selection import train_test_split\n",
    "X, y = dat_wine.iloc[:,1:].values, dat_wine.iloc[:,0].values\n",
    "X_train, X_test, y_train,y_test = \\\n",
    "    train_test_split(X, y, test_size=0.3, random_state=1, stratify=y)\n",
    "print(X_train.shape, X_test.shape)"
   ]
  },
  {
   "cell_type": "code",
   "execution_count": 3,
   "metadata": {},
   "outputs": [],
   "source": [
    "# 표준화\n",
    "from sklearn.preprocessing import StandardScaler\n",
    "std = StandardScaler()\n",
    "X_train = std.fit_transform(X_train)\n",
    "X_test = std.transform(X_test)"
   ]
  },
  {
   "cell_type": "code",
   "execution_count": 10,
   "metadata": {},
   "outputs": [
    {
     "name": "stdout",
     "output_type": "stream",
     "text": [
      "1.0\n",
      "0.9814814814814815\n",
      "[[18  0  0]\n",
      " [ 0 20  0]\n",
      " [ 0  1 15]]\n"
     ]
    }
   ],
   "source": [
    "# 단순 로지스틱\n",
    "from sklearn.linear_model import LogisticRegression\n",
    "from sklearn.metrics import accuracy_score, classification_report, confusion_matrix\n",
    "model= LogisticRegression() \n",
    "model.fit(X_train, y_train)\n",
    "\n",
    "train_pred = model.predict(X_train)\n",
    "pred = model.predict(X_test)\n",
    "print(accuracy_score(train_pred, y_train))\n",
    "print(accuracy_score(pred, y_test))\n",
    "print(confusion_matrix(pred, y_test))"
   ]
  },
  {
   "cell_type": "markdown",
   "metadata": {},
   "source": [
    "## 1. MDS\n",
    "(Multidimensional scaling, 다차원축소)"
   ]
  },
  {
   "cell_type": "code",
   "execution_count": 12,
   "metadata": {},
   "outputs": [],
   "source": [
    "# 모든 축소 전에 X를 표준화해준다! >> 성능이 훨씬 좋아졌따\n",
    "from sklearn.preprocessing import StandardScaler\n",
    "std = StandardScaler()\n",
    "X = std.fit_transform(X)"
   ]
  },
  {
   "cell_type": "code",
   "execution_count": 20,
   "metadata": {},
   "outputs": [
    {
     "name": "stdout",
     "output_type": "stream",
     "text": [
      "(124, 2) (54, 2)\n"
     ]
    }
   ],
   "source": [
    "from sklearn.manifold import MDS\n",
    "mds = MDS(n_components=2, random_state=10)\n",
    "X_m = mds.fit_transform(X) # trainsform > split\n",
    "X_train, X_test, y_train,y_test = train_test_split(X_m, y, test_size=0.3, random_state=1, stratify=y)\n",
    "print(X_train.shape, X_test.shape)"
   ]
  },
  {
   "cell_type": "code",
   "execution_count": 21,
   "metadata": {},
   "outputs": [
    {
     "name": "stdout",
     "output_type": "stream",
     "text": [
      "0.9193548387096774\n",
      "0.8703703703703703\n",
      "[[16  5  0]\n",
      " [ 2 16  0]\n",
      " [ 0  0 15]]\n"
     ]
    }
   ],
   "source": [
    "import warnings\n",
    "warnings.filterwarnings(action='ignore')\n",
    "\n",
    "model= LogisticRegression() \n",
    "model.fit(X_train, y_train)\n",
    "\n",
    "train_pred = model.predict(X_train)\n",
    "pred = model.predict(X_test)\n",
    "print(accuracy_score(train_pred, y_train))\n",
    "print(accuracy_score(pred, y_test))\n",
    "print(confusion_matrix(pred, y_test))"
   ]
  },
  {
   "cell_type": "code",
   "execution_count": 36,
   "metadata": {},
   "outputs": [
    {
     "data": {
      "text/plain": [
       "[]"
      ]
     },
     "execution_count": 36,
     "metadata": {},
     "output_type": "execute_result"
    },
    {
     "data": {
      "image/png": "[encoded data removed]",
      "text/plain": [
       "<Figure size 432x288 with 1 Axes>"
      ]
     },
     "metadata": {
      "needs_background": "light"
     },
     "output_type": "display_data"
    }
   ],
   "source": [
    "import numpy as np\n",
    "from sklearn.metrics import accuracy_score\n",
    "import matplotlib.pyplot as plt\n",
    "import seaborn as sns\n",
    "\n",
    "c_list = [1,2,3,4,5,6,7,8,9,10,11,12,13]\n",
    "\n",
    "train_errors = [] \n",
    "test_errors = [] \n",
    "\n",
    "for x in c_list:\n",
    "    mds = MDS(n_components=x, random_state=10)\n",
    "    X_m = mds.fit_transform(X) # trainsform > split\n",
    "    X_train, X_test, y_train,y_test = train_test_split(X_m, y, \n",
    "                                                   test_size=0.3, random_state=1, stratify=y)\n",
    "    model= LogisticRegression() \n",
    "    model.fit(X_train, y_train)\n",
    "    train_pred = model.predict(X_train)\n",
    "    pred = model.predict(X_test)\n",
    "    \n",
    "    train_errors.append(accuracy_score(y_train, train_pred))\n",
    "    test_errors.append(accuracy_score(y_test, pred))\n",
    "\n",
    "x = np.arange(len(c_list)) + 1 # Create domain for plot\n",
    "plt.plot(x, train_errors, label='Training Accuracy') # Plot training error over domain\n",
    "plt.plot(x, test_errors, label='Testing Accuracy') # Plot testing error over domain\n",
    "plt.xlabel('N components') # Label x-axis\n",
    "plt.ylabel('Total Accuracy') # Label y-axis\n",
    "plt.legend() # Show plot labels as legend\n",
    "plt.title('MDS')\n",
    "plt.plot() # Show graph"
   ]
  },
  {
   "cell_type": "markdown",
   "metadata": {},
   "source": [
    "## 2. LLE\n",
    "(Locally Linear Embedding, 선형결합 후 차원축소)"
   ]
  },
  {
   "cell_type": "code",
   "execution_count": 22,
   "metadata": {},
   "outputs": [
    {
     "name": "stdout",
     "output_type": "stream",
     "text": [
      "0.5403225806451613\n",
      "0.6296296296296297\n"
     ]
    }
   ],
   "source": [
    "from sklearn.manifold import LocallyLinearEmbedding\n",
    "mds = LocallyLinearEmbedding(n_components=2, random_state=10)\n",
    "X_m = mds.fit_transform(X) # trainsform > split\n",
    "X_train, X_test, y_train,y_test = train_test_split(X_m, y, test_size=0.3, random_state=1, stratify=y)\n",
    "\n",
    "model= LogisticRegression() \n",
    "model.fit(X_train, y_train)\n",
    "\n",
    "train_pred = model.predict(X_train)\n",
    "pred = model.predict(X_test)\n",
    "print(accuracy_score(train_pred, y_train))\n",
    "print(accuracy_score(pred, y_test))"
   ]
  },
  {
   "cell_type": "code",
   "execution_count": 27,
   "metadata": {},
   "outputs": [
    {
     "data": {
      "text/plain": [
       "[]"
      ]
     },
     "execution_count": 27,
     "metadata": {},
     "output_type": "execute_result"
    },
    {
     "data": {
      "image/png": "[encoded data removed]",
      "text/plain": [
       "<Figure size 432x288 with 1 Axes>"
      ]
     },
     "metadata": {
      "needs_background": "light"
     },
     "output_type": "display_data"
    }
   ],
   "source": [
    "import numpy as np\n",
    "from sklearn.metrics import accuracy_score\n",
    "import matplotlib.pyplot as plt\n",
    "import seaborn as sns\n",
    "\n",
    "c_list = [1,2,3,4,5,6,7,8,9,10,11,12,13]\n",
    "\n",
    "train_errors = [] \n",
    "test_errors = [] \n",
    "\n",
    "for x in c_list:\n",
    "    mds = LocallyLinearEmbedding(n_components=x, random_state=10)\n",
    "    X_m = mds.fit_transform(X) # trainsform > split\n",
    "    X_train, X_test, y_train,y_test = train_test_split(X_m, y, \n",
    "                                                   test_size=0.3, random_state=1, stratify=y)\n",
    "    model= LogisticRegression() \n",
    "    model.fit(X_train, y_train)\n",
    "    train_pred = model.predict(X_train)\n",
    "    pred = model.predict(X_test)\n",
    "    \n",
    "    train_errors.append(accuracy_score(y_train, train_pred))\n",
    "    test_errors.append(accuracy_score(y_test, pred))\n",
    "\n",
    "x = np.arange(len(c_list)) + 1 # Create domain for plot\n",
    "plt.plot(x, train_errors, label='Training Accuracy') # Plot training error over domain\n",
    "plt.plot(x, test_errors, label='Testing Accuracy') # Plot testing error over domain\n",
    "plt.xlabel('N components') # Label x-axis\n",
    "plt.ylabel('Total Accuracy') # Label y-axis\n",
    "plt.legend() # Show plot labels as legend\n",
    "plt.title('LLE')\n",
    "plt.plot() # Show graph"
   ]
  },
  {
   "cell_type": "markdown",
   "metadata": {},
   "source": [
    "## 3. Isomap\n",
    "지도면상의 최소 거리를 활용"
   ]
  },
  {
   "cell_type": "code",
   "execution_count": 29,
   "metadata": {},
   "outputs": [
    {
     "name": "stdout",
     "output_type": "stream",
     "text": [
      "0.9758064516129032\n",
      "0.9444444444444444\n"
     ]
    }
   ],
   "source": [
    "from sklearn.manifold import Isomap\n",
    "\n",
    "mds = Isomap(n_components=2)\n",
    "X_m = mds.fit_transform(X) # trainsform > split\n",
    "X_train, X_test, y_train,y_test = train_test_split(X_m, y, test_size=0.3, random_state=1, stratify=y)\n",
    "\n",
    "model= LogisticRegression() \n",
    "model.fit(X_train, y_train)\n",
    "\n",
    "train_pred = model.predict(X_train)\n",
    "pred = model.predict(X_test)\n",
    "print(accuracy_score(train_pred, y_train))\n",
    "print(accuracy_score(pred, y_test))"
   ]
  },
  {
   "cell_type": "code",
   "execution_count": 12,
   "metadata": {
    "scrolled": true
   },
   "outputs": [
    {
     "data": {
      "text/plain": [
       "[]"
      ]
     },
     "execution_count": 12,
     "metadata": {},
     "output_type": "execute_result"
    },
    {
     "data": {
      "image/png": "[encoded data removed]",
      "text/plain": [
       "<Figure size 432x288 with 1 Axes>"
      ]
     },
     "metadata": {
      "needs_background": "light"
     },
     "output_type": "display_data"
    }
   ],
   "source": [
    "import numpy as np\n",
    "from sklearn.metrics import accuracy_score\n",
    "import matplotlib.pyplot as plt\n",
    "import seaborn as sns\n",
    "\n",
    "c_list = [1,2,3,4,5,6,7,8,9,10,11,12,13]\n",
    "\n",
    "train_errors = [] \n",
    "test_errors = [] \n",
    "\n",
    "for x in c_list:\n",
    "    mds = Isomap(n_components=x)\n",
    "    X_m = mds.fit_transform(X) # trainsform > split\n",
    "    X_train, X_test, y_train,y_test = train_test_split(X_m, y, \n",
    "                                                   test_size=0.3, random_state=1, stratify=y)\n",
    "    model= LogisticRegression() \n",
    "    model.fit(X_train, y_train)\n",
    "    train_pred = model.predict(X_train)\n",
    "    pred = model.predict(X_test)\n",
    "    \n",
    "    train_errors.append(accuracy_score(y_train, train_pred))\n",
    "    test_errors.append(accuracy_score(y_test, pred))\n",
    "\n",
    "x = np.arange(len(c_list)) + 1 # Create domain for plot\n",
    "plt.plot(x, train_errors, label='Training Accuracy') # Plot training error over domain\n",
    "plt.plot(x, test_errors, label='Testing Accuracy') # Plot testing error over domain\n",
    "plt.xlabel('N components') # Label x-axis\n",
    "plt.ylabel('Total Accuracy') # Label y-axis\n",
    "plt.legend() # Show plot labels as legend\n",
    "plt.title('Isomap')\n",
    "plt.plot() # Show graph"
   ]
  },
  {
   "cell_type": "markdown",
   "metadata": {},
   "source": [
    "## 4. T-SNE\n",
    "(T - distributed Stochastic Neighbor Embedding)"
   ]
  },
  {
   "cell_type": "code",
   "execution_count": 35,
   "metadata": {},
   "outputs": [
    {
     "name": "stdout",
     "output_type": "stream",
     "text": [
      "0.9919354838709677\n",
      "0.9629629629629629\n"
     ]
    }
   ],
   "source": [
    "from sklearn.manifold import TSNE\n",
    "\n",
    "mds = TSNE(n_components=2, random_state=10)\n",
    "X_m = mds.fit_transform(X) # trainsform > split\n",
    "X_train, X_test, y_train,y_test = train_test_split(X_m, y, test_size=0.3, random_state=1, stratify=y)\n",
    "\n",
    "model= LogisticRegression() \n",
    "model.fit(X_train, y_train)\n",
    "\n",
    "train_pred = model.predict(X_train)\n",
    "pred = model.predict(X_test)\n",
    "print(accuracy_score(train_pred, y_train))\n",
    "print(accuracy_score(pred, y_test))"
   ]
  },
  {
   "cell_type": "code",
   "execution_count": 44,
   "metadata": {},
   "outputs": [
    {
     "data": {
      "text/plain": [
       "[]"
      ]
     },
     "execution_count": 44,
     "metadata": {},
     "output_type": "execute_result"
    },
    {
     "data": {
      "image/png": "[encoded data removed]",
      "text/plain": [
       "<Figure size 432x288 with 1 Axes>"
      ]
     },
     "metadata": {
      "needs_background": "light"
     },
     "output_type": "display_data"
    }
   ],
   "source": [
    "import numpy as np\n",
    "from sklearn.metrics import accuracy_score\n",
    "import matplotlib.pyplot as plt\n",
    "import seaborn as sns\n",
    "\n",
    "c_list = [5, 10, 15, 20, 25, 30, 35, 40, 50]\n",
    "\n",
    "train_errors = [] \n",
    "test_errors = [] \n",
    "\n",
    "for x in c_list:\n",
    "    mds = TSNE(n_components=2, perplexity=x, random_state=110)\n",
    "    X_m = mds.fit_transform(X) # trainsform > split\n",
    "    X_train, X_test, y_train,y_test = train_test_split(X_m, y, \n",
    "                                                   test_size=0.3, random_state=1, stratify=y)\n",
    "    model= LogisticRegression() \n",
    "    model.fit(X_train, y_train)\n",
    "    train_pred = model.predict(X_train)\n",
    "    pred = model.predict(X_test)\n",
    "    \n",
    "    train_errors.append(accuracy_score(y_train, train_pred))\n",
    "    test_errors.append(accuracy_score(y_test, pred))\n",
    "\n",
    "x = np.arange(len(c_list)) + 1 # Create domain for plot\n",
    "plt.plot(x, train_errors, label='Training Accuracy') # Plot training error over domain\n",
    "plt.plot(x, test_errors, label='Testing Accuracy') # Plot testing error over domain\n",
    "plt.xlabel('preplexity') # Label x-axis\n",
    "plt.ylabel('Total Accuracy') # Label y-axis\n",
    "plt.legend() # Show plot labels as legend\n",
    "plt.title('T_SNE preplexity')\n",
    "plt.plot() # Show graph"
   ]
  }
 ],
 "metadata": {
  "kernelspec": {
   "display_name": "Python 3",
   "language": "python",
   "name": "python3"
  },
  "language_info": {
   "codemirror_mode": {
    "name": "ipython",
    "version": 3
   },
   "file_extension": ".py",
   "mimetype": "text/x-python",
   "name": "python",
   "nbconvert_exporter": "python",
   "pygments_lexer": "ipython3",
   "version": "3.7.7"
  }
 },
 "nbformat": 4,
 "nbformat_minor": 4
}
