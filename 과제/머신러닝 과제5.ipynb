{
 "cells": [
  {
   "cell_type": "markdown",
   "metadata": {},
   "source": [
    "# 과제5"
   ]
  },
  {
   "cell_type": "markdown",
   "metadata": {},
   "source": [
    "제 5장의 wine data를 이용하여 linear, quadratic 그리고 naive Bayesian 을 적용하여 그 결과를 비교하고 해석하라.\n",
    "> - **특성변수가 output에 미치는 영향을 추정된 모수로 해석할 수 있어야 합니다.** 머신러닝은 black-box가 아닙니다.\n",
    "> - 모형의 정밀도와 손실값을 최소로 하는 궁극적인 목표는 **특성변수의 계수를 추정하여 output에 대한 영향을 해석하고 설명**하는 것입니다. \n",
    "> - 단순하게 프로그램 결과만 나열하는 하는 것은 해석이 아닙니다.   \n",
    "**왜 그런지 고민해 보고 원인을 설명해야 합니다.** "
   ]
  },
  {
   "cell_type": "code",
   "execution_count": 72,
   "metadata": {},
   "outputs": [
    {
     "name": "stdout",
     "output_type": "stream",
     "text": [
      "class label: [1 2 3]\n"
     ]
    },
    {
     "data": {
      "text/html": [
       "<div>\n",
       "<style scoped>\n",
       "    .dataframe tbody tr th:only-of-type {\n",
       "        vertical-align: middle;\n",
       "    }\n",
       "\n",
       "    .dataframe tbody tr th {\n",
       "        vertical-align: top;\n",
       "    }\n",
       "\n",
       "    .dataframe thead th {\n",
       "        text-align: right;\n",
       "    }\n",
       "</style>\n",
       "<table border=\"1\" class=\"dataframe\">\n",
       "  <thead>\n",
       "    <tr style=\"text-align: right;\">\n",
       "      <th></th>\n",
       "      <th>class label</th>\n",
       "      <th>alchohol</th>\n",
       "      <th>malic acid</th>\n",
       "      <th>ash</th>\n",
       "      <th>alcalinity of ash</th>\n",
       "      <th>magnesium</th>\n",
       "      <th>total phenols</th>\n",
       "      <th>flavanoids</th>\n",
       "      <th>nonflavanoid phenols</th>\n",
       "      <th>proanthocyanins</th>\n",
       "      <th>color intensity</th>\n",
       "      <th>hue</th>\n",
       "      <th>OD208</th>\n",
       "      <th>proline</th>\n",
       "    </tr>\n",
       "  </thead>\n",
       "  <tbody>\n",
       "    <tr>\n",
       "      <th>0</th>\n",
       "      <td>1</td>\n",
       "      <td>14.23</td>\n",
       "      <td>1.71</td>\n",
       "      <td>2.43</td>\n",
       "      <td>15.6</td>\n",
       "      <td>127</td>\n",
       "      <td>2.80</td>\n",
       "      <td>3.06</td>\n",
       "      <td>0.28</td>\n",
       "      <td>2.29</td>\n",
       "      <td>5.64</td>\n",
       "      <td>1.04</td>\n",
       "      <td>3.92</td>\n",
       "      <td>1065</td>\n",
       "    </tr>\n",
       "    <tr>\n",
       "      <th>1</th>\n",
       "      <td>1</td>\n",
       "      <td>13.20</td>\n",
       "      <td>1.78</td>\n",
       "      <td>2.14</td>\n",
       "      <td>11.2</td>\n",
       "      <td>100</td>\n",
       "      <td>2.65</td>\n",
       "      <td>2.76</td>\n",
       "      <td>0.26</td>\n",
       "      <td>1.28</td>\n",
       "      <td>4.38</td>\n",
       "      <td>1.05</td>\n",
       "      <td>3.40</td>\n",
       "      <td>1050</td>\n",
       "    </tr>\n",
       "    <tr>\n",
       "      <th>2</th>\n",
       "      <td>1</td>\n",
       "      <td>13.16</td>\n",
       "      <td>2.36</td>\n",
       "      <td>2.67</td>\n",
       "      <td>18.6</td>\n",
       "      <td>101</td>\n",
       "      <td>2.80</td>\n",
       "      <td>3.24</td>\n",
       "      <td>0.30</td>\n",
       "      <td>2.81</td>\n",
       "      <td>5.68</td>\n",
       "      <td>1.03</td>\n",
       "      <td>3.17</td>\n",
       "      <td>1185</td>\n",
       "    </tr>\n",
       "    <tr>\n",
       "      <th>3</th>\n",
       "      <td>1</td>\n",
       "      <td>14.37</td>\n",
       "      <td>1.95</td>\n",
       "      <td>2.50</td>\n",
       "      <td>16.8</td>\n",
       "      <td>113</td>\n",
       "      <td>3.85</td>\n",
       "      <td>3.49</td>\n",
       "      <td>0.24</td>\n",
       "      <td>2.18</td>\n",
       "      <td>7.80</td>\n",
       "      <td>0.86</td>\n",
       "      <td>3.45</td>\n",
       "      <td>1480</td>\n",
       "    </tr>\n",
       "    <tr>\n",
       "      <th>4</th>\n",
       "      <td>1</td>\n",
       "      <td>13.24</td>\n",
       "      <td>2.59</td>\n",
       "      <td>2.87</td>\n",
       "      <td>21.0</td>\n",
       "      <td>118</td>\n",
       "      <td>2.80</td>\n",
       "      <td>2.69</td>\n",
       "      <td>0.39</td>\n",
       "      <td>1.82</td>\n",
       "      <td>4.32</td>\n",
       "      <td>1.04</td>\n",
       "      <td>2.93</td>\n",
       "      <td>735</td>\n",
       "    </tr>\n",
       "  </tbody>\n",
       "</table>\n",
       "</div>"
      ],
      "text/plain": [
       "   class label  alchohol  malic acid   ash  alcalinity of ash  magnesium  \\\n",
       "0            1     14.23        1.71  2.43               15.6        127   \n",
       "1            1     13.20        1.78  2.14               11.2        100   \n",
       "2            1     13.16        2.36  2.67               18.6        101   \n",
       "3            1     14.37        1.95  2.50               16.8        113   \n",
       "4            1     13.24        2.59  2.87               21.0        118   \n",
       "\n",
       "   total phenols  flavanoids  nonflavanoid phenols  proanthocyanins  \\\n",
       "0           2.80        3.06                  0.28             2.29   \n",
       "1           2.65        2.76                  0.26             1.28   \n",
       "2           2.80        3.24                  0.30             2.81   \n",
       "3           3.85        3.49                  0.24             2.18   \n",
       "4           2.80        2.69                  0.39             1.82   \n",
       "\n",
       "   color intensity   hue  OD208  proline  \n",
       "0             5.64  1.04   3.92     1065  \n",
       "1             4.38  1.05   3.40     1050  \n",
       "2             5.68  1.03   3.17     1185  \n",
       "3             7.80  0.86   3.45     1480  \n",
       "4             4.32  1.04   2.93      735  "
      ]
     },
     "execution_count": 72,
     "metadata": {},
     "output_type": "execute_result"
    }
   ],
   "source": [
    "# wine data load\n",
    "import pandas as pd\n",
    "import numpy as np\n",
    "data=pd.read_csv('http://archive.ics.uci.edu/ml/machine-learning-databases/'\n",
    "                     'wine/wine.data',header=None)\n",
    "data.columns = ['class label', 'alchohol', 'malic acid', 'ash', \n",
    "                    'alcalinity of ash', 'magnesium', 'total phenols', \n",
    "                    'flavanoids', 'nonflavanoid phenols', \n",
    "                    'proanthocyanins', 'color intensity', 'hue', \n",
    "                    'OD208', 'proline']  # Column names\n",
    "print('class label:', np.unique(data['class label']))  # Class 출력\n",
    "data.head()"
   ]
  },
  {
   "cell_type": "code",
   "execution_count": 73,
   "metadata": {},
   "outputs": [
    {
     "data": {
      "text/plain": [
       "Index(['class label', 'alchohol', 'malic acid', 'ash', 'alcalinity of ash',\n",
       "       'magnesium', 'total phenols', 'flavanoids', 'nonflavanoid phenols',\n",
       "       'proanthocyanins', 'color intensity', 'hue', 'OD208', 'proline'],\n",
       "      dtype='object')"
      ]
     },
     "execution_count": 73,
     "metadata": {},
     "output_type": "execute_result"
    }
   ],
   "source": [
    "data.columns"
   ]
  },
  {
   "cell_type": "code",
   "execution_count": 74,
   "metadata": {},
   "outputs": [
    {
     "data": {
      "text/plain": [
       "(178, 14)"
      ]
     },
     "execution_count": 74,
     "metadata": {},
     "output_type": "execute_result"
    }
   ],
   "source": [
    "data.shape"
   ]
  },
  {
   "cell_type": "code",
   "execution_count": 75,
   "metadata": {
    "scrolled": true
   },
   "outputs": [
    {
     "data": {
      "image/png": "[encoded data removed]",
      "text/plain": [
       "<Figure size 864x864 with 2 Axes>"
      ]
     },
     "metadata": {
      "needs_background": "light"
     },
     "output_type": "display_data"
    }
   ],
   "source": [
    "import matplotlib as plt\n",
    "import matplotlib.pyplot as plt \n",
    "import seaborn as sns\n",
    "\n",
    "corr_mat = data.corr()\n",
    "mask=np.zeros_like(corr_mat,dtype=np.bool)\n",
    "mask[np.tril_indices_from(mask)]=True\n",
    "\n",
    "plt.figure(figsize=(12,12))\n",
    "sns.heatmap(corr_mat,annot=True,cmap='GnBu_r',mask=mask,fmt='.3f')\n",
    "plt.show()"
   ]
  },
  {
   "cell_type": "markdown",
   "metadata": {},
   "source": [
    "피쳐들끼리 독립이라고 보기 힘듦...??...??? 이걸 상관계수로 볼 수 있나"
   ]
  },
  {
   "cell_type": "code",
   "execution_count": 76,
   "metadata": {},
   "outputs": [
    {
     "name": "stdout",
     "output_type": "stream",
     "text": [
      "2    71\n",
      "1    59\n",
      "3    48\n",
      "Name: class label, dtype: int64\n"
     ]
    },
    {
     "data": {
      "image/png": "[encoded data removed]",
      "text/plain": [
       "<Figure size 432x288 with 1 Axes>"
      ]
     },
     "metadata": {
      "needs_background": "light"
     },
     "output_type": "display_data"
    }
   ],
   "source": [
    "sns.countplot(data=data, x='class label')\n",
    "print(data['class label'].value_counts())"
   ]
  },
  {
   "cell_type": "code",
   "execution_count": 77,
   "metadata": {},
   "outputs": [
    {
     "data": {
      "text/html": [
       "<div>\n",
       "<style scoped>\n",
       "    .dataframe tbody tr th:only-of-type {\n",
       "        vertical-align: middle;\n",
       "    }\n",
       "\n",
       "    .dataframe tbody tr th {\n",
       "        vertical-align: top;\n",
       "    }\n",
       "\n",
       "    .dataframe thead th {\n",
       "        text-align: right;\n",
       "    }\n",
       "</style>\n",
       "<table border=\"1\" class=\"dataframe\">\n",
       "  <thead>\n",
       "    <tr style=\"text-align: right;\">\n",
       "      <th></th>\n",
       "      <th>class label</th>\n",
       "      <th>alchohol</th>\n",
       "      <th>malic acid</th>\n",
       "      <th>ash</th>\n",
       "      <th>alcalinity of ash</th>\n",
       "      <th>magnesium</th>\n",
       "      <th>total phenols</th>\n",
       "      <th>flavanoids</th>\n",
       "      <th>nonflavanoid phenols</th>\n",
       "      <th>proanthocyanins</th>\n",
       "      <th>color intensity</th>\n",
       "      <th>hue</th>\n",
       "      <th>OD208</th>\n",
       "      <th>proline</th>\n",
       "    </tr>\n",
       "  </thead>\n",
       "  <tbody>\n",
       "    <tr>\n",
       "      <th>count</th>\n",
       "      <td>178.000000</td>\n",
       "      <td>178.000000</td>\n",
       "      <td>178.000000</td>\n",
       "      <td>178.000000</td>\n",
       "      <td>178.000000</td>\n",
       "      <td>178.000000</td>\n",
       "      <td>178.000000</td>\n",
       "      <td>178.000000</td>\n",
       "      <td>178.000000</td>\n",
       "      <td>178.000000</td>\n",
       "      <td>178.000000</td>\n",
       "      <td>178.000000</td>\n",
       "      <td>178.000000</td>\n",
       "      <td>178.000000</td>\n",
       "    </tr>\n",
       "    <tr>\n",
       "      <th>mean</th>\n",
       "      <td>1.938202</td>\n",
       "      <td>13.000618</td>\n",
       "      <td>2.336348</td>\n",
       "      <td>2.366517</td>\n",
       "      <td>19.494944</td>\n",
       "      <td>99.741573</td>\n",
       "      <td>2.295112</td>\n",
       "      <td>2.029270</td>\n",
       "      <td>0.361854</td>\n",
       "      <td>1.590899</td>\n",
       "      <td>5.058090</td>\n",
       "      <td>0.957449</td>\n",
       "      <td>2.611685</td>\n",
       "      <td>746.893258</td>\n",
       "    </tr>\n",
       "    <tr>\n",
       "      <th>std</th>\n",
       "      <td>0.775035</td>\n",
       "      <td>0.811827</td>\n",
       "      <td>1.117146</td>\n",
       "      <td>0.274344</td>\n",
       "      <td>3.339564</td>\n",
       "      <td>14.282484</td>\n",
       "      <td>0.625851</td>\n",
       "      <td>0.998859</td>\n",
       "      <td>0.124453</td>\n",
       "      <td>0.572359</td>\n",
       "      <td>2.318286</td>\n",
       "      <td>0.228572</td>\n",
       "      <td>0.709990</td>\n",
       "      <td>314.907474</td>\n",
       "    </tr>\n",
       "    <tr>\n",
       "      <th>min</th>\n",
       "      <td>1.000000</td>\n",
       "      <td>11.030000</td>\n",
       "      <td>0.740000</td>\n",
       "      <td>1.360000</td>\n",
       "      <td>10.600000</td>\n",
       "      <td>70.000000</td>\n",
       "      <td>0.980000</td>\n",
       "      <td>0.340000</td>\n",
       "      <td>0.130000</td>\n",
       "      <td>0.410000</td>\n",
       "      <td>1.280000</td>\n",
       "      <td>0.480000</td>\n",
       "      <td>1.270000</td>\n",
       "      <td>278.000000</td>\n",
       "    </tr>\n",
       "    <tr>\n",
       "      <th>25%</th>\n",
       "      <td>1.000000</td>\n",
       "      <td>12.362500</td>\n",
       "      <td>1.602500</td>\n",
       "      <td>2.210000</td>\n",
       "      <td>17.200000</td>\n",
       "      <td>88.000000</td>\n",
       "      <td>1.742500</td>\n",
       "      <td>1.205000</td>\n",
       "      <td>0.270000</td>\n",
       "      <td>1.250000</td>\n",
       "      <td>3.220000</td>\n",
       "      <td>0.782500</td>\n",
       "      <td>1.937500</td>\n",
       "      <td>500.500000</td>\n",
       "    </tr>\n",
       "    <tr>\n",
       "      <th>50%</th>\n",
       "      <td>2.000000</td>\n",
       "      <td>13.050000</td>\n",
       "      <td>1.865000</td>\n",
       "      <td>2.360000</td>\n",
       "      <td>19.500000</td>\n",
       "      <td>98.000000</td>\n",
       "      <td>2.355000</td>\n",
       "      <td>2.135000</td>\n",
       "      <td>0.340000</td>\n",
       "      <td>1.555000</td>\n",
       "      <td>4.690000</td>\n",
       "      <td>0.965000</td>\n",
       "      <td>2.780000</td>\n",
       "      <td>673.500000</td>\n",
       "    </tr>\n",
       "    <tr>\n",
       "      <th>75%</th>\n",
       "      <td>3.000000</td>\n",
       "      <td>13.677500</td>\n",
       "      <td>3.082500</td>\n",
       "      <td>2.557500</td>\n",
       "      <td>21.500000</td>\n",
       "      <td>107.000000</td>\n",
       "      <td>2.800000</td>\n",
       "      <td>2.875000</td>\n",
       "      <td>0.437500</td>\n",
       "      <td>1.950000</td>\n",
       "      <td>6.200000</td>\n",
       "      <td>1.120000</td>\n",
       "      <td>3.170000</td>\n",
       "      <td>985.000000</td>\n",
       "    </tr>\n",
       "    <tr>\n",
       "      <th>max</th>\n",
       "      <td>3.000000</td>\n",
       "      <td>14.830000</td>\n",
       "      <td>5.800000</td>\n",
       "      <td>3.230000</td>\n",
       "      <td>30.000000</td>\n",
       "      <td>162.000000</td>\n",
       "      <td>3.880000</td>\n",
       "      <td>5.080000</td>\n",
       "      <td>0.660000</td>\n",
       "      <td>3.580000</td>\n",
       "      <td>13.000000</td>\n",
       "      <td>1.710000</td>\n",
       "      <td>4.000000</td>\n",
       "      <td>1680.000000</td>\n",
       "    </tr>\n",
       "  </tbody>\n",
       "</table>\n",
       "</div>"
      ],
      "text/plain": [
       "       class label    alchohol  malic acid         ash  alcalinity of ash  \\\n",
       "count   178.000000  178.000000  178.000000  178.000000         178.000000   \n",
       "mean      1.938202   13.000618    2.336348    2.366517          19.494944   \n",
       "std       0.775035    0.811827    1.117146    0.274344           3.339564   \n",
       "min       1.000000   11.030000    0.740000    1.360000          10.600000   \n",
       "25%       1.000000   12.362500    1.602500    2.210000          17.200000   \n",
       "50%       2.000000   13.050000    1.865000    2.360000          19.500000   \n",
       "75%       3.000000   13.677500    3.082500    2.557500          21.500000   \n",
       "max       3.000000   14.830000    5.800000    3.230000          30.000000   \n",
       "\n",
       "        magnesium  total phenols  flavanoids  nonflavanoid phenols  \\\n",
       "count  178.000000     178.000000  178.000000            178.000000   \n",
       "mean    99.741573       2.295112    2.029270              0.361854   \n",
       "std     14.282484       0.625851    0.998859              0.124453   \n",
       "min     70.000000       0.980000    0.340000              0.130000   \n",
       "25%     88.000000       1.742500    1.205000              0.270000   \n",
       "50%     98.000000       2.355000    2.135000              0.340000   \n",
       "75%    107.000000       2.800000    2.875000              0.437500   \n",
       "max    162.000000       3.880000    5.080000              0.660000   \n",
       "\n",
       "       proanthocyanins  color intensity         hue       OD208      proline  \n",
       "count       178.000000       178.000000  178.000000  178.000000   178.000000  \n",
       "mean          1.590899         5.058090    0.957449    2.611685   746.893258  \n",
       "std           0.572359         2.318286    0.228572    0.709990   314.907474  \n",
       "min           0.410000         1.280000    0.480000    1.270000   278.000000  \n",
       "25%           1.250000         3.220000    0.782500    1.937500   500.500000  \n",
       "50%           1.555000         4.690000    0.965000    2.780000   673.500000  \n",
       "75%           1.950000         6.200000    1.120000    3.170000   985.000000  \n",
       "max           3.580000        13.000000    1.710000    4.000000  1680.000000  "
      ]
     },
     "execution_count": 77,
     "metadata": {},
     "output_type": "execute_result"
    }
   ],
   "source": [
    "data.describe()"
   ]
  },
  {
   "cell_type": "code",
   "execution_count": 78,
   "metadata": {},
   "outputs": [
    {
     "name": "stdout",
     "output_type": "stream",
     "text": [
      "(124, 13) (54, 13) (124,) (54,)\n"
     ]
    }
   ],
   "source": [
    "# split\n",
    "data.dropna(inplace=True)\n",
    "from sklearn.model_selection import train_test_split\n",
    "X = data.drop(['class label'], axis=1)\n",
    "y = data['class label']\n",
    "X_train, X_val, y_train, y_val = train_test_split(X, y, test_size=0.3, random_state=1, stratify=y)\n",
    "print(X_train.shape, X_val.shape, y_train.shape, y_val.shape)"
   ]
  },
  {
   "cell_type": "code",
   "execution_count": 79,
   "metadata": {},
   "outputs": [],
   "source": [
    "# 표준화\n",
    "from sklearn.preprocessing import StandardScaler\n",
    "std = StandardScaler()\n",
    "X_train_std = std.fit_transform(X_train)\n",
    "X_val_std = std.transform(X_val)"
   ]
  },
  {
   "cell_type": "code",
   "execution_count": 80,
   "metadata": {},
   "outputs": [
    {
     "data": {
      "text/html": [
       "<div>\n",
       "<style scoped>\n",
       "    .dataframe tbody tr th:only-of-type {\n",
       "        vertical-align: middle;\n",
       "    }\n",
       "\n",
       "    .dataframe tbody tr th {\n",
       "        vertical-align: top;\n",
       "    }\n",
       "\n",
       "    .dataframe thead th {\n",
       "        text-align: right;\n",
       "    }\n",
       "</style>\n",
       "<table border=\"1\" class=\"dataframe\">\n",
       "  <thead>\n",
       "    <tr style=\"text-align: right;\">\n",
       "      <th></th>\n",
       "      <th>alchohol</th>\n",
       "      <th>malic acid</th>\n",
       "      <th>ash</th>\n",
       "      <th>alcalinity of ash</th>\n",
       "      <th>magnesium</th>\n",
       "      <th>total phenols</th>\n",
       "      <th>flavanoids</th>\n",
       "      <th>nonflavanoid phenols</th>\n",
       "      <th>proanthocyanins</th>\n",
       "      <th>color intensity</th>\n",
       "      <th>hue</th>\n",
       "      <th>OD208</th>\n",
       "      <th>proline</th>\n",
       "    </tr>\n",
       "  </thead>\n",
       "  <tbody>\n",
       "    <tr>\n",
       "      <th>3</th>\n",
       "      <td>14.37</td>\n",
       "      <td>1.95</td>\n",
       "      <td>2.50</td>\n",
       "      <td>16.8</td>\n",
       "      <td>113</td>\n",
       "      <td>3.85</td>\n",
       "      <td>3.49</td>\n",
       "      <td>0.24</td>\n",
       "      <td>2.18</td>\n",
       "      <td>7.8</td>\n",
       "      <td>0.86</td>\n",
       "      <td>3.45</td>\n",
       "      <td>1480</td>\n",
       "    </tr>\n",
       "    <tr>\n",
       "      <th>118</th>\n",
       "      <td>12.77</td>\n",
       "      <td>3.43</td>\n",
       "      <td>1.98</td>\n",
       "      <td>16.0</td>\n",
       "      <td>80</td>\n",
       "      <td>1.63</td>\n",
       "      <td>1.25</td>\n",
       "      <td>0.43</td>\n",
       "      <td>0.83</td>\n",
       "      <td>3.4</td>\n",
       "      <td>0.70</td>\n",
       "      <td>2.12</td>\n",
       "      <td>372</td>\n",
       "    </tr>\n",
       "    <tr>\n",
       "      <th>155</th>\n",
       "      <td>13.17</td>\n",
       "      <td>5.19</td>\n",
       "      <td>2.32</td>\n",
       "      <td>22.0</td>\n",
       "      <td>93</td>\n",
       "      <td>1.74</td>\n",
       "      <td>0.63</td>\n",
       "      <td>0.61</td>\n",
       "      <td>1.55</td>\n",
       "      <td>7.9</td>\n",
       "      <td>0.60</td>\n",
       "      <td>1.48</td>\n",
       "      <td>725</td>\n",
       "    </tr>\n",
       "  </tbody>\n",
       "</table>\n",
       "</div>"
      ],
      "text/plain": [
       "     alchohol  malic acid   ash  alcalinity of ash  magnesium  total phenols  \\\n",
       "3       14.37        1.95  2.50               16.8        113           3.85   \n",
       "118     12.77        3.43  1.98               16.0         80           1.63   \n",
       "155     13.17        5.19  2.32               22.0         93           1.74   \n",
       "\n",
       "     flavanoids  nonflavanoid phenols  proanthocyanins  color intensity   hue  \\\n",
       "3          3.49                  0.24             2.18              7.8  0.86   \n",
       "118        1.25                  0.43             0.83              3.4  0.70   \n",
       "155        0.63                  0.61             1.55              7.9  0.60   \n",
       "\n",
       "     OD208  proline  \n",
       "3     3.45     1480  \n",
       "118   2.12      372  \n",
       "155   1.48      725  "
      ]
     },
     "metadata": {},
     "output_type": "display_data"
    },
    {
     "data": {
      "text/html": [
       "<div>\n",
       "<style scoped>\n",
       "    .dataframe tbody tr th:only-of-type {\n",
       "        vertical-align: middle;\n",
       "    }\n",
       "\n",
       "    .dataframe tbody tr th {\n",
       "        vertical-align: top;\n",
       "    }\n",
       "\n",
       "    .dataframe thead th {\n",
       "        text-align: right;\n",
       "    }\n",
       "</style>\n",
       "<table border=\"1\" class=\"dataframe\">\n",
       "  <thead>\n",
       "    <tr style=\"text-align: right;\">\n",
       "      <th></th>\n",
       "      <th>alchohol</th>\n",
       "      <th>malic acid</th>\n",
       "      <th>ash</th>\n",
       "      <th>alcalinity of ash</th>\n",
       "      <th>magnesium</th>\n",
       "      <th>total phenols</th>\n",
       "      <th>flavanoids</th>\n",
       "      <th>nonflavanoid phenols</th>\n",
       "      <th>proanthocyanins</th>\n",
       "      <th>color intensity</th>\n",
       "      <th>hue</th>\n",
       "      <th>OD208</th>\n",
       "      <th>proline</th>\n",
       "    </tr>\n",
       "  </thead>\n",
       "  <tbody>\n",
       "    <tr>\n",
       "      <th>142</th>\n",
       "      <td>13.52</td>\n",
       "      <td>3.17</td>\n",
       "      <td>2.72</td>\n",
       "      <td>23.5</td>\n",
       "      <td>97</td>\n",
       "      <td>1.55</td>\n",
       "      <td>0.52</td>\n",
       "      <td>0.50</td>\n",
       "      <td>0.55</td>\n",
       "      <td>4.35</td>\n",
       "      <td>0.89</td>\n",
       "      <td>2.06</td>\n",
       "      <td>520</td>\n",
       "    </tr>\n",
       "    <tr>\n",
       "      <th>152</th>\n",
       "      <td>13.11</td>\n",
       "      <td>1.90</td>\n",
       "      <td>2.75</td>\n",
       "      <td>25.5</td>\n",
       "      <td>116</td>\n",
       "      <td>2.20</td>\n",
       "      <td>1.28</td>\n",
       "      <td>0.26</td>\n",
       "      <td>1.56</td>\n",
       "      <td>7.10</td>\n",
       "      <td>0.61</td>\n",
       "      <td>1.33</td>\n",
       "      <td>425</td>\n",
       "    </tr>\n",
       "    <tr>\n",
       "      <th>172</th>\n",
       "      <td>14.16</td>\n",
       "      <td>2.51</td>\n",
       "      <td>2.48</td>\n",
       "      <td>20.0</td>\n",
       "      <td>91</td>\n",
       "      <td>1.68</td>\n",
       "      <td>0.70</td>\n",
       "      <td>0.44</td>\n",
       "      <td>1.24</td>\n",
       "      <td>9.70</td>\n",
       "      <td>0.62</td>\n",
       "      <td>1.71</td>\n",
       "      <td>660</td>\n",
       "    </tr>\n",
       "  </tbody>\n",
       "</table>\n",
       "</div>"
      ],
      "text/plain": [
       "     alchohol  malic acid   ash  alcalinity of ash  magnesium  total phenols  \\\n",
       "142     13.52        3.17  2.72               23.5         97           1.55   \n",
       "152     13.11        1.90  2.75               25.5        116           2.20   \n",
       "172     14.16        2.51  2.48               20.0         91           1.68   \n",
       "\n",
       "     flavanoids  nonflavanoid phenols  proanthocyanins  color intensity   hue  \\\n",
       "142        0.52                  0.50             0.55             4.35  0.89   \n",
       "152        1.28                  0.26             1.56             7.10  0.61   \n",
       "172        0.70                  0.44             1.24             9.70  0.62   \n",
       "\n",
       "     OD208  proline  \n",
       "142   2.06      520  \n",
       "152   1.33      425  \n",
       "172   1.71      660  "
      ]
     },
     "metadata": {},
     "output_type": "display_data"
    }
   ],
   "source": [
    "display(X_train.head(3))\n",
    "display(X_val.head(3))"
   ]
  },
  {
   "cell_type": "markdown",
   "metadata": {},
   "source": [
    "# 1. LDA\n",
    "- 각 집단은 동일한 분산을 갖는다고 가정\n",
    "- 각 집단은 정규분포를 따름"
   ]
  },
  {
   "cell_type": "code",
   "execution_count": 82,
   "metadata": {},
   "outputs": [],
   "source": [
    "from sklearn.discriminant_analysis import LinearDiscriminantAnalysis\n",
    "cld=LinearDiscriminantAnalysis(solver = 'svd', store_covariance=True) \n",
    "cld.fit(X_train, y_train)\n",
    "y_train_pred=cld.predict(X_train)\n",
    "y_val_pred=cld.predict(X_val)"
   ]
  },
  {
   "cell_type": "code",
   "execution_count": 83,
   "metadata": {},
   "outputs": [
    {
     "name": "stdout",
     "output_type": "stream",
     "text": [
      "1.0\n",
      "0.9814814814814815\n",
      "[[18  0  0]\n",
      " [ 0 20  1]\n",
      " [ 0  0 15]]\n"
     ]
    }
   ],
   "source": [
    "# LDA\n",
    "from sklearn.metrics import confusion_matrix, accuracy_score, classification_report \n",
    "print(accuracy_score(y_train, y_train_pred)) \n",
    "print(accuracy_score(y_val, y_val_pred))\n",
    "print(confusion_matrix(y_val, y_val_pred)) "
   ]
  },
  {
   "cell_type": "code",
   "execution_count": 84,
   "metadata": {},
   "outputs": [
    {
     "data": {
      "text/plain": [
       "array([3, 3, 3, 2, 2, 1, 2, 1, 2, 3, 3, 1, 2, 1, 3, 2, 1, 1, 1, 3, 1, 2,\n",
       "       2, 1, 2, 3, 3, 2, 2, 2, 3, 2, 1, 2, 3, 2, 3, 2, 2, 3, 1, 3, 1, 1,\n",
       "       1, 2, 1, 3, 2, 1, 2, 1, 1, 3], dtype=int64)"
      ]
     },
     "execution_count": 84,
     "metadata": {},
     "output_type": "execute_result"
    }
   ],
   "source": [
    "y_val_pred"
   ]
  },
  {
   "cell_type": "code",
   "execution_count": 85,
   "metadata": {},
   "outputs": [
    {
     "data": {
      "text/html": [
       "<div>\n",
       "<style scoped>\n",
       "    .dataframe tbody tr th:only-of-type {\n",
       "        vertical-align: middle;\n",
       "    }\n",
       "\n",
       "    .dataframe tbody tr th {\n",
       "        vertical-align: top;\n",
       "    }\n",
       "\n",
       "    .dataframe thead th {\n",
       "        text-align: right;\n",
       "    }\n",
       "</style>\n",
       "<table border=\"1\" class=\"dataframe\">\n",
       "  <thead>\n",
       "    <tr style=\"text-align: right;\">\n",
       "      <th></th>\n",
       "      <th>alchohol</th>\n",
       "      <th>malic acid</th>\n",
       "      <th>ash</th>\n",
       "      <th>alcalinity of ash</th>\n",
       "      <th>magnesium</th>\n",
       "      <th>total phenols</th>\n",
       "      <th>flavanoids</th>\n",
       "      <th>nonflavanoid phenols</th>\n",
       "      <th>proanthocyanins</th>\n",
       "      <th>color intensity</th>\n",
       "      <th>hue</th>\n",
       "      <th>OD208</th>\n",
       "      <th>proline</th>\n",
       "    </tr>\n",
       "  </thead>\n",
       "  <tbody>\n",
       "    <tr>\n",
       "      <th>96</th>\n",
       "      <td>11.81</td>\n",
       "      <td>2.12</td>\n",
       "      <td>2.74</td>\n",
       "      <td>21.5</td>\n",
       "      <td>134</td>\n",
       "      <td>1.6</td>\n",
       "      <td>0.99</td>\n",
       "      <td>0.14</td>\n",
       "      <td>1.56</td>\n",
       "      <td>2.5</td>\n",
       "      <td>0.95</td>\n",
       "      <td>2.26</td>\n",
       "      <td>625</td>\n",
       "    </tr>\n",
       "  </tbody>\n",
       "</table>\n",
       "</div>"
      ],
      "text/plain": [
       "    alchohol  malic acid   ash  alcalinity of ash  magnesium  total phenols  \\\n",
       "96     11.81        2.12  2.74               21.5        134            1.6   \n",
       "\n",
       "    flavanoids  nonflavanoid phenols  proanthocyanins  color intensity   hue  \\\n",
       "96        0.99                  0.14             1.56              2.5  0.95   \n",
       "\n",
       "    OD208  proline  \n",
       "96   2.26      625  "
      ]
     },
     "execution_count": 85,
     "metadata": {},
     "output_type": "execute_result"
    }
   ],
   "source": [
    "# 96번 데이터만 오분류(2인데 3로 오분류)\n",
    "X_val.loc[X_val.index==96]"
   ]
  },
  {
   "cell_type": "code",
   "execution_count": 86,
   "metadata": {},
   "outputs": [
    {
     "data": {
      "text/html": [
       "<div>\n",
       "<style scoped>\n",
       "    .dataframe tbody tr th:only-of-type {\n",
       "        vertical-align: middle;\n",
       "    }\n",
       "\n",
       "    .dataframe tbody tr th {\n",
       "        vertical-align: top;\n",
       "    }\n",
       "\n",
       "    .dataframe thead th {\n",
       "        text-align: right;\n",
       "    }\n",
       "</style>\n",
       "<table border=\"1\" class=\"dataframe\">\n",
       "  <thead>\n",
       "    <tr style=\"text-align: right;\">\n",
       "      <th></th>\n",
       "      <th>class label</th>\n",
       "      <th>alchohol</th>\n",
       "      <th>malic acid</th>\n",
       "      <th>ash</th>\n",
       "      <th>alcalinity of ash</th>\n",
       "      <th>magnesium</th>\n",
       "      <th>total phenols</th>\n",
       "      <th>flavanoids</th>\n",
       "      <th>nonflavanoid phenols</th>\n",
       "      <th>proanthocyanins</th>\n",
       "      <th>color intensity</th>\n",
       "      <th>hue</th>\n",
       "      <th>OD208</th>\n",
       "      <th>proline</th>\n",
       "    </tr>\n",
       "  </thead>\n",
       "  <tbody>\n",
       "    <tr>\n",
       "      <th>0</th>\n",
       "      <td>1</td>\n",
       "      <td>14.23</td>\n",
       "      <td>1.71</td>\n",
       "      <td>2.43</td>\n",
       "      <td>15.6</td>\n",
       "      <td>127</td>\n",
       "      <td>2.80</td>\n",
       "      <td>3.06</td>\n",
       "      <td>0.28</td>\n",
       "      <td>2.29</td>\n",
       "      <td>5.64</td>\n",
       "      <td>1.04</td>\n",
       "      <td>3.92</td>\n",
       "      <td>1065</td>\n",
       "    </tr>\n",
       "    <tr>\n",
       "      <th>1</th>\n",
       "      <td>1</td>\n",
       "      <td>13.20</td>\n",
       "      <td>1.78</td>\n",
       "      <td>2.14</td>\n",
       "      <td>11.2</td>\n",
       "      <td>100</td>\n",
       "      <td>2.65</td>\n",
       "      <td>2.76</td>\n",
       "      <td>0.26</td>\n",
       "      <td>1.28</td>\n",
       "      <td>4.38</td>\n",
       "      <td>1.05</td>\n",
       "      <td>3.40</td>\n",
       "      <td>1050</td>\n",
       "    </tr>\n",
       "    <tr>\n",
       "      <th>2</th>\n",
       "      <td>1</td>\n",
       "      <td>13.16</td>\n",
       "      <td>2.36</td>\n",
       "      <td>2.67</td>\n",
       "      <td>18.6</td>\n",
       "      <td>101</td>\n",
       "      <td>2.80</td>\n",
       "      <td>3.24</td>\n",
       "      <td>0.30</td>\n",
       "      <td>2.81</td>\n",
       "      <td>5.68</td>\n",
       "      <td>1.03</td>\n",
       "      <td>3.17</td>\n",
       "      <td>1185</td>\n",
       "    </tr>\n",
       "    <tr>\n",
       "      <th>3</th>\n",
       "      <td>1</td>\n",
       "      <td>14.37</td>\n",
       "      <td>1.95</td>\n",
       "      <td>2.50</td>\n",
       "      <td>16.8</td>\n",
       "      <td>113</td>\n",
       "      <td>3.85</td>\n",
       "      <td>3.49</td>\n",
       "      <td>0.24</td>\n",
       "      <td>2.18</td>\n",
       "      <td>7.80</td>\n",
       "      <td>0.86</td>\n",
       "      <td>3.45</td>\n",
       "      <td>1480</td>\n",
       "    </tr>\n",
       "    <tr>\n",
       "      <th>4</th>\n",
       "      <td>1</td>\n",
       "      <td>13.24</td>\n",
       "      <td>2.59</td>\n",
       "      <td>2.87</td>\n",
       "      <td>21.0</td>\n",
       "      <td>118</td>\n",
       "      <td>2.80</td>\n",
       "      <td>2.69</td>\n",
       "      <td>0.39</td>\n",
       "      <td>1.82</td>\n",
       "      <td>4.32</td>\n",
       "      <td>1.04</td>\n",
       "      <td>2.93</td>\n",
       "      <td>735</td>\n",
       "    </tr>\n",
       "    <tr>\n",
       "      <th>...</th>\n",
       "      <td>...</td>\n",
       "      <td>...</td>\n",
       "      <td>...</td>\n",
       "      <td>...</td>\n",
       "      <td>...</td>\n",
       "      <td>...</td>\n",
       "      <td>...</td>\n",
       "      <td>...</td>\n",
       "      <td>...</td>\n",
       "      <td>...</td>\n",
       "      <td>...</td>\n",
       "      <td>...</td>\n",
       "      <td>...</td>\n",
       "      <td>...</td>\n",
       "    </tr>\n",
       "    <tr>\n",
       "      <th>173</th>\n",
       "      <td>3</td>\n",
       "      <td>13.71</td>\n",
       "      <td>5.65</td>\n",
       "      <td>2.45</td>\n",
       "      <td>20.5</td>\n",
       "      <td>95</td>\n",
       "      <td>1.68</td>\n",
       "      <td>0.61</td>\n",
       "      <td>0.52</td>\n",
       "      <td>1.06</td>\n",
       "      <td>7.70</td>\n",
       "      <td>0.64</td>\n",
       "      <td>1.74</td>\n",
       "      <td>740</td>\n",
       "    </tr>\n",
       "    <tr>\n",
       "      <th>174</th>\n",
       "      <td>3</td>\n",
       "      <td>13.40</td>\n",
       "      <td>3.91</td>\n",
       "      <td>2.48</td>\n",
       "      <td>23.0</td>\n",
       "      <td>102</td>\n",
       "      <td>1.80</td>\n",
       "      <td>0.75</td>\n",
       "      <td>0.43</td>\n",
       "      <td>1.41</td>\n",
       "      <td>7.30</td>\n",
       "      <td>0.70</td>\n",
       "      <td>1.56</td>\n",
       "      <td>750</td>\n",
       "    </tr>\n",
       "    <tr>\n",
       "      <th>175</th>\n",
       "      <td>3</td>\n",
       "      <td>13.27</td>\n",
       "      <td>4.28</td>\n",
       "      <td>2.26</td>\n",
       "      <td>20.0</td>\n",
       "      <td>120</td>\n",
       "      <td>1.59</td>\n",
       "      <td>0.69</td>\n",
       "      <td>0.43</td>\n",
       "      <td>1.35</td>\n",
       "      <td>10.20</td>\n",
       "      <td>0.59</td>\n",
       "      <td>1.56</td>\n",
       "      <td>835</td>\n",
       "    </tr>\n",
       "    <tr>\n",
       "      <th>176</th>\n",
       "      <td>3</td>\n",
       "      <td>13.17</td>\n",
       "      <td>2.59</td>\n",
       "      <td>2.37</td>\n",
       "      <td>20.0</td>\n",
       "      <td>120</td>\n",
       "      <td>1.65</td>\n",
       "      <td>0.68</td>\n",
       "      <td>0.53</td>\n",
       "      <td>1.46</td>\n",
       "      <td>9.30</td>\n",
       "      <td>0.60</td>\n",
       "      <td>1.62</td>\n",
       "      <td>840</td>\n",
       "    </tr>\n",
       "    <tr>\n",
       "      <th>177</th>\n",
       "      <td>3</td>\n",
       "      <td>14.13</td>\n",
       "      <td>4.10</td>\n",
       "      <td>2.74</td>\n",
       "      <td>24.5</td>\n",
       "      <td>96</td>\n",
       "      <td>2.05</td>\n",
       "      <td>0.76</td>\n",
       "      <td>0.56</td>\n",
       "      <td>1.35</td>\n",
       "      <td>9.20</td>\n",
       "      <td>0.61</td>\n",
       "      <td>1.60</td>\n",
       "      <td>560</td>\n",
       "    </tr>\n",
       "  </tbody>\n",
       "</table>\n",
       "<p>178 rows × 14 columns</p>\n",
       "</div>"
      ],
      "text/plain": [
       "     class label  alchohol  malic acid   ash  alcalinity of ash  magnesium  \\\n",
       "0              1     14.23        1.71  2.43               15.6        127   \n",
       "1              1     13.20        1.78  2.14               11.2        100   \n",
       "2              1     13.16        2.36  2.67               18.6        101   \n",
       "3              1     14.37        1.95  2.50               16.8        113   \n",
       "4              1     13.24        2.59  2.87               21.0        118   \n",
       "..           ...       ...         ...   ...                ...        ...   \n",
       "173            3     13.71        5.65  2.45               20.5         95   \n",
       "174            3     13.40        3.91  2.48               23.0        102   \n",
       "175            3     13.27        4.28  2.26               20.0        120   \n",
       "176            3     13.17        2.59  2.37               20.0        120   \n",
       "177            3     14.13        4.10  2.74               24.5         96   \n",
       "\n",
       "     total phenols  flavanoids  nonflavanoid phenols  proanthocyanins  \\\n",
       "0             2.80        3.06                  0.28             2.29   \n",
       "1             2.65        2.76                  0.26             1.28   \n",
       "2             2.80        3.24                  0.30             2.81   \n",
       "3             3.85        3.49                  0.24             2.18   \n",
       "4             2.80        2.69                  0.39             1.82   \n",
       "..             ...         ...                   ...              ...   \n",
       "173           1.68        0.61                  0.52             1.06   \n",
       "174           1.80        0.75                  0.43             1.41   \n",
       "175           1.59        0.69                  0.43             1.35   \n",
       "176           1.65        0.68                  0.53             1.46   \n",
       "177           2.05        0.76                  0.56             1.35   \n",
       "\n",
       "     color intensity   hue  OD208  proline  \n",
       "0               5.64  1.04   3.92     1065  \n",
       "1               4.38  1.05   3.40     1050  \n",
       "2               5.68  1.03   3.17     1185  \n",
       "3               7.80  0.86   3.45     1480  \n",
       "4               4.32  1.04   2.93      735  \n",
       "..               ...   ...    ...      ...  \n",
       "173             7.70  0.64   1.74      740  \n",
       "174             7.30  0.70   1.56      750  \n",
       "175            10.20  0.59   1.56      835  \n",
       "176             9.30  0.60   1.62      840  \n",
       "177             9.20  0.61   1.60      560  \n",
       "\n",
       "[178 rows x 14 columns]"
      ]
     },
     "execution_count": 86,
     "metadata": {},
     "output_type": "execute_result"
    }
   ],
   "source": [
    "data"
   ]
  },
  {
   "cell_type": "code",
   "execution_count": 87,
   "metadata": {},
   "outputs": [
    {
     "data": {
      "text/html": [
       "<div>\n",
       "<style scoped>\n",
       "    .dataframe tbody tr th:only-of-type {\n",
       "        vertical-align: middle;\n",
       "    }\n",
       "\n",
       "    .dataframe tbody tr th {\n",
       "        vertical-align: top;\n",
       "    }\n",
       "\n",
       "    .dataframe thead th {\n",
       "        text-align: right;\n",
       "    }\n",
       "</style>\n",
       "<table border=\"1\" class=\"dataframe\">\n",
       "  <thead>\n",
       "    <tr style=\"text-align: right;\">\n",
       "      <th></th>\n",
       "      <th>class label</th>\n",
       "      <th>alchohol</th>\n",
       "      <th>malic acid</th>\n",
       "      <th>ash</th>\n",
       "      <th>alcalinity of ash</th>\n",
       "      <th>magnesium</th>\n",
       "      <th>total phenols</th>\n",
       "      <th>flavanoids</th>\n",
       "      <th>nonflavanoid phenols</th>\n",
       "      <th>proanthocyanins</th>\n",
       "      <th>color intensity</th>\n",
       "      <th>hue</th>\n",
       "      <th>OD208</th>\n",
       "      <th>proline</th>\n",
       "    </tr>\n",
       "  </thead>\n",
       "  <tbody>\n",
       "    <tr>\n",
       "      <th>96</th>\n",
       "      <td>2</td>\n",
       "      <td>11.81</td>\n",
       "      <td>2.12</td>\n",
       "      <td>2.74</td>\n",
       "      <td>21.5</td>\n",
       "      <td>134</td>\n",
       "      <td>1.6</td>\n",
       "      <td>0.99</td>\n",
       "      <td>0.14</td>\n",
       "      <td>1.56</td>\n",
       "      <td>2.5</td>\n",
       "      <td>0.95</td>\n",
       "      <td>2.26</td>\n",
       "      <td>625</td>\n",
       "    </tr>\n",
       "  </tbody>\n",
       "</table>\n",
       "</div>"
      ],
      "text/plain": [
       "    class label  alchohol  malic acid   ash  alcalinity of ash  magnesium  \\\n",
       "96            2     11.81        2.12  2.74               21.5        134   \n",
       "\n",
       "    total phenols  flavanoids  nonflavanoid phenols  proanthocyanins  \\\n",
       "96            1.6        0.99                  0.14             1.56   \n",
       "\n",
       "    color intensity   hue  OD208  proline  \n",
       "96              2.5  0.95   2.26      625  "
      ]
     },
     "execution_count": 87,
     "metadata": {},
     "output_type": "execute_result"
    }
   ],
   "source": [
    "data.query('index==96')"
   ]
  },
  {
   "cell_type": "code",
   "execution_count": 88,
   "metadata": {},
   "outputs": [
    {
     "data": {
      "text/plain": [
       "array([[1.83752633e-07, 3.12286099e-01, 6.87713717e-01]])"
      ]
     },
     "execution_count": 88,
     "metadata": {},
     "output_type": "execute_result"
    }
   ],
   "source": [
    "cld.predict_proba(X_val.loc[X_val.index==96])"
   ]
  },
  {
   "cell_type": "code",
   "execution_count": 89,
   "metadata": {},
   "outputs": [
    {
     "data": {
      "text/plain": [
       "class label\n",
       "1    2.982373\n",
       "2    2.080845\n",
       "3    0.781458\n",
       "Name: flavanoids, dtype: float64"
      ]
     },
     "execution_count": 89,
     "metadata": {},
     "output_type": "execute_result"
    }
   ],
   "source": [
    "data.groupby(['class label'])['flavanoids'].mean()"
   ]
  },
  {
   "cell_type": "markdown",
   "metadata": {},
   "source": [
    "2인데 3으로 분류함. 얘만 잘못분류함. "
   ]
  },
  {
   "cell_type": "code",
   "execution_count": 90,
   "metadata": {},
   "outputs": [
    {
     "name": "stdout",
     "output_type": "stream",
     "text": [
      "<클래스별 평균 추정치>\n",
      "[[1.36785366e+01 2.02317073e+00 2.45439024e+00 1.71365854e+01\n",
      "  1.05341463e+02 2.86219512e+00 3.02731707e+00 2.89268293e-01\n",
      "  1.95634146e+00 5.52000000e+00 1.06878049e+00 3.15609756e+00\n",
      "  1.11382927e+03]\n",
      " [1.22118000e+01 2.02160000e+00 2.27140000e+00 2.06780000e+01\n",
      "  9.34000000e+01 2.21060000e+00 2.04080000e+00 3.84000000e-01\n",
      "  1.58700000e+00 3.04620000e+00 1.04052000e+00 2.77820000e+00\n",
      "  4.94980000e+02]\n",
      " [1.31745455e+01 3.56666667e+00 2.42181818e+00 2.13181818e+01\n",
      "  1.00212121e+02 1.68151515e+00 7.77878788e-01 4.48787879e-01\n",
      "  1.17727273e+00 7.49424242e+00 6.86363636e-01 1.68090909e+00\n",
      "  6.49090909e+02]]\n",
      "----------------------------------------------------------------------\n",
      "<클래스별 분산 추정치>\n",
      "[[ 2.41615068e-01  3.84592439e-02 -5.24867188e-03 -2.30283993e-03\n",
      "  -7.86881482e-02  1.11713745e-02  1.33361710e-02 -4.67113583e-04\n",
      "   1.07053192e-02  1.77454884e-01  4.91173257e-04 -1.62968428e-02\n",
      "   8.54595097e+00]\n",
      " [ 3.84592439e-02  8.32381396e-01  2.83227199e-02  4.00338741e-01\n",
      "  -5.87202072e-01 -9.42715080e-03 -9.52135930e-03  7.35759507e-03\n",
      "   4.69856098e-02 -1.45330075e-01 -4.62261537e-02  5.60318655e-02\n",
      "  -2.84926307e+01]\n",
      " [-5.24867188e-03  2.83227199e-02  6.80395376e-02  4.91619869e-01\n",
      "   5.99821043e-01  2.86110643e-02  5.76375339e-02  7.22680996e-03\n",
      "   4.46800139e-03  5.20767053e-02  3.63662334e-03  2.06618862e-02\n",
      "  -5.77687326e-02]\n",
      " [-2.30283993e-03  4.00338741e-01  4.91619869e-01  8.43814527e+00\n",
      "   4.38952042e+00  1.97406921e-01  4.41501428e-01  4.11469745e-02\n",
      "   1.66482453e-01  5.67441496e-02  9.41799084e-04  3.51744582e-01\n",
      "   4.43128671e+00]\n",
      " [-7.86881482e-02 -5.87202072e-01  5.99821043e-01  4.38952042e+00\n",
      "   1.48134957e+02  8.43279534e-01  1.38061621e+00 -3.28155413e-01\n",
      "   5.56857342e-01  3.61988954e+00  1.89694578e-01  9.87314927e-03\n",
      "   3.46630273e+02]\n",
      " [ 1.11713745e-02 -9.42715080e-03  2.86110643e-02  1.97406921e-01\n",
      "   8.43279534e-01  1.86017812e-01  1.59137286e-01 -7.54268984e-03\n",
      "   8.76585132e-02  1.57237918e-01  3.01625786e-03  6.87287078e-02\n",
      "   8.58775339e+00]\n",
      " [ 1.33361710e-02 -9.52135930e-03  5.76375339e-02  4.41501428e-01\n",
      "   1.38061621e+00  1.59137286e-01  2.85851003e-01 -1.42042366e-02\n",
      "   1.24633279e-01  3.07526201e-01 -4.07281848e-03  7.69702126e-02\n",
      "   6.35732567e+00]\n",
      " [-4.67113583e-04  7.35759507e-03  7.22680996e-03  4.11469745e-02\n",
      "  -3.28155413e-01 -7.54268984e-03 -1.42042366e-02  1.25695933e-02\n",
      "  -9.75257135e-03  2.78652981e-03  9.21402904e-04 -1.28671025e-02\n",
      "   3.05100923e-01]\n",
      " [ 1.07053192e-02  4.69856098e-02  4.46800139e-03  1.66482453e-01\n",
      "   5.56857342e-01  8.76585132e-02  1.24633279e-01 -9.75257135e-03\n",
      "   2.19942385e-01  2.02321870e-01 -7.37348548e-03  5.10961811e-02\n",
      "   1.14237062e+01]\n",
      " [ 1.77454884e-01 -1.45330075e-01  5.20767053e-02  5.67441496e-02\n",
      "   3.61988954e+00  1.57237918e-01  3.07526201e-01  2.78652981e-03\n",
      "   2.02321870e-01  2.19148052e+00 -3.74886460e-02 -1.11019913e-01\n",
      "   7.34130119e+01]\n",
      " [ 4.91173257e-04 -4.62261537e-02  3.63662334e-03  9.41799084e-04\n",
      "   1.89694578e-01  3.01625786e-03 -4.07281848e-03  9.21402904e-04\n",
      "  -7.37348548e-03 -3.74886460e-02  2.56624608e-02 -3.25483251e-03\n",
      "   3.92341042e+00]\n",
      " [-1.62968428e-02  5.60318655e-02  2.06618862e-02  3.51744582e-01\n",
      "   9.87314927e-03  6.87287078e-02  7.69702126e-02 -1.28671025e-02\n",
      "   5.10961811e-02 -1.11019913e-01 -3.25483251e-03  1.68851503e-01\n",
      "  -9.00799874e+00]\n",
      " [ 8.54595097e+00 -2.84926307e+01 -5.77687326e-02  4.43128671e+00\n",
      "   3.46630273e+02  8.58775339e+00  6.35732567e+00  3.05100923e-01\n",
      "   1.14237062e+01  7.34130119e+01  3.92341042e+00 -9.00799874e+00\n",
      "   2.91865283e+04]]\n",
      "----------------------------------------------------------------------\n",
      "<클래스별 판별식의 bias(intercept)>\n",
      "[-67.42856949  36.51807749  -1.65569344]\n",
      "----------------------------------------------------------------------\n",
      "<클래스별 판별식의 계수 추정치>\n",
      "[[ 3.31363106e+00 -1.50074077e-01  3.52564251e+00 -8.89161617e-01\n",
      "   1.52342343e-02 -2.17293267e+00  5.03235438e+00  3.12123703e+00\n",
      "  -6.92880046e-01 -8.98897257e-01  1.13259908e+00  4.18153518e+00\n",
      "   1.45033209e-02]\n",
      " [-2.46059543e+00 -5.42764250e-01 -5.84259880e+00  3.74068465e-01\n",
      "  -7.58334217e-03 -6.65402628e-01  2.13832396e+00  5.34725357e+00\n",
      "   4.54059921e-01 -5.81709854e-01  3.80466959e+00 -3.06608438e-01\n",
      "  -7.64653043e-03]\n",
      " [-3.88760666e-01  1.00882575e+00  4.47207870e+00  5.37945547e-01\n",
      "  -7.43746969e-03  3.70789002e+00 -9.49220387e+00 -1.19797999e+01\n",
      "   1.72881390e-01  1.99819031e+00 -7.17181945e+00 -4.73068243e+00\n",
      "  -6.43362530e-03]]\n"
     ]
    }
   ],
   "source": [
    "print('<클래스별 평균 추정치>') # 같음\n",
    "print(cld.means_)\n",
    "print('-'*70)\n",
    "# print(cld.xbar_) # svd인 경우만 존재\n",
    "print('<클래스별 분산 추정치>')\n",
    "cov = cld.covariance_\n",
    "print(cov)\n",
    "print('-'*70)\n",
    "print('<클래스별 판별식의 bias(intercept)>')\n",
    "print(cld.intercept_)\n",
    "print('-'*70)\n",
    "print('<클래스별 판별식의 계수 추정치>')\n",
    "print(cld.coef_)"
   ]
  },
  {
   "cell_type": "code",
   "execution_count": 91,
   "metadata": {},
   "outputs": [
    {
     "data": {
      "text/plain": [
       "Index(['class label', 'alchohol', 'malic acid', 'ash', 'alcalinity of ash',\n",
       "       'magnesium', 'total phenols', 'flavanoids', 'nonflavanoid phenols',\n",
       "       'proanthocyanins', 'color intensity', 'hue', 'OD208', 'proline'],\n",
       "      dtype='object')"
      ]
     },
     "execution_count": 91,
     "metadata": {},
     "output_type": "execute_result"
    }
   ],
   "source": [
    "data.columns"
   ]
  },
  {
   "cell_type": "code",
   "execution_count": 92,
   "metadata": {},
   "outputs": [
    {
     "data": {
      "text/plain": [
       "(13, 13)"
      ]
     },
     "execution_count": 92,
     "metadata": {},
     "output_type": "execute_result"
    }
   ],
   "source": [
    "cov.shape"
   ]
  },
  {
   "cell_type": "markdown",
   "metadata": {},
   "source": [
    "# 2. QDA\n",
    "- 범주별 공분산의 구조가 확연히 다를 때"
   ]
  },
  {
   "cell_type": "code",
   "execution_count": null,
   "metadata": {},
   "outputs": [],
   "source": [
    "from sklearn.discriminant_analysis import QuadraticDiscriminantAnalysis\n",
    "cqd=QuadraticDiscriminantAnalysis(store_covariance=True)\n",
    "\n",
    "cqd.fit(X_train, y_train)\n",
    "y_train_pred=cqd.predict(X_train)\n",
    "y_val_pred=cqd.predict(X_val)\n",
    "\n",
    "print(accuracy_score(y_train, y_train_pred))\n",
    "print(accuracy_score(y_val, y_val_pred)) \n",
    "print(confusion_matrix(y_val, y_val_pred)) "
   ]
  },
  {
   "cell_type": "code",
   "execution_count": null,
   "metadata": {},
   "outputs": [],
   "source": [
    "y_val_pred"
   ]
  },
  {
   "cell_type": "code",
   "execution_count": null,
   "metadata": {},
   "outputs": [],
   "source": [
    "data.query('index==136|index==81')"
   ]
  },
  {
   "cell_type": "code",
   "execution_count": null,
   "metadata": {},
   "outputs": [],
   "source": [
    "# 3인데 2로 분류\n",
    "display(X_val.loc[X_val.index==136])\n",
    "print(cqd.predict_proba(X_val.loc[X_val.index==136]) )"
   ]
  },
  {
   "cell_type": "code",
   "execution_count": null,
   "metadata": {},
   "outputs": [],
   "source": [
    "# 2인데 1로 분류\n",
    "display(X_val.loc[X_val.index==81])\n",
    "print(cqd.predict_proba(X_val.loc[X_val.index==81]) )"
   ]
  },
  {
   "cell_type": "markdown",
   "metadata": {},
   "source": [
    "2인데 1로 분류된 것, 3인데 2로 분류된 것 두개 존재"
   ]
  },
  {
   "cell_type": "code",
   "execution_count": null,
   "metadata": {
    "scrolled": true
   },
   "outputs": [],
   "source": [
    "print('<클래스별 평균 추정치>')\n",
    "print(cqd.means_)\n",
    "print('-'*70)\n",
    "# print(cqd.xbar_) # svd인 경우만 존재\n",
    "print('<클래스별 분산 추정치>')\n",
    "print(cqd.covariance_) # 범주별 공분산이 다르다고 가정함. \n",
    "print('-'*70)\n",
    "print('< array_like >')\n",
    "print(cqd.priors_)\n",
    "print('-'*70)\n",
    "print('< rotation >')\n",
    "print(cqd.rotations_)"
   ]
  },
  {
   "cell_type": "code",
   "execution_count": null,
   "metadata": {},
   "outputs": [],
   "source": [
    "a = cqd.covariance_"
   ]
  },
  {
   "cell_type": "code",
   "execution_count": null,
   "metadata": {},
   "outputs": [],
   "source": [
    "len(a)"
   ]
  },
  {
   "cell_type": "code",
   "execution_count": null,
   "metadata": {},
   "outputs": [],
   "source": [
    "a_array = np.array(a)"
   ]
  },
  {
   "cell_type": "code",
   "execution_count": null,
   "metadata": {},
   "outputs": [],
   "source": [
    "a_array.shape # 각 범주별 공분산"
   ]
  },
  {
   "cell_type": "code",
   "execution_count": null,
   "metadata": {},
   "outputs": [],
   "source": [
    "a_array[0]"
   ]
  },
  {
   "cell_type": "code",
   "execution_count": null,
   "metadata": {},
   "outputs": [],
   "source": [
    "cov"
   ]
  },
  {
   "cell_type": "markdown",
   "metadata": {},
   "source": [
    "# 3. Baysian Model\n",
    "- 모든 변수들을 서로 조건부 독립이라고 가정함\n",
    "## 1) Gaussian Naive Bayes"
   ]
  },
  {
   "cell_type": "code",
   "execution_count": 93,
   "metadata": {},
   "outputs": [
    {
     "name": "stdout",
     "output_type": "stream",
     "text": [
      "0.9919354838709677\n",
      "0.9814814814814815\n",
      "[[17  1  0]\n",
      " [ 0 21  0]\n",
      " [ 0  0 15]]\n"
     ]
    }
   ],
   "source": [
    "from sklearn.naive_bayes import GaussianNB\n",
    "gnb = GaussianNB()\n",
    "gnb.fit(X_train, y_train)\n",
    "g_train_pred = gnb.predict(X_train)\n",
    "g_val_pred = gnb.predict(X_val)\n",
    "\n",
    "print(accuracy_score(y_train, g_train_pred))\n",
    "print(accuracy_score(y_val, g_val_pred)) \n",
    "print(confusion_matrix(y_val, g_val_pred)) "
   ]
  },
  {
   "cell_type": "code",
   "execution_count": 94,
   "metadata": {},
   "outputs": [
    {
     "data": {
      "text/html": [
       "<div>\n",
       "<style scoped>\n",
       "    .dataframe tbody tr th:only-of-type {\n",
       "        vertical-align: middle;\n",
       "    }\n",
       "\n",
       "    .dataframe tbody tr th {\n",
       "        vertical-align: top;\n",
       "    }\n",
       "\n",
       "    .dataframe thead th {\n",
       "        text-align: right;\n",
       "    }\n",
       "</style>\n",
       "<table border=\"1\" class=\"dataframe\">\n",
       "  <thead>\n",
       "    <tr style=\"text-align: right;\">\n",
       "      <th></th>\n",
       "      <th>class label</th>\n",
       "      <th>alchohol</th>\n",
       "      <th>malic acid</th>\n",
       "      <th>ash</th>\n",
       "      <th>alcalinity of ash</th>\n",
       "      <th>magnesium</th>\n",
       "      <th>total phenols</th>\n",
       "      <th>flavanoids</th>\n",
       "      <th>nonflavanoid phenols</th>\n",
       "      <th>proanthocyanins</th>\n",
       "      <th>color intensity</th>\n",
       "      <th>hue</th>\n",
       "      <th>OD208</th>\n",
       "      <th>proline</th>\n",
       "    </tr>\n",
       "  </thead>\n",
       "  <tbody>\n",
       "    <tr>\n",
       "      <th>25</th>\n",
       "      <td>1</td>\n",
       "      <td>13.05</td>\n",
       "      <td>2.05</td>\n",
       "      <td>3.22</td>\n",
       "      <td>25.0</td>\n",
       "      <td>124</td>\n",
       "      <td>2.63</td>\n",
       "      <td>2.68</td>\n",
       "      <td>0.47</td>\n",
       "      <td>1.92</td>\n",
       "      <td>3.58</td>\n",
       "      <td>1.13</td>\n",
       "      <td>3.2</td>\n",
       "      <td>830</td>\n",
       "    </tr>\n",
       "  </tbody>\n",
       "</table>\n",
       "</div>"
      ],
      "text/plain": [
       "    class label  alchohol  malic acid   ash  alcalinity of ash  magnesium  \\\n",
       "25            1     13.05        2.05  3.22               25.0        124   \n",
       "\n",
       "    total phenols  flavanoids  nonflavanoid phenols  proanthocyanins  \\\n",
       "25           2.63        2.68                  0.47             1.92   \n",
       "\n",
       "    color intensity   hue  OD208  proline  \n",
       "25             3.58  1.13    3.2      830  "
      ]
     },
     "metadata": {},
     "output_type": "display_data"
    },
    {
     "name": "stdout",
     "output_type": "stream",
     "text": [
      "[[2.66728538e-02 9.73327146e-01 4.27853938e-24]]\n"
     ]
    }
   ],
   "source": [
    "# 1인데 2로 분류\n",
    "display(data.query('index==25'))\n",
    "print(gnb.predict_proba(X_val.loc[X_val.index==25]) )"
   ]
  },
  {
   "cell_type": "code",
   "execution_count": 97,
   "metadata": {},
   "outputs": [
    {
     "data": {
      "text/html": [
       "<div>\n",
       "<style scoped>\n",
       "    .dataframe tbody tr th:only-of-type {\n",
       "        vertical-align: middle;\n",
       "    }\n",
       "\n",
       "    .dataframe tbody tr th {\n",
       "        vertical-align: top;\n",
       "    }\n",
       "\n",
       "    .dataframe thead th {\n",
       "        text-align: right;\n",
       "    }\n",
       "</style>\n",
       "<table border=\"1\" class=\"dataframe\">\n",
       "  <thead>\n",
       "    <tr style=\"text-align: right;\">\n",
       "      <th></th>\n",
       "      <th>alchohol</th>\n",
       "      <th>malic acid</th>\n",
       "      <th>ash</th>\n",
       "      <th>alcalinity of ash</th>\n",
       "      <th>magnesium</th>\n",
       "      <th>total phenols</th>\n",
       "      <th>flavanoids</th>\n",
       "      <th>nonflavanoid phenols</th>\n",
       "      <th>proanthocyanins</th>\n",
       "      <th>color intensity</th>\n",
       "      <th>hue</th>\n",
       "      <th>OD208</th>\n",
       "      <th>proline</th>\n",
       "    </tr>\n",
       "    <tr>\n",
       "      <th>class label</th>\n",
       "      <th></th>\n",
       "      <th></th>\n",
       "      <th></th>\n",
       "      <th></th>\n",
       "      <th></th>\n",
       "      <th></th>\n",
       "      <th></th>\n",
       "      <th></th>\n",
       "      <th></th>\n",
       "      <th></th>\n",
       "      <th></th>\n",
       "      <th></th>\n",
       "      <th></th>\n",
       "    </tr>\n",
       "  </thead>\n",
       "  <tbody>\n",
       "    <tr>\n",
       "      <th>1</th>\n",
       "      <td>13.744746</td>\n",
       "      <td>2.010678</td>\n",
       "      <td>2.455593</td>\n",
       "      <td>17.037288</td>\n",
       "      <td>106.338983</td>\n",
       "      <td>2.840169</td>\n",
       "      <td>2.982373</td>\n",
       "      <td>0.290000</td>\n",
       "      <td>1.899322</td>\n",
       "      <td>5.528305</td>\n",
       "      <td>1.062034</td>\n",
       "      <td>3.157797</td>\n",
       "      <td>1115.711864</td>\n",
       "    </tr>\n",
       "    <tr>\n",
       "      <th>2</th>\n",
       "      <td>12.278732</td>\n",
       "      <td>1.932676</td>\n",
       "      <td>2.244789</td>\n",
       "      <td>20.238028</td>\n",
       "      <td>94.549296</td>\n",
       "      <td>2.258873</td>\n",
       "      <td>2.080845</td>\n",
       "      <td>0.363662</td>\n",
       "      <td>1.630282</td>\n",
       "      <td>3.086620</td>\n",
       "      <td>1.056282</td>\n",
       "      <td>2.785352</td>\n",
       "      <td>519.507042</td>\n",
       "    </tr>\n",
       "    <tr>\n",
       "      <th>3</th>\n",
       "      <td>13.153750</td>\n",
       "      <td>3.333750</td>\n",
       "      <td>2.437083</td>\n",
       "      <td>21.416667</td>\n",
       "      <td>99.312500</td>\n",
       "      <td>1.678750</td>\n",
       "      <td>0.781458</td>\n",
       "      <td>0.447500</td>\n",
       "      <td>1.153542</td>\n",
       "      <td>7.396250</td>\n",
       "      <td>0.682708</td>\n",
       "      <td>1.683542</td>\n",
       "      <td>629.895833</td>\n",
       "    </tr>\n",
       "  </tbody>\n",
       "</table>\n",
       "</div>"
      ],
      "text/plain": [
       "              alchohol  malic acid       ash  alcalinity of ash   magnesium  \\\n",
       "class label                                                                   \n",
       "1            13.744746    2.010678  2.455593          17.037288  106.338983   \n",
       "2            12.278732    1.932676  2.244789          20.238028   94.549296   \n",
       "3            13.153750    3.333750  2.437083          21.416667   99.312500   \n",
       "\n",
       "             total phenols  flavanoids  nonflavanoid phenols  proanthocyanins  \\\n",
       "class label                                                                     \n",
       "1                 2.840169    2.982373              0.290000         1.899322   \n",
       "2                 2.258873    2.080845              0.363662         1.630282   \n",
       "3                 1.678750    0.781458              0.447500         1.153542   \n",
       "\n",
       "             color intensity       hue     OD208      proline  \n",
       "class label                                                    \n",
       "1                   5.528305  1.062034  3.157797  1115.711864  \n",
       "2                   3.086620  1.056282  2.785352   519.507042  \n",
       "3                   7.396250  0.682708  1.683542   629.895833  "
      ]
     },
     "execution_count": 97,
     "metadata": {},
     "output_type": "execute_result"
    }
   ],
   "source": [
    "data.groupby(['class label']).mean()"
   ]
  },
  {
   "cell_type": "code",
   "execution_count": 95,
   "metadata": {},
   "outputs": [
    {
     "data": {
      "text/plain": [
       "array([[1.83899659e-01, 4.28303942e-01, 4.70483797e-02, 5.85120234e+00,\n",
       "        9.23713094e+01, 1.23338445e-01, 1.67672651e-01, 5.62077705e-03,\n",
       "        1.86856708e-01, 1.70165302e+00, 1.38539716e-02, 1.13593888e-01,\n",
       "        5.08760441e+04],\n",
       "       [2.90028560e-01, 9.27111240e-01, 1.08893840e-01, 1.25406178e+01,\n",
       "        2.01560102e+02, 2.97419440e-01, 5.15645160e-01, 1.56738003e-02,\n",
       "        3.13086800e-01, 8.92065360e-01, 4.36086499e-02, 2.82256560e-01,\n",
       "        2.09297797e+04],\n",
       "       [2.40350836e-01, 1.19126948e+00, 3.26015248e-02, 5.43674092e+00,\n",
       "        1.36470258e+02, 9.54843531e-02, 8.48882098e-02, 1.68821492e-02,\n",
       "        1.20303453e-01, 4.76924744e+00, 1.35249407e-02, 6.60615799e-02,\n",
       "        1.47491737e+04]])"
      ]
     },
     "execution_count": 95,
     "metadata": {},
     "output_type": "execute_result"
    }
   ],
   "source": [
    "gnb.sigma_ # 각 범주별 공분산"
   ]
  },
  {
   "cell_type": "code",
   "execution_count": 96,
   "metadata": {},
   "outputs": [
    {
     "data": {
      "text/plain": [
       "array([[ 2.41615068e-01,  3.84592439e-02, -5.24867188e-03,\n",
       "        -2.30283993e-03, -7.86881482e-02,  1.11713745e-02,\n",
       "         1.33361710e-02, -4.67113583e-04,  1.07053192e-02,\n",
       "         1.77454884e-01,  4.91173257e-04, -1.62968428e-02,\n",
       "         8.54595097e+00],\n",
       "       [ 3.84592439e-02,  8.32381396e-01,  2.83227199e-02,\n",
       "         4.00338741e-01, -5.87202072e-01, -9.42715080e-03,\n",
       "        -9.52135930e-03,  7.35759507e-03,  4.69856098e-02,\n",
       "        -1.45330075e-01, -4.62261537e-02,  5.60318655e-02,\n",
       "        -2.84926307e+01],\n",
       "       [-5.24867188e-03,  2.83227199e-02,  6.80395376e-02,\n",
       "         4.91619869e-01,  5.99821043e-01,  2.86110643e-02,\n",
       "         5.76375339e-02,  7.22680996e-03,  4.46800139e-03,\n",
       "         5.20767053e-02,  3.63662334e-03,  2.06618862e-02,\n",
       "        -5.77687326e-02],\n",
       "       [-2.30283993e-03,  4.00338741e-01,  4.91619869e-01,\n",
       "         8.43814527e+00,  4.38952042e+00,  1.97406921e-01,\n",
       "         4.41501428e-01,  4.11469745e-02,  1.66482453e-01,\n",
       "         5.67441496e-02,  9.41799084e-04,  3.51744582e-01,\n",
       "         4.43128671e+00],\n",
       "       [-7.86881482e-02, -5.87202072e-01,  5.99821043e-01,\n",
       "         4.38952042e+00,  1.48134957e+02,  8.43279534e-01,\n",
       "         1.38061621e+00, -3.28155413e-01,  5.56857342e-01,\n",
       "         3.61988954e+00,  1.89694578e-01,  9.87314927e-03,\n",
       "         3.46630273e+02],\n",
       "       [ 1.11713745e-02, -9.42715080e-03,  2.86110643e-02,\n",
       "         1.97406921e-01,  8.43279534e-01,  1.86017812e-01,\n",
       "         1.59137286e-01, -7.54268984e-03,  8.76585132e-02,\n",
       "         1.57237918e-01,  3.01625786e-03,  6.87287078e-02,\n",
       "         8.58775339e+00],\n",
       "       [ 1.33361710e-02, -9.52135930e-03,  5.76375339e-02,\n",
       "         4.41501428e-01,  1.38061621e+00,  1.59137286e-01,\n",
       "         2.85851003e-01, -1.42042366e-02,  1.24633279e-01,\n",
       "         3.07526201e-01, -4.07281848e-03,  7.69702126e-02,\n",
       "         6.35732567e+00],\n",
       "       [-4.67113583e-04,  7.35759507e-03,  7.22680996e-03,\n",
       "         4.11469745e-02, -3.28155413e-01, -7.54268984e-03,\n",
       "        -1.42042366e-02,  1.25695933e-02, -9.75257135e-03,\n",
       "         2.78652981e-03,  9.21402904e-04, -1.28671025e-02,\n",
       "         3.05100923e-01],\n",
       "       [ 1.07053192e-02,  4.69856098e-02,  4.46800139e-03,\n",
       "         1.66482453e-01,  5.56857342e-01,  8.76585132e-02,\n",
       "         1.24633279e-01, -9.75257135e-03,  2.19942385e-01,\n",
       "         2.02321870e-01, -7.37348548e-03,  5.10961811e-02,\n",
       "         1.14237062e+01],\n",
       "       [ 1.77454884e-01, -1.45330075e-01,  5.20767053e-02,\n",
       "         5.67441496e-02,  3.61988954e+00,  1.57237918e-01,\n",
       "         3.07526201e-01,  2.78652981e-03,  2.02321870e-01,\n",
       "         2.19148052e+00, -3.74886460e-02, -1.11019913e-01,\n",
       "         7.34130119e+01],\n",
       "       [ 4.91173257e-04, -4.62261537e-02,  3.63662334e-03,\n",
       "         9.41799084e-04,  1.89694578e-01,  3.01625786e-03,\n",
       "        -4.07281848e-03,  9.21402904e-04, -7.37348548e-03,\n",
       "        -3.74886460e-02,  2.56624608e-02, -3.25483251e-03,\n",
       "         3.92341042e+00],\n",
       "       [-1.62968428e-02,  5.60318655e-02,  2.06618862e-02,\n",
       "         3.51744582e-01,  9.87314927e-03,  6.87287078e-02,\n",
       "         7.69702126e-02, -1.28671025e-02,  5.10961811e-02,\n",
       "        -1.11019913e-01, -3.25483251e-03,  1.68851503e-01,\n",
       "        -9.00799874e+00],\n",
       "       [ 8.54595097e+00, -2.84926307e+01, -5.77687326e-02,\n",
       "         4.43128671e+00,  3.46630273e+02,  8.58775339e+00,\n",
       "         6.35732567e+00,  3.05100923e-01,  1.14237062e+01,\n",
       "         7.34130119e+01,  3.92341042e+00, -9.00799874e+00,\n",
       "         2.91865283e+04]])"
      ]
     },
     "execution_count": 96,
     "metadata": {},
     "output_type": "execute_result"
    }
   ],
   "source": [
    "cov"
   ]
  },
  {
   "cell_type": "markdown",
   "metadata": {},
   "source": [
    "## 2) Multinomial Naive Bayes"
   ]
  },
  {
   "cell_type": "code",
   "execution_count": 28,
   "metadata": {
    "scrolled": true
   },
   "outputs": [
    {
     "name": "stdout",
     "output_type": "stream",
     "text": [
      "0.8467741935483871\n",
      "0.7407407407407407\n",
      "------------------------------------------------------------\n",
      "[[37  1  3]\n",
      " [ 1 41  8]\n",
      " [ 1  5 27]]\n",
      "[[15  0  3]\n",
      " [ 2 13  6]\n",
      " [ 0  3 12]]\n"
     ]
    }
   ],
   "source": [
    "from sklearn.naive_bayes import MultinomialNB\n",
    "gnb = MultinomialNB()\n",
    "gnb.fit(X_train, y_train)\n",
    "g_train_pred = gnb.predict(X_train)\n",
    "g_val_pred = gnb.predict(X_val)\n",
    "\n",
    "print(accuracy_score(y_train, g_train_pred))\n",
    "print(accuracy_score(y_val, g_val_pred)) \n",
    "print('-'*60)\n",
    "print(confusion_matrix(y_train, g_train_pred)) \n",
    "print(confusion_matrix(y_val, g_val_pred)) "
   ]
  }
 ],
 "metadata": {
  "kernelspec": {
   "display_name": "Python 3",
   "language": "python",
   "name": "python3"
  },
  "language_info": {
   "codemirror_mode": {
    "name": "ipython",
    "version": 3
   },
   "file_extension": ".py",
   "mimetype": "text/x-python",
   "name": "python",
   "nbconvert_exporter": "python",
   "pygments_lexer": "ipython3",
   "version": "3.7.7"
  }
 },
 "nbformat": 4,
 "nbformat_minor": 4
}
