{
  "nbformat": 4,
  "nbformat_minor": 0,
  "metadata": {
    "kernelspec": {
      "display_name": "Python 3",
      "language": "python",
      "name": "python3"
    },
    "language_info": {
      "codemirror_mode": {
        "name": "ipython",
        "version": 3
      },
      "file_extension": ".py",
      "mimetype": "text/x-python",
      "name": "python",
      "nbconvert_exporter": "python",
      "pygments_lexer": "ipython3",
      "version": "3.7.7"
    },
    "colab": {
      "name": "머신러닝 과제9.ipynb",
      "provenance": [],
      "machine_shape": "hm"
    }
  },
  "cells": [
    {
      "cell_type": "markdown",
      "metadata": {
        "id": "7pUZNi_DLjpR"
      },
      "source": [
        "# 과제 9\n",
        "p141의 wine_data를 이용하여 logistic, SVM, CART 모형을 적합하되 **nested cross validation**을 적용하여 최선의 모형을 산출하라."
      ]
    },
    {
      "cell_type": "code",
      "metadata": {
        "id": "wmLcClVmLjpZ",
        "outputId": "2a30438b-664a-4e88-9d1e-186dfcd21bd1",
        "colab": {
          "base_uri": "https://localhost:8080/",
          "height": 252
        }
      },
      "source": [
        "import pandas as pd\n",
        "import numpy as np\n",
        "\n",
        "# 데이터 불러오기. y값은 이미 범주형으로 되어있음.\n",
        "dat_wine=pd.read_csv('http://archive.ics.uci.edu/ml/machine-learning-databases/'\n",
        "                     'wine/wine.data',header=None)\n",
        "dat_wine.head()\n",
        "dat_wine.columns = ['class label', 'alchohol', 'malic acid', 'ash', \n",
        "                    'alcalinity of ash', 'magnesium', 'total phenols', \n",
        "                    'flavanoids', 'nonflavanoid phenols', \n",
        "                    'proanthocyanins', 'color intensity', 'hue', \n",
        "                    'OD208', 'proline']  # Column names\n",
        "print('class label:', np.unique(dat_wine['class label']))  # Class 출력\n",
        "dat_wine.head()"
      ],
      "execution_count": 90,
      "outputs": [
        {
          "output_type": "stream",
          "text": [
            "class label: [1 2 3]\n"
          ],
          "name": "stdout"
        },
        {
          "output_type": "execute_result",
          "data": {
            "text/html": [
              "<div>\n",
              "<style scoped>\n",
              "    .dataframe tbody tr th:only-of-type {\n",
              "        vertical-align: middle;\n",
              "    }\n",
              "\n",
              "    .dataframe tbody tr th {\n",
              "        vertical-align: top;\n",
              "    }\n",
              "\n",
              "    .dataframe thead th {\n",
              "        text-align: right;\n",
              "    }\n",
              "</style>\n",
              "<table border=\"1\" class=\"dataframe\">\n",
              "  <thead>\n",
              "    <tr style=\"text-align: right;\">\n",
              "      <th></th>\n",
              "      <th>class label</th>\n",
              "      <th>alchohol</th>\n",
              "      <th>malic acid</th>\n",
              "      <th>ash</th>\n",
              "      <th>alcalinity of ash</th>\n",
              "      <th>magnesium</th>\n",
              "      <th>total phenols</th>\n",
              "      <th>flavanoids</th>\n",
              "      <th>nonflavanoid phenols</th>\n",
              "      <th>proanthocyanins</th>\n",
              "      <th>color intensity</th>\n",
              "      <th>hue</th>\n",
              "      <th>OD208</th>\n",
              "      <th>proline</th>\n",
              "    </tr>\n",
              "  </thead>\n",
              "  <tbody>\n",
              "    <tr>\n",
              "      <th>0</th>\n",
              "      <td>1</td>\n",
              "      <td>14.23</td>\n",
              "      <td>1.71</td>\n",
              "      <td>2.43</td>\n",
              "      <td>15.6</td>\n",
              "      <td>127</td>\n",
              "      <td>2.80</td>\n",
              "      <td>3.06</td>\n",
              "      <td>0.28</td>\n",
              "      <td>2.29</td>\n",
              "      <td>5.64</td>\n",
              "      <td>1.04</td>\n",
              "      <td>3.92</td>\n",
              "      <td>1065</td>\n",
              "    </tr>\n",
              "    <tr>\n",
              "      <th>1</th>\n",
              "      <td>1</td>\n",
              "      <td>13.20</td>\n",
              "      <td>1.78</td>\n",
              "      <td>2.14</td>\n",
              "      <td>11.2</td>\n",
              "      <td>100</td>\n",
              "      <td>2.65</td>\n",
              "      <td>2.76</td>\n",
              "      <td>0.26</td>\n",
              "      <td>1.28</td>\n",
              "      <td>4.38</td>\n",
              "      <td>1.05</td>\n",
              "      <td>3.40</td>\n",
              "      <td>1050</td>\n",
              "    </tr>\n",
              "    <tr>\n",
              "      <th>2</th>\n",
              "      <td>1</td>\n",
              "      <td>13.16</td>\n",
              "      <td>2.36</td>\n",
              "      <td>2.67</td>\n",
              "      <td>18.6</td>\n",
              "      <td>101</td>\n",
              "      <td>2.80</td>\n",
              "      <td>3.24</td>\n",
              "      <td>0.30</td>\n",
              "      <td>2.81</td>\n",
              "      <td>5.68</td>\n",
              "      <td>1.03</td>\n",
              "      <td>3.17</td>\n",
              "      <td>1185</td>\n",
              "    </tr>\n",
              "    <tr>\n",
              "      <th>3</th>\n",
              "      <td>1</td>\n",
              "      <td>14.37</td>\n",
              "      <td>1.95</td>\n",
              "      <td>2.50</td>\n",
              "      <td>16.8</td>\n",
              "      <td>113</td>\n",
              "      <td>3.85</td>\n",
              "      <td>3.49</td>\n",
              "      <td>0.24</td>\n",
              "      <td>2.18</td>\n",
              "      <td>7.80</td>\n",
              "      <td>0.86</td>\n",
              "      <td>3.45</td>\n",
              "      <td>1480</td>\n",
              "    </tr>\n",
              "    <tr>\n",
              "      <th>4</th>\n",
              "      <td>1</td>\n",
              "      <td>13.24</td>\n",
              "      <td>2.59</td>\n",
              "      <td>2.87</td>\n",
              "      <td>21.0</td>\n",
              "      <td>118</td>\n",
              "      <td>2.80</td>\n",
              "      <td>2.69</td>\n",
              "      <td>0.39</td>\n",
              "      <td>1.82</td>\n",
              "      <td>4.32</td>\n",
              "      <td>1.04</td>\n",
              "      <td>2.93</td>\n",
              "      <td>735</td>\n",
              "    </tr>\n",
              "  </tbody>\n",
              "</table>\n",
              "</div>"
            ],
            "text/plain": [
              "   class label  alchohol  malic acid  ...   hue  OD208  proline\n",
              "0            1     14.23        1.71  ...  1.04   3.92     1065\n",
              "1            1     13.20        1.78  ...  1.05   3.40     1050\n",
              "2            1     13.16        2.36  ...  1.03   3.17     1185\n",
              "3            1     14.37        1.95  ...  0.86   3.45     1480\n",
              "4            1     13.24        2.59  ...  1.04   2.93      735\n",
              "\n",
              "[5 rows x 14 columns]"
            ]
          },
          "metadata": {
            "tags": []
          },
          "execution_count": 90
        }
      ]
    },
    {
      "cell_type": "code",
      "metadata": {
        "id": "Z00Mz3gZLjpq",
        "outputId": "5394da76-cbda-4172-bf7b-5f08b2a4d03c",
        "colab": {
          "base_uri": "https://localhost:8080/"
        }
      },
      "source": [
        "from sklearn.model_selection import train_test_split\n",
        "X, y = dat_wine.iloc[:,1:].values, dat_wine.iloc[:,0].values\n",
        "print(X.shape, y.shape)"
      ],
      "execution_count": 91,
      "outputs": [
        {
          "output_type": "stream",
          "text": [
            "(178, 13) (178,)\n"
          ],
          "name": "stdout"
        }
      ]
    },
    {
      "cell_type": "code",
      "metadata": {
        "id": "VXwePj4MLjpz",
        "outputId": "d2fcd5c1-c4d6-4629-b4f9-0d0c67fa3f7d",
        "colab": {
          "base_uri": "https://localhost:8080/"
        }
      },
      "source": [
        "X_train, X_test, y_train, y_test = train_test_split(X, y, test_size=0.2)\n",
        "print(X_train.shape, X_test.shape)"
      ],
      "execution_count": 92,
      "outputs": [
        {
          "output_type": "stream",
          "text": [
            "(142, 13) (36, 13)\n"
          ],
          "name": "stdout"
        }
      ]
    },
    {
      "cell_type": "code",
      "metadata": {
        "id": "GJUzG_0zdhyq"
      },
      "source": [
        "# 표준화를 안했더니 성능이 떡락 이어서 매우 당황한 상태이다........\n",
        "# from sklearn.preprocessing import StandardScaler\n",
        "# std = StandardScaler()\n",
        "# X_train = std.fit_transform(X_train)\n",
        "# X_test = std.transform(X_test)"
      ],
      "execution_count": 93,
      "outputs": []
    },
    {
      "cell_type": "code",
      "metadata": {
        "id": "fTOe0gODLjqB",
        "outputId": "3f938ca9-291a-4879-d423-0031d23bacf3",
        "colab": {
          "base_uri": "https://localhost:8080/",
          "height": 297
        }
      },
      "source": [
        "import matplotlib.pyplot as plt\n",
        "import seaborn as sns\n",
        "\n",
        "sns.countplot(data=dat_wine, x='class label')"
      ],
      "execution_count": 94,
      "outputs": [
        {
          "output_type": "execute_result",
          "data": {
            "text/plain": [
              "<matplotlib.axes._subplots.AxesSubplot at 0x7f9a34179a90>"
            ]
          },
          "metadata": {
            "tags": []
          },
          "execution_count": 94
        },
        {
          "output_type": "display_data",
          "data": {
            "image/png": "[encoded data removed]",
            "text/plain": [
              "<Figure size 432x288 with 1 Axes>"
            ]
          },
          "metadata": {
            "tags": [],
            "needs_background": "light"
          }
        }
      ]
    },
    {
      "cell_type": "code",
      "metadata": {
        "id": "2jUUSGX6LjqU",
        "outputId": "4d7fd6e2-11ed-4719-d81e-894b59664bf4",
        "colab": {
          "base_uri": "https://localhost:8080/"
        }
      },
      "source": [
        "dat_wine['class label'].value_counts()/len(dat_wine)\n",
        "# 비율은 그리 차이나지 않는다. 굳이 계층 추출을 하지 않아도 될듯?"
      ],
      "execution_count": 95,
      "outputs": [
        {
          "output_type": "execute_result",
          "data": {
            "text/plain": [
              "2    0.398876\n",
              "1    0.331461\n",
              "3    0.269663\n",
              "Name: class label, dtype: float64"
            ]
          },
          "metadata": {
            "tags": []
          },
          "execution_count": 95
        }
      ]
    },
    {
      "cell_type": "code",
      "metadata": {
        "id": "lZ4nF4eDLjqf"
      },
      "source": [
        "# library import\n",
        "from sklearn.pipeline import make_pipeline\n",
        "import scipy as sp\n",
        "import warnings\n",
        "warnings.filterwarnings(action='ignore')\n",
        "\n",
        "# About cross validation\n",
        "from sklearn.model_selection import GridSearchCV\n",
        "from sklearn.model_selection import cross_val_score\n",
        "from sklearn.model_selection import KFold\n",
        "\n",
        "# Models\n",
        "from sklearn.linear_model import LogisticRegression\n",
        "from sklearn.svm import SVC\n",
        "from sklearn.tree import DecisionTreeClassifier"
      ],
      "execution_count": 96,
      "outputs": []
    },
    {
      "cell_type": "markdown",
      "metadata": {
        "id": "WahBuFQLdGb_"
      },
      "source": [
        "## baseline\n"
      ]
    },
    {
      "cell_type": "code",
      "metadata": {
        "id": "NlUZGwsLdFm4",
        "outputId": "9b302c50-d8f2-4ff3-f2d1-1788693aa12c",
        "colab": {
          "base_uri": "https://localhost:8080/"
        }
      },
      "source": [
        "model = SVC()\n",
        "model.fit(X_train, y_train)\n",
        "print('SVC score : %s' % model.score(X_test, y_test))\n",
        "\n",
        "model = LogisticRegression()\n",
        "model.fit(X_train, y_train)\n",
        "print('Logistic score : %s' % model.score(X_test, y_test))\n",
        "\n",
        "model = DecisionTreeClassifier()\n",
        "model.fit(X_train, y_train)\n",
        "print('DT score : %s' % model.score(X_test, y_test))"
      ],
      "execution_count": 110,
      "outputs": [
        {
          "output_type": "stream",
          "text": [
            "SVC score : 0.5833333333333334\n",
            "Logistic score : 0.9166666666666666\n",
            "DT score : 0.9444444444444444\n"
          ],
          "name": "stdout"
        }
      ]
    },
    {
      "cell_type": "markdown",
      "metadata": {
        "id": "WCe7t-DsUOpq"
      },
      "source": [
        "## Nested CV로 Best model선택\n"
      ]
    },
    {
      "cell_type": "code",
      "metadata": {
        "id": "RY5cpceJLjqr"
      },
      "source": [
        "# model별 param grid 설정\n",
        "logit_params = {'penalty': ['l2', 'l1', 'elasticnet', None],\n",
        "                'C':[0.0001, 0.001, 0.01, 0.1, 1, 10, 15, 20], \n",
        "                'solver':['newton-cg', 'lbfgs', 'liblinear', 'sag', 'saga'],\n",
        "                'multi_class':['auto', 'ovr', 'multinomial'],\n",
        "}\n",
        "\n",
        "svc_params = {'C':[0.0001, 0.001, 0.01, 0.1, 1, 10, 15, 20, 100], \n",
        "              'kernel':['linear', 'poly', 'rbf', 'sigmoid'],\n",
        "              'gamma':[0.0001, 0.001, 0.01, 0.1, 1, 10, 15, 20, 100]\n",
        "             }\n",
        "\n",
        "tree_params = {'criterion':['gini', 'entropy'],\n",
        "               'splitter':['best', 'random'], \n",
        "               'max_depth' :list((range(0, 15))), \n",
        "               'min_samples_leaf' :list((range(0, 10))), \n",
        "               'max_features' : ['auto', 'sqrt', 'log2', None],\n",
        "               'ccp_alpha':[0.0001, 0.001, 0.01, 0.1, 1, 10, 15, 20], \n",
        "                }"
      ],
      "execution_count": 66,
      "outputs": []
    },
    {
      "cell_type": "code",
      "metadata": {
        "id": "ilul9eH0Ljq3"
      },
      "source": [
        "# 10*5 nested cross validation\n",
        "inner_cv = KFold(n_splits = 5, shuffle=True, random_state=0) # 초모수 세팅\n",
        "outer_cv = KFold(n_splits = 10, shuffle=True, random_state=0) # 성능 평가"
      ],
      "execution_count": 67,
      "outputs": []
    },
    {
      "cell_type": "code",
      "metadata": {
        "id": "0ahYdznMLjrB",
        "outputId": "47868798-bf6f-48d1-afab-f5ed514f26a0",
        "colab": {
          "base_uri": "https://localhost:8080/"
        }
      },
      "source": [
        "%%time\n",
        "gs_l = GridSearchCV(estimator=LogisticRegression(random_state=1), \n",
        "                  param_grid=logit_params,\n",
        "                  scoring='accuracy', cv=inner_cv, n_jobs=-1)\n",
        "scores_l = cross_val_score(gs_l, X, y, scoring='accuracy', cv=outer_cv)\n",
        "print('CV accuracy: %.3f +/- %.3f' % (np.mean(scores_l), np.std(scores_l)))"
      ],
      "execution_count": 68,
      "outputs": [
        {
          "output_type": "stream",
          "text": [
            "CV accuracy: 0.949 +/- 0.046\n",
            "CPU times: user 20.3 s, sys: 256 ms, total: 20.6 s\n",
            "Wall time: 2min 15s\n"
          ],
          "name": "stdout"
        }
      ]
    },
    {
      "cell_type": "code",
      "metadata": {
        "id": "XLsA8eAILjrJ",
        "outputId": "7ed86806-6244-4f02-c3d7-497e37cc90bb",
        "colab": {
          "base_uri": "https://localhost:8080/"
        }
      },
      "source": [
        "%%time\n",
        "gs_s = GridSearchCV(estimator=SVC(random_state=1), \n",
        "                  param_grid=svc_params,\n",
        "                  scoring='accuracy', cv=inner_cv, n_jobs=-1)\n",
        "scores_s = cross_val_score(gs_s, X, y, scoring='accuracy', cv=outer_cv, n_jobs=-1)\n",
        "print('CV accuracy: %.3f +/- %.3f' % (np.mean(scores_s), np.std(scores_s)))"
      ],
      "execution_count": 69,
      "outputs": [
        {
          "output_type": "stream",
          "text": [
            "CV accuracy: 0.961 +/- 0.036\n",
            "CPU times: user 49.5 ms, sys: 1.45 ms, total: 50.9 ms\n",
            "Wall time: 6min 11s\n"
          ],
          "name": "stdout"
        }
      ]
    },
    {
      "cell_type": "code",
      "metadata": {
        "id": "Pv7UsL1zLjrX",
        "outputId": "f0e1305d-5b50-459d-b161-55cba54ba373",
        "colab": {
          "base_uri": "https://localhost:8080/"
        }
      },
      "source": [
        "%%time\n",
        "gs_t = GridSearchCV(estimator=DecisionTreeClassifier(random_state=0), \n",
        "                  param_grid=tree_params,\n",
        "                  scoring='accuracy', cv=inner_cv, n_jobs=-1)\n",
        "scores_t = cross_val_score(gs_t, X, y, scoring='accuracy', cv=outer_cv, n_jobs=-1)\n",
        "print('CV accuracy: %.3f +/- %.3f' % (np.mean(scores_t), np.std(scores_t)))"
      ],
      "execution_count": 70,
      "outputs": [
        {
          "output_type": "stream",
          "text": [
            "CV accuracy: 0.905 +/- 0.070\n",
            "CPU times: user 69.7 ms, sys: 3.81 ms, total: 73.5 ms\n",
            "Wall time: 14min 7s\n"
          ],
          "name": "stdout"
        }
      ]
    },
    {
      "cell_type": "code",
      "metadata": {
        "id": "QNcOZCuALjrj",
        "outputId": "1a4347e8-ce25-46b7-fa23-ef077a2f55d8",
        "colab": {
          "base_uri": "https://localhost:8080/"
        }
      },
      "source": [
        "# svc가 최선의 모형임 > 다시 grid search\n",
        "gs_s = GridSearchCV(estimator=SVC(random_state=1), \n",
        "                  param_grid=svc_params,\n",
        "                  scoring='accuracy', cv=inner_cv, n_jobs=-1)\n",
        "gs_s.fit(X_train, y_train)"
      ],
      "execution_count": 71,
      "outputs": [
        {
          "output_type": "execute_result",
          "data": {
            "text/plain": [
              "GridSearchCV(cv=KFold(n_splits=5, random_state=0, shuffle=True),\n",
              "             error_score=nan,\n",
              "             estimator=SVC(C=1.0, break_ties=False, cache_size=200,\n",
              "                           class_weight=None, coef0=0.0,\n",
              "                           decision_function_shape='ovr', degree=3,\n",
              "                           gamma='scale', kernel='rbf', max_iter=-1,\n",
              "                           probability=False, random_state=1, shrinking=True,\n",
              "                           tol=0.001, verbose=False),\n",
              "             iid='deprecated', n_jobs=-1,\n",
              "             param_grid={'C': [0.0001, 0.001, 0.01, 0.1, 1, 10, 15, 20, 100],\n",
              "                         'gamma': [0.0001, 0.001, 0.01, 0.1, 1, 10, 15, 20,\n",
              "                                   100],\n",
              "                         'kernel': ['linear', 'poly', 'rbf', 'sigmoid']},\n",
              "             pre_dispatch='2*n_jobs', refit=True, return_train_score=False,\n",
              "             scoring='accuracy', verbose=0)"
            ]
          },
          "metadata": {
            "tags": []
          },
          "execution_count": 71
        }
      ]
    },
    {
      "cell_type": "code",
      "metadata": {
        "id": "wKOeF8yOLjr2",
        "outputId": "0a56180a-d19f-41cf-e4eb-d75ac2a47695",
        "colab": {
          "base_uri": "https://localhost:8080/"
        }
      },
      "source": [
        "print(gs_s.best_params_)\n",
        "print(gs_s.best_score_)"
      ],
      "execution_count": 73,
      "outputs": [
        {
          "output_type": "stream",
          "text": [
            "{'C': 0.0001, 'gamma': 0.001, 'kernel': 'poly'}\n",
            "0.9509852216748769\n"
          ],
          "name": "stdout"
        }
      ]
    },
    {
      "cell_type": "code",
      "metadata": {
        "id": "nHsbQKU6hne1"
      },
      "source": [
        "C=1e-06, coef0=1,decision_function_shape='ovr', degree=3, gamma=0.01, kernel='poly',\n",
        "    max_iter=-1, random_state=1"
      ],
      "execution_count": null,
      "outputs": []
    },
    {
      "cell_type": "markdown",
      "metadata": {
        "id": "yksuLljBUIvQ"
      },
      "source": [
        "## train size에 따른 편향과 분산 변화\n"
      ]
    },
    {
      "cell_type": "code",
      "metadata": {
        "id": "dT12ix3yLjsQ",
        "outputId": "9813e509-1922-4578-f705-8412a92d47f8",
        "colab": {
          "base_uri": "https://localhost:8080/",
          "height": 279
        }
      },
      "source": [
        "import numpy as np\n",
        "import matplotlib.pyplot as plt\n",
        "from sklearn.model_selection import learning_curve\n",
        "\n",
        "train_sizes, train_scores, test_scores =\\\n",
        "             learning_curve(estimator=SVC(C=1e-06, break_ties=False, cache_size=200, class_weight=None, coef0=1,\n",
        "    decision_function_shape='ovr', degree=3, gamma=0.01, kernel='poly',\n",
        "    max_iter=-1, probability=False, random_state=1, shrinking=True, tol=0.001,\n",
        "    verbose=False), X=X_train, y=y_train,\n",
        "                            train_sizes=np.linspace(0.1, 1.0, 10), cv=10)\n",
        "             \n",
        "train_mean = np.mean(train_scores, axis=1)\n",
        "train_std = np.std(train_scores, axis=1)\n",
        "test_mean = np.mean(test_scores, axis=1)\n",
        "test_std = np.std(test_scores, axis=1)\n",
        "\n",
        "plt.plot(train_sizes, train_mean, color='blue', marker='o', markersize=5,\n",
        "         label='training accuracy')\n",
        "plt.fill_between(train_sizes, train_mean + train_std, train_mean - train_std,\n",
        "                 alpha=0.15, color='blue')\n",
        "\n",
        "plt.plot(train_sizes, test_mean, color='red', linestyle='--', marker='s',\n",
        "         markersize=5, label='validation accuracy')\n",
        "plt.fill_between(train_sizes, test_mean + test_std, test_mean - test_std,\n",
        "                 alpha=0.15, color='red')\n",
        "\n",
        "plt.grid()\n",
        "plt.xlabel('Number of training samples')\n",
        "plt.ylabel('Accuracy')\n",
        "plt.legend(loc='lower right')\n",
        "plt.ylim([0.8, 1.03])\n",
        "plt.show()"
      ],
      "execution_count": 72,
      "outputs": [
        {
          "output_type": "display_data",
          "data": {
            "image/png": "[encoded data removed]",
            "text/plain": [
              "<Figure size 432x288 with 1 Axes>"
            ]
          },
          "metadata": {
            "tags": [],
            "needs_background": "light"
          }
        }
      ]
    },
    {
      "cell_type": "code",
      "metadata": {
        "id": "hSmWu0QXLjxW",
        "outputId": "7f2d20e1-e43c-4532-83f1-bc59e6d684e8",
        "colab": {
          "base_uri": "https://localhost:8080/",
          "height": 312
        }
      },
      "source": [
        "\n",
        "import numpy as np\n",
        "from sklearn.metrics import accuracy_score\n",
        "import matplotlib.pyplot as plt\n",
        "import seaborn as sns\n",
        "\n",
        "c_list = [1,2,3,4,5,6,7,8,9,10,11,12,13]\n",
        "\n",
        "train_errors = [] \n",
        "test_errors = [] \n",
        "\n",
        "for x in c_list:\n",
        "    model= SVC(C=1e-06, break_ties=False, cache_size=200, class_weight=None, coef0=1,\n",
        "    decision_function_shape='ovr', degree=x, gamma=0.01, kernel='poly',\n",
        "    max_iter=-1, probability=False, random_state=1, shrinking=True, tol=0.001,\n",
        "    verbose=False)\n",
        "    model.fit(X_train, y_train)\n",
        "    train_pred = model.predict(X_train)\n",
        "    pred = model.predict(X_test)\n",
        "    \n",
        "    train_errors.append(accuracy_score(y_train, train_pred))\n",
        "    test_errors.append(accuracy_score(y_test, pred))\n",
        "\n",
        "x = np.arange(len(c_list)) + 1 # Create domain for plot\n",
        "plt.plot(x, train_errors, label='Training Accuracy') # Plot training error over domain\n",
        "plt.plot(x, test_errors, label='Testing Accuracy') # Plot testing error over domain\n",
        "plt.xlabel('Poly degree') # Label x-axis\n",
        "plt.ylabel('Total Accuracy') # Label y-axis\n",
        "plt.legend() # Show plot labels as legend\n",
        "plt.title('SVM poly degree')\n",
        "plt.plot() # Show graph"
      ],
      "execution_count": 89,
      "outputs": [
        {
          "output_type": "execute_result",
          "data": {
            "text/plain": [
              "[]"
            ]
          },
          "metadata": {
            "tags": []
          },
          "execution_count": 89
        },
        {
          "output_type": "display_data",
          "data": {
            "image/png": "[encoded data removed]",
            "text/plain": [
              "<Figure size 432x288 with 1 Axes>"
            ]
          },
          "metadata": {
            "tags": [],
            "needs_background": "light"
          }
        }
      ]
    }
  ]
}