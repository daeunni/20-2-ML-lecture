{
 "cells": [
  {
   "cell_type": "markdown",
   "metadata": {},
   "source": [
    "# [ Python의 기본 ]"
   ]
  },
  {
   "cell_type": "code",
   "execution_count": 2,
   "metadata": {},
   "outputs": [
    {
     "name": "stdout",
     "output_type": "stream",
     "text": [
      "아 졸려\n",
      "배고파\n"
     ]
    }
   ],
   "source": [
    "print('아 졸려');print('배고파') # 새미콜론으로 이을 수 있음. "
   ]
  },
  {
   "cell_type": "code",
   "execution_count": 3,
   "metadata": {},
   "outputs": [
    {
     "data": {
      "text/plain": [
       "130"
      ]
     },
     "execution_count": 3,
     "metadata": {},
     "output_type": "execute_result"
    }
   ],
   "source": [
    "# 줄바꾸기는 \\ 이용\n",
    "sum = 10 + 20 + \\\n",
    "30+40+\\\n",
    "30\n",
    "sum"
   ]
  },
  {
   "cell_type": "code",
   "execution_count": 4,
   "metadata": {},
   "outputs": [
    {
     "name": "stdout",
     "output_type": "stream",
     "text": [
      "<class 'str'>\n",
      "<class 'int'>\n"
     ]
    }
   ],
   "source": [
    "# 변수의 입력 : 문자, 정수, 실수, boolean(T/F)\n",
    "name='다은'\n",
    "print(type(name))\n",
    "print(type(sum))"
   ]
  },
  {
   "cell_type": "markdown",
   "metadata": {},
   "source": [
    "# [ Python data type ] \n",
    "- list\n",
    "- tuple\n",
    "- dictionary\n",
    "## 1. List "
   ]
  },
  {
   "cell_type": "code",
   "execution_count": 5,
   "metadata": {},
   "outputs": [
    {
     "data": {
      "text/plain": [
       "4"
      ]
     },
     "execution_count": 5,
     "metadata": {},
     "output_type": "execute_result"
    }
   ],
   "source": [
    "# 자료형 1 : List(Sequence를 늘어놓은 것, 1 dimension)\n",
    "cars = ['다은', '동현', '배고파', 2002] # 자료형 통일이 될 필요가 없다. \n",
    "# cars는 리스트 객체를 참조해(주소를 저장함) 이름을 하나 더 짓는 개념임\n",
    "\n",
    "len(cars)"
   ]
  },
  {
   "cell_type": "code",
   "execution_count": 6,
   "metadata": {},
   "outputs": [],
   "source": [
    "num = list(range(10)) # 0부터 10-1 전까지\n",
    "n1 = list(range(50, 101)) # 50부터 101-1 전까지 \n",
    "\n",
    "# (출발은 include하고 마지막은 뺀다)"
   ]
  },
  {
   "cell_type": "code",
   "execution_count": 7,
   "metadata": {},
   "outputs": [
    {
     "name": "stdout",
     "output_type": "stream",
     "text": [
      "['다은', '동현']\n",
      "['배고파', 2002]\n",
      "['동현']\n",
      "['동현', '배고파']\n",
      "배고파\n"
     ]
    }
   ],
   "source": [
    "# 원소 접근\n",
    "## <처음은 포함하고 마지막은 포함하지 않음>\n",
    "c1 = cars[:2] # 처음부터 2 바로 전까지(0부터 count!)\n",
    "print(c1)\n",
    "c2 = cars[-2:] # 끝에서 두번째부터 마지막까지(단 처음은 포함하므로 2번째도 포함)\n",
    "print(c2)\n",
    "c3 = cars[1:-2] # 1번부터 시작해서 끝에서 두번째까지\n",
    "print(c3)\n",
    "c4 = cars[1:3] # 1번부터 3번전까지(2번까지)\n",
    "print(c4)\n",
    "c5 = cars[2]\n",
    "print(c5)"
   ]
  },
  {
   "cell_type": "code",
   "execution_count": 8,
   "metadata": {},
   "outputs": [
    {
     "name": "stdout",
     "output_type": "stream",
     "text": [
      "[[1, 3, 2, 5], [2, 3, 4, 1], [4, 5, 6, 2]]\n",
      "[2, 3, 4, 1]\n",
      "4\n"
     ]
    }
   ],
   "source": [
    "# 2 dimension list : [[ ]]\n",
    "d = [[1,3,2,5], [2,3,4,1], [4,5,6,2]];print(d)\n",
    "d1 = d[1];print(d1) # 1번째 요소 전체 출력\n",
    "d2 = d[1][2] ;print(d2) # 1번째 요소-2번째 요소 출력"
   ]
  },
  {
   "cell_type": "code",
   "execution_count": 9,
   "metadata": {},
   "outputs": [
    {
     "name": "stdout",
     "output_type": "stream",
     "text": [
      "['다은', '동현', '배고파', 2002, '배고파']\n",
      "['다은', '동현', '배고파', '배고파']\n"
     ]
    }
   ],
   "source": [
    "# list 요소 append(추가), remove(제거), sort(정렬)\n",
    "cars.append('배고파');print(cars)\n",
    "cars.remove(2002);print(cars)\n",
    "cars.sort()"
   ]
  },
  {
   "cell_type": "markdown",
   "metadata": {},
   "source": [
    "## 2. Tuple"
   ]
  },
  {
   "cell_type": "code",
   "execution_count": 10,
   "metadata": {},
   "outputs": [
    {
     "name": "stdout",
     "output_type": "stream",
     "text": [
      "['a', 'b', 'p', 'd']\n"
     ]
    }
   ],
   "source": [
    "a = ['a', 'b', 'c', 'd']\n",
    "a[2] = 'p' # 리스트는 replace의 기능이 가능\n",
    "print(a)"
   ]
  },
  {
   "cell_type": "code",
   "execution_count": 11,
   "metadata": {},
   "outputs": [],
   "source": [
    "# but 튜플은 데이터 값을 고치지 못함. \n",
    "# 고정시켜야 할 data에 튜플 사용\n",
    "# a2 = ('a', 'b', 'c', 'd')\n",
    "# a2[2] = 'p' ## 에러 반환\n",
    "# print(a2)"
   ]
  },
  {
   "cell_type": "code",
   "execution_count": 12,
   "metadata": {},
   "outputs": [
    {
     "name": "stdout",
     "output_type": "stream",
     "text": [
      "<class 'tuple'>\n",
      "('A', 'B', 'C')\n"
     ]
    }
   ],
   "source": [
    "# 괄호를 치지 않아도 튜플로 반환됨\n",
    "name = 'A','B','C'\n",
    "print(type(name));print(name)"
   ]
  },
  {
   "cell_type": "code",
   "execution_count": 13,
   "metadata": {},
   "outputs": [
    {
     "name": "stdout",
     "output_type": "stream",
     "text": [
      "A\n",
      "B\n",
      "C\n",
      "('A', 'B', 'C')\n"
     ]
    }
   ],
   "source": [
    "# k1, k2, k3에 각각 A, B, C 매핑!\n",
    "k1, k2, k3 = name\n",
    "print(k1);print(k2);print(k3);print(name) \n",
    "# name 출력하면 원래 그대로 나옴. \n",
    "# 그냥 새로운 객체에 튜플 문자를 저장하는 느낌"
   ]
  },
  {
   "cell_type": "code",
   "execution_count": 14,
   "metadata": {},
   "outputs": [
    {
     "name": "stdout",
     "output_type": "stream",
     "text": [
      "11 12\n",
      "12 11\n"
     ]
    }
   ],
   "source": [
    "# 스왑\n",
    "a,b = 11, 12;print(a,b)\n",
    "a,b = b,a\n",
    "print(a,b) # 순서를 바꾼다"
   ]
  },
  {
   "cell_type": "markdown",
   "metadata": {},
   "source": [
    "## 3. Dictionary"
   ]
  },
  {
   "cell_type": "code",
   "execution_count": 15,
   "metadata": {},
   "outputs": [
    {
     "name": "stdout",
     "output_type": "stream",
     "text": [
      "dict_keys(['name', 'birth', 'color'])\n",
      "dict_values(['다은', 1214, 'pink'])\n",
      "dict_items([('name', '다은'), ('birth', 1214), ('color', 'pink')])\n"
     ]
    },
    {
     "data": {
      "text/plain": [
       "'다은'"
      ]
     },
     "execution_count": 15,
     "metadata": {},
     "output_type": "execute_result"
    }
   ],
   "source": [
    "# key와 value로 구성\n",
    "dict = {'name':'다은', 'birth':1214, 'color':'pink'}\n",
    "print(dict.keys()) # 왼쪽 부분\n",
    "print(dict.values()) # 오른쪽 부분\n",
    "print(dict.items()) # 딕셔너리 안의 형태를 튜플로 출력해줌. \n",
    "\n",
    "dict['name'] # key를 이렇게 치면 value를 출력한다."
   ]
  },
  {
   "cell_type": "code",
   "execution_count": 16,
   "metadata": {},
   "outputs": [
    {
     "name": "stdout",
     "output_type": "stream",
     "text": [
      "{'name': '동현', 'birth': 1214, 'color': 'pink'}\n",
      "{'name': '동현', 'birth': 1214, 'color': 'pink', '음식': '치킨'}\n",
      "{'name': '동현', 'birth': 1214, '음식': '치킨'}\n"
     ]
    }
   ],
   "source": [
    "dict['name'] = '동현' # 업데이트\n",
    "print(dict)\n",
    "\n",
    "dict['음식'] = '치킨' # 새로운 key, value추가\n",
    "print(dict)\n",
    "\n",
    "del dict['color'] # key값 삭제\n",
    "print(dict)"
   ]
  },
  {
   "cell_type": "markdown",
   "metadata": {},
   "source": [
    "# [ Python의 연산 ]\n",
    "- 산술연산\n",
    "- 논리연산\n",
    "- 비교연산\n",
    "- 할당연산\n",
    "- 존재연산"
   ]
  },
  {
   "cell_type": "code",
   "execution_count": 17,
   "metadata": {},
   "outputs": [
    {
     "name": "stdout",
     "output_type": "stream",
     "text": [
      "3.3333333333333335\n",
      "3\n",
      "1\n",
      "1000\n"
     ]
    }
   ],
   "source": [
    "# 1. 산술연산\n",
    "a = 10\n",
    "b = 3\n",
    "print(a/b)\n",
    "print(a//b) # 몫 반환\n",
    "print(a%b) # 나머지 반환\n",
    "print(a**b) # 거듭제곱"
   ]
  },
  {
   "cell_type": "code",
   "execution_count": 18,
   "metadata": {},
   "outputs": [
    {
     "name": "stdout",
     "output_type": "stream",
     "text": [
      "False\n",
      "True\n",
      "True\n"
     ]
    }
   ],
   "source": [
    "# 2. 논리연산(and, or)\n",
    "a = True\n",
    "b = False\n",
    "\n",
    "print(a and b) # 둘 다 true여야 true 반환. \n",
    "print(a or b) # 둘 중에 하나가 true면 true 반환\n",
    "print(not(a and b)) # not을 취함 : 둘 중에 하나만 true면 됨. "
   ]
  },
  {
   "cell_type": "code",
   "execution_count": 19,
   "metadata": {},
   "outputs": [
    {
     "name": "stdout",
     "output_type": "stream",
     "text": [
      "False\n",
      "True\n",
      "False\n",
      "True\n"
     ]
    }
   ],
   "source": [
    "# 3. 비교연산 : 비교해 T/F로 반환(True는 1로 저장이 됨)\n",
    "a = 10\n",
    "b = 5\n",
    "print(a==b)\n",
    "print(a!=b)\n",
    "print(a<=b)\n",
    "print(a>=b)"
   ]
  },
  {
   "cell_type": "code",
   "execution_count": 27,
   "metadata": {},
   "outputs": [
    {
     "name": "stdout",
     "output_type": "stream",
     "text": [
      "15\n",
      "5\n",
      "2.0\n",
      "0\n",
      "50\n",
      "100000\n"
     ]
    }
   ],
   "source": [
    "# 4. 할당연산(b는 그대로 출력됨)\n",
    "a=10;b=5\n",
    "a += b   # a+b를 해서 a에 넣어라\n",
    "print(a) \n",
    "\n",
    "a=10;b=5\n",
    "a -=b ;print(a) # a-b를 해서 a에 넣어라\n",
    "\n",
    "a=10;b=5\n",
    "a /=b;print(a) # a/b를 해서 a에 넣어라\n",
    "\n",
    "a=10;b=5\n",
    "a%=b;print(a) # a/b의 나머지를 a에 넣어라\n",
    "\n",
    "a=10;b=5\n",
    "a*=b;print(a) # a*b를 a에 넣어라\n",
    "\n",
    "a=10;b=5\n",
    "a**=b;print(a) # a^b를 해서 a에 넣어라"
   ]
  },
  {
   "cell_type": "code",
   "execution_count": 29,
   "metadata": {},
   "outputs": [
    {
     "name": "stdout",
     "output_type": "stream",
     "text": [
      "True\n",
      "False\n"
     ]
    }
   ],
   "source": [
    "# 5. 존재연산(T/F로 반환)\n",
    "c = ['이다은', '최다은', '기다연', '네이스']\n",
    "print('이다은'in c) # c에 이다은이 들어있냐? True\n",
    "print('이다은' not in c) # c에 이다은이 없냐? False"
   ]
  },
  {
   "cell_type": "markdown",
   "metadata": {},
   "source": [
    "# [ 조건문, 반복문 ]\n",
    "- for문\n",
    "- while문\n",
    "- enumerate\n",
    "- zip"
   ]
  },
  {
   "cell_type": "code",
   "execution_count": 32,
   "metadata": {},
   "outputs": [
    {
     "name": "stdout",
     "output_type": "stream",
     "text": [
      "a가 더 큼\n"
     ]
    }
   ],
   "source": [
    "## 1. 조건문\n",
    "a = 10;b=5\n",
    "if a>b:\n",
    "    print('a가 더 큼')"
   ]
  },
  {
   "cell_type": "code",
   "execution_count": 35,
   "metadata": {},
   "outputs": [
    {
     "name": "stdout",
     "output_type": "stream",
     "text": [
      "경통 안들어도되는거냐?\n"
     ]
    }
   ],
   "source": [
    "# 논리연산자 사용(and, or)\n",
    "a = 10;b=20;c=30\n",
    "if a<b or b>c:\n",
    "    print('경통 안들어도되는거냐?')"
   ]
  },
  {
   "cell_type": "code",
   "execution_count": 39,
   "metadata": {},
   "outputs": [
    {
     "name": "stdout",
     "output_type": "stream",
     "text": [
      "배고프다\n"
     ]
    }
   ],
   "source": [
    "# if문 중첩\n",
    "if b>a:\n",
    "    if c>b:\n",
    "        print('배고프다') # 조건에 맞지 않으면 아예 출력하지 않는다"
   ]
  },
  {
   "cell_type": "code",
   "execution_count": 40,
   "metadata": {},
   "outputs": [
    {
     "name": "stdout",
     "output_type": "stream",
     "text": [
      "다 거짓말이야\n"
     ]
    }
   ],
   "source": [
    "# if, elif, else\n",
    "a = 10;b=20;c=30\n",
    "if a>b:\n",
    "    print('a가 크다')\n",
    "elif b>c:\n",
    "    print('b가 크다')\n",
    "else:\n",
    "    print('다 거짓말이야')"
   ]
  },
  {
   "cell_type": "code",
   "execution_count": 45,
   "metadata": {},
   "outputs": [
    {
     "name": "stdout",
     "output_type": "stream",
     "text": [
      "이다은\n",
      "최다은\n",
      "기다연\n",
      "네이스\n"
     ]
    }
   ],
   "source": [
    "## 2. 반복문\n",
    "## 1) for 문 : data type(list, tuple, dict)에 대해 반복\n",
    "# list 반복\n",
    "c = ['이다은', '최다은', '기다연', '네이스'] \n",
    "for i in c:\n",
    "    print(i)"
   ]
  },
  {
   "cell_type": "code",
   "execution_count": 47,
   "metadata": {},
   "outputs": [
    {
     "name": "stdout",
     "output_type": "stream",
     "text": [
      "다은\n",
      "동현\n"
     ]
    }
   ],
   "source": [
    "# tuple 반복\n",
    "t = '다은', '동현';\n",
    "for i in t:\n",
    "    print(i) "
   ]
  },
  {
   "cell_type": "code",
   "execution_count": 61,
   "metadata": {},
   "outputs": [
    {
     "name": "stdout",
     "output_type": "stream",
     "text": [
      "다은\n",
      "동현\n",
      "배고파\n"
     ]
    }
   ],
   "source": [
    "# dict 반복\n",
    "d = {'다은':1, '동현':2, '배고파':3} \n",
    "for i in d:\n",
    "    print(i) # 그냥 for문 쓰면 key가 출력되네"
   ]
  },
  {
   "cell_type": "code",
   "execution_count": 65,
   "metadata": {},
   "outputs": [
    {
     "name": "stdout",
     "output_type": "stream",
     "text": [
      "다은\n",
      "동현\n",
      "배고파\n",
      "1\n",
      "2\n",
      "3\n",
      "('다은', 1)\n",
      "('동현', 2)\n",
      "('배고파', 3)\n",
      "다은 1\n",
      "동현 2\n",
      "배고파 3\n"
     ]
    }
   ],
   "source": [
    "for i in d.keys(): # key만 출력\n",
    "    print(i)\n",
    "    \n",
    "for j in d.values(): # value만 출력\n",
    "    print(j)\n",
    "    \n",
    "for k in d.items(): # key, value 둘다 출력(item 이용)\n",
    "    print(k) \n",
    "    \n",
    "for i, j in d.items(): # i, j로 iteration을 지정할 수도 있음\n",
    "    print(i, j)"
   ]
  },
  {
   "cell_type": "code",
   "execution_count": 66,
   "metadata": {},
   "outputs": [
    {
     "name": "stdout",
     "output_type": "stream",
     "text": [
      "0\n",
      "1\n",
      "2\n",
      "3\n",
      "4\n",
      "5\n",
      "6\n",
      "7\n",
      "8\n",
      "9\n"
     ]
    }
   ],
   "source": [
    "# range 이용\n",
    "for i in range(10): # 0에서 9까지 출력\n",
    "    print(i)"
   ]
  },
  {
   "cell_type": "code",
   "execution_count": 67,
   "metadata": {},
   "outputs": [
    {
     "name": "stdout",
     "output_type": "stream",
     "text": [
      "50\n",
      "51\n",
      "52\n",
      "53\n",
      "54\n"
     ]
    }
   ],
   "source": [
    "for i in range(50, 55): # 50에서 54까지\n",
    "    print(i)"
   ]
  },
  {
   "cell_type": "code",
   "execution_count": 79,
   "metadata": {},
   "outputs": [
    {
     "name": "stdout",
     "output_type": "stream",
     "text": [
      "다\n",
      "은\n",
      "다은\n",
      "동현\n"
     ]
    }
   ],
   "source": [
    "# 텍스트 반복도 가능해! 공백도 인식함\n",
    "for i in '다은': \n",
    "    print(i)  # 옆에 인자가 하나여야 함\n",
    "    \n",
    "for i in '다은','동현': # 두개면 각자 출력\n",
    "    print(i)"
   ]
  },
  {
   "cell_type": "code",
   "execution_count": 81,
   "metadata": {},
   "outputs": [
    {
     "name": "stdout",
     "output_type": "stream",
     "text": [
      "2\n",
      "3\n",
      "4\n",
      "5\n"
     ]
    }
   ],
   "source": [
    "## 2) while문 : 조건을 만족하는 동안 반복시행\n",
    "\n",
    "i = 1 # 1부터 시작\n",
    "while i<5: \n",
    "    i += 1 # 1 더해서 계속 i에 저장(2~5)\n",
    "    print(i)"
   ]
  },
  {
   "cell_type": "code",
   "execution_count": 82,
   "metadata": {},
   "outputs": [
    {
     "name": "stdout",
     "output_type": "stream",
     "text": [
      "1\n",
      "2\n",
      "3\n",
      "4\n"
     ]
    }
   ],
   "source": [
    "# 근데 i += 1의 위치에 따라 1이 출력될지 안출력될지가 달라지는거임\n",
    "i=1\n",
    "while i<5:\n",
    "    print(i)\n",
    "    i += 1"
   ]
  },
  {
   "cell_type": "code",
   "execution_count": 85,
   "metadata": {},
   "outputs": [
    {
     "name": "stdout",
     "output_type": "stream",
     "text": [
      "9x1=9\n",
      "9x2=18\n",
      "9x3=27\n",
      "9x4=36\n",
      "9x5=45\n",
      "9x6=54\n",
      "9x7=63\n",
      "9x8=72\n",
      "9x9=81\n"
     ]
    }
   ],
   "source": [
    "# 구구단\n",
    "i = 1\n",
    "while i<10:\n",
    "    print( '9x' + str(i)+ '=' + str(9*i)) # 문자열의 결합이니 자료형 str로 맞춰주기\n",
    "    i += 1"
   ]
  },
  {
   "cell_type": "code",
   "execution_count": 86,
   "metadata": {},
   "outputs": [
    {
     "name": "stdout",
     "output_type": "stream",
     "text": [
      "이게뭐누\n",
      "이게뭐누\n",
      "이게뭐누\n",
      "이게뭐누\n"
     ]
    }
   ],
   "source": [
    "# break문을 사용해 반복에서 벗어나기\n",
    "\n",
    "stop = 0\n",
    "while 1: ## while 1 : 1은 True이므로 이건 항상성립하는거임!\n",
    "    print('이게뭐누')\n",
    "    stop+=1\n",
    "    \n",
    "    if stop>3: # 0, 1, 2, 3까지 출력하다가 멈춤\n",
    "        break"
   ]
  },
  {
   "cell_type": "code",
   "execution_count": 88,
   "metadata": {},
   "outputs": [
    {
     "name": "stdout",
     "output_type": "stream",
     "text": [
      "1\n",
      "2\n",
      "3\n",
      "4\n",
      "5\n"
     ]
    }
   ],
   "source": [
    "## 순서에 따라 결과가 달라질 수 있음을 유의\n",
    "\n",
    "for i in range(1,10):\n",
    "    print(i) # 일단 출력해\n",
    "    \n",
    "    if i>4: # 그리고 4보다 크면 이제서야 멈춤\n",
    "        break"
   ]
  },
  {
   "cell_type": "code",
   "execution_count": 89,
   "metadata": {},
   "outputs": [
    {
     "name": "stdout",
     "output_type": "stream",
     "text": [
      "1\n",
      "2\n",
      "3\n",
      "4\n",
      "5\n"
     ]
    }
   ],
   "source": [
    "for i in range(1, 10):\n",
    "    if i>5:  # 미리 5보다 크면 멈추라고 설정\n",
    "        break\n",
    "    print(i) # 그리고 출력 "
   ]
  },
  {
   "cell_type": "code",
   "execution_count": 90,
   "metadata": {},
   "outputs": [
    {
     "name": "stdout",
     "output_type": "stream",
     "text": [
      "2\n",
      "4\n",
      "6\n",
      "8\n",
      "10\n"
     ]
    }
   ],
   "source": [
    "## continue : skip문. 반복문 내에서 다음 iteration으로 바로 건너뛸 때\n",
    "\n",
    "for i in range(1,11):\n",
    "    if (i%2 !=0): # 나머지가 0이 아닐 때(홀수일 때)\n",
    "        continue # 건너뛰어라\n",
    "    print(i) # 홀수는 건너뛰고 짝수만 출력"
   ]
  },
  {
   "cell_type": "code",
   "execution_count": 96,
   "metadata": {},
   "outputs": [
    {
     "name": "stdout",
     "output_type": "stream",
     "text": [
      "1\n",
      "3\n",
      "5\n",
      "7\n",
      "9\n",
      "11\n",
      "13\n",
      "15\n",
      "17\n",
      "19\n",
      "21\n"
     ]
    }
   ],
   "source": [
    "for i in range(1,50):\n",
    "    if (i%2 == 0):\n",
    "        continue # 짝수는 보내줘라\n",
    "    elif (i>21):\n",
    "        break\n",
    "        \n",
    "    print(i)"
   ]
  },
  {
   "cell_type": "code",
   "execution_count": 104,
   "metadata": {},
   "outputs": [
    {
     "name": "stdout",
     "output_type": "stream",
     "text": [
      "<enumerate object at 0x000001EB9E43C9A8>\n",
      "[(1, '이다은'), (2, '최다은'), (3, '기다연'), (4, '네이스')]\n"
     ]
    }
   ],
   "source": [
    "## 3) enumerate : list 내 자료값의 순서가 필요할 때(중요!)\n",
    "c = ['이다은', '최다은', '기다연', '네이스'] # list에 순서를 부여한다\n",
    "\n",
    "print(enumerate(c,1)) # 1부터 순서 시작(디폴트는 0)\n",
    "print(list(enumerate(c,1))) # list 안씌우면 그냥 enumerate 객체만 출력\n",
    "# element들은 튜플형태, 전체는 list형태"
   ]
  },
  {
   "cell_type": "code",
   "execution_count": 110,
   "metadata": {},
   "outputs": [
    {
     "name": "stdout",
     "output_type": "stream",
     "text": [
      "1 이다은\n",
      "2 최다은\n",
      "3 기다연\n",
      "4 네이스\n"
     ]
    }
   ],
   "source": [
    "for i,j in list(enumerate(c,1)):\n",
    "    print(i,j)"
   ]
  },
  {
   "cell_type": "code",
   "execution_count": 114,
   "metadata": {},
   "outputs": [
    {
     "name": "stdout",
     "output_type": "stream",
     "text": [
      "0\n",
      "1\n",
      "2\n",
      "3\n",
      "이다은\n",
      "최다은\n",
      "기다연\n",
      "네이스\n"
     ]
    }
   ],
   "source": [
    "# enumerate에서 일부만 출력하기\n",
    "for i,j in enumerate(c):\n",
    "    print(i)\n",
    "    \n",
    "for i,j in enumerate(c):\n",
    "    print(j)"
   ]
  },
  {
   "cell_type": "code",
   "execution_count": 122,
   "metadata": {},
   "outputs": [
    {
     "name": "stdout",
     "output_type": "stream",
     "text": [
      "이다은 의 나이는 21\n",
      "최다은 의 나이는 20\n",
      "기다연 의 나이는 22\n",
      "네이스 의 나이는 1\n"
     ]
    }
   ],
   "source": [
    "## 4) zip : list, tuple, dictionary간 짝짓기\n",
    "# 짝이 안맞으면 날린다\n",
    "c = ['이다은', '최다은', '기다연', '네이스', '배고파'] # list 두개를 짝짓기\n",
    "n = [21, 20, 22, 1]\n",
    "\n",
    "for i, j in zip(c,n):\n",
    "    print('%s 의 나이는 %s' %(i,j)) "
   ]
  },
  {
   "cell_type": "code",
   "execution_count": 123,
   "metadata": {},
   "outputs": [
    {
     "data": {
      "text/plain": [
       "[('이다은', 21), ('최다은', 20), ('기다연', 22), ('네이스', 1)]"
      ]
     },
     "execution_count": 123,
     "metadata": {},
     "output_type": "execute_result"
    }
   ],
   "source": [
    "list(zip(c,n))"
   ]
  },
  {
   "cell_type": "code",
   "execution_count": 129,
   "metadata": {},
   "outputs": [
    {
     "name": "stdout",
     "output_type": "stream",
     "text": [
      "다은 이름 으악 잡담\n",
      "동현 이름 공푸 잡담\n",
      "배고파 이름 먹고싶다 잡담\n"
     ]
    }
   ],
   "source": [
    "d = {'다은':1, '동현':2, '배고파':3} \n",
    "d1 = {'으악':4, '공푸':5, '먹고싶다':6}\n",
    "\n",
    "for i, j in zip(d, d1):\n",
    "    print('%s 이름 %s 잡담' %(i, j))"
   ]
  },
  {
   "cell_type": "code",
   "execution_count": 133,
   "metadata": {},
   "outputs": [
    {
     "name": "stdout",
     "output_type": "stream",
     "text": [
      "[('다은', '으악'), ('동현', '공푸'), ('배고파', '먹고싶다')]\n",
      "[(1, 4), (2, 5), (3, 6)]\n"
     ]
    }
   ],
   "source": [
    "print(list(zip(d, d1))) # 딕셔너리는 key끼리 zip으로 매칭\n",
    "print(list(zip(d.values(), d1.values()))) # value도 입력하면 가능"
   ]
  },
  {
   "cell_type": "code",
   "execution_count": 135,
   "metadata": {},
   "outputs": [
    {
     "name": "stdout",
     "output_type": "stream",
     "text": [
      "type of data is 다은, 20, 3.40\n"
     ]
    }
   ],
   "source": [
    "# 문자일때는 %s, int일때는 %d, float일때는 %f\n",
    "a = '다은'\n",
    "b = 20\n",
    "c = 3.4\n",
    "\n",
    "print('type of data is %s, %d, %.2f' %(a, b, c)) # %.2f : 소숫점 둘째자리"
   ]
  },
  {
   "cell_type": "markdown",
   "metadata": {},
   "source": [
    "# [ 객체지향 ]"
   ]
  },
  {
   "cell_type": "code",
   "execution_count": 136,
   "metadata": {},
   "outputs": [
    {
     "name": "stdout",
     "output_type": "stream",
     "text": [
      "배고프다~~\n"
     ]
    }
   ],
   "source": [
    "## 1. 함수\n",
    "def f(): # 괄호 안에는 element가 들어간다(괄호를 쓰자)\n",
    "    print('배고프다~~') \n",
    "f()"
   ]
  },
  {
   "cell_type": "code",
   "execution_count": 139,
   "metadata": {},
   "outputs": [
    {
     "name": "stdout",
     "output_type": "stream",
     "text": [
      "name:다은\n",
      "name: 다은\n",
      "age: 21\n",
      "gender:여성\n"
     ]
    }
   ],
   "source": [
    "def g(a,b,c):\n",
    "    print('name:' +a) # 문자열은 콤마 대신 +로 해도 가능\n",
    "    print('name:', a)\n",
    "    print('age:', b)\n",
    "    print('gender:'+c)\n",
    "\n",
    "g('다은', 21, '여성')"
   ]
  },
  {
   "cell_type": "code",
   "execution_count": 140,
   "metadata": {},
   "outputs": [
    {
     "data": {
      "text/plain": [
       "30"
      ]
     },
     "execution_count": 140,
     "metadata": {},
     "output_type": "execute_result"
    }
   ],
   "source": [
    "# 모수를 받아 새로운 값을 계산하여 반환하는 함수\n",
    "def sum(a, b):\n",
    "    result = a+b\n",
    "    return result\n",
    "\n",
    "sum(10, 20)"
   ]
  },
  {
   "cell_type": "code",
   "execution_count": 142,
   "metadata": {},
   "outputs": [
    {
     "name": "stdout",
     "output_type": "stream",
     "text": [
      "[1, 2, 3, [20, 30, 40]]\n"
     ]
    }
   ],
   "source": [
    "def update(new):\n",
    "    new.append([20, 30, 40]) # list에 새로운 인자를 append\n",
    "    return\n",
    "\n",
    "list = [1,2,3]\n",
    "update(list)\n",
    "print(list)"
   ]
  },
  {
   "cell_type": "code",
   "execution_count": 143,
   "metadata": {},
   "outputs": [
    {
     "name": "stdout",
     "output_type": "stream",
     "text": [
      "[1, 2, 3, 4, 5, 6, 7, 8, 9]\n"
     ]
    }
   ],
   "source": [
    "# 빈 list에 for 문 값을 append\n",
    "\n",
    "x = []\n",
    "for i in range(1,10):\n",
    "    x.append(i)\n",
    "print(x)"
   ]
  },
  {
   "cell_type": "code",
   "execution_count": 151,
   "metadata": {},
   "outputs": [
    {
     "name": "stdout",
     "output_type": "stream",
     "text": [
      "{'I': 1, 'am': 2, 'very': 3, 'sleepy': 4, 'hungry': 5}\n"
     ]
    }
   ],
   "source": [
    "# 토크나이저(중요)\n",
    "s = ['I am very sleepy', 'I am very hungry']\n",
    "diction = {}\n",
    "\n",
    "for i in s: \n",
    "    for j in i.split():  # split : 단어를 쪼갠다(개별단위에 적용)\n",
    "        if j not in diction: # dict에 추가. 이미 존재하면 삽입 X\n",
    "            diction[j] = len(diction) + 1 \n",
    "            # j : key값. dict[key]를 입력하면 value를 출력한다.\n",
    "            # 이때 value값을 현재 dict의 len에 하나씩 더하면서 출력\n",
    "            \n",
    "print(diction)"
   ]
  },
  {
   "cell_type": "code",
   "execution_count": 166,
   "metadata": {},
   "outputs": [
    {
     "data": {
      "text/plain": [
       "1"
      ]
     },
     "execution_count": 166,
     "metadata": {},
     "output_type": "execute_result"
    }
   ],
   "source": [
    "d['다은']"
   ]
  },
  {
   "cell_type": "code",
   "execution_count": 152,
   "metadata": {},
   "outputs": [
    {
     "data": {
      "text/plain": [
       "['the', 'cat', 'sat', 'on', 'the', 'mat']"
      ]
     },
     "execution_count": 152,
     "metadata": {},
     "output_type": "execute_result"
    }
   ],
   "source": [
    "s = 'the cat sat on the mat'\n",
    "s.split()"
   ]
  },
  {
   "cell_type": "code",
   "execution_count": 154,
   "metadata": {},
   "outputs": [
    {
     "ename": "AttributeError",
     "evalue": "'list' object has no attribute 'split'",
     "output_type": "error",
     "traceback": [
      "\u001b[1;31m---------------------------------------------------------------------------\u001b[0m",
      "\u001b[1;31mAttributeError\u001b[0m                            Traceback (most recent call last)",
      "\u001b[1;32m<ipython-input-154-8da78ced6885>\u001b[0m in \u001b[0;36m<module>\u001b[1;34m\u001b[0m\n\u001b[0;32m      1\u001b[0m \u001b[0ms\u001b[0m \u001b[1;33m=\u001b[0m \u001b[1;33m[\u001b[0m\u001b[1;34m'아 배고프다'\u001b[0m\u001b[1;33m,\u001b[0m \u001b[1;34m'공푸 언제 가지'\u001b[0m\u001b[1;33m]\u001b[0m\u001b[1;33m\u001b[0m\u001b[1;33m\u001b[0m\u001b[0m\n\u001b[1;32m----> 2\u001b[1;33m \u001b[0ms\u001b[0m\u001b[1;33m.\u001b[0m\u001b[0msplit\u001b[0m\u001b[1;33m(\u001b[0m\u001b[1;33m)\u001b[0m\u001b[1;33m\u001b[0m\u001b[1;33m\u001b[0m\u001b[0m\n\u001b[0m",
      "\u001b[1;31mAttributeError\u001b[0m: 'list' object has no attribute 'split'"
     ]
    }
   ],
   "source": [
    "s = ['아 배고프다', '공푸 언제 가지']\n",
    "s.split() # list 단위로는 적용이 안됨. 개별 단위로 적용해줘야함을 유의!"
   ]
  },
  {
   "cell_type": "code",
   "execution_count": 156,
   "metadata": {},
   "outputs": [
    {
     "name": "stdout",
     "output_type": "stream",
     "text": [
      "아\n",
      "배고프다\n",
      "공푸\n",
      "언제\n",
      "가지\n"
     ]
    }
   ],
   "source": [
    "# 이렇게 for문으로 해줘야함. \n",
    "for i in s:\n",
    "    for j in i.split():\n",
    "        print(j)"
   ]
  },
  {
   "cell_type": "code",
   "execution_count": 158,
   "metadata": {},
   "outputs": [
    {
     "name": "stdout",
     "output_type": "stream",
     "text": [
      "['아', '배고프다']\n",
      "['공푸', '언제', '가지']\n"
     ]
    }
   ],
   "source": [
    "for i in s:\n",
    "    print(i.split())"
   ]
  },
  {
   "cell_type": "code",
   "execution_count": 167,
   "metadata": {},
   "outputs": [
    {
     "data": {
      "text/plain": [
       "6"
      ]
     },
     "execution_count": 167,
     "metadata": {},
     "output_type": "execute_result"
    }
   ],
   "source": [
    "# lambda문\n",
    "result = lambda n1, n2, n3 : n1+n2+n3\n",
    "result(1,2,3)"
   ]
  },
  {
   "cell_type": "code",
   "execution_count": 169,
   "metadata": {},
   "outputs": [
    {
     "name": "stdout",
     "output_type": "stream",
     "text": [
      "다은\n",
      "he run\n"
     ]
    }
   ],
   "source": [
    "## 2. class : 함수들의 모임 (첫글자는 항상 대문자로 쓴다)\n",
    "\n",
    "class Player: \n",
    "    # class attribute\n",
    "    name = '다은'\n",
    "    age = 21\n",
    "    gender = '여성'\n",
    "    \n",
    "    # self 를 반드시 쓸 것.(클래스 안에서 정의된 함수임을 알려줌.)\n",
    "    def stand(self):\n",
    "        print('he stands')\n",
    "        \n",
    "    def run(self):\n",
    "        print('he run')\n",
    "        \n",
    "male = Player() # 객체화한다. \n",
    "player_name = male.name # attribute를 바로 불러서 print 가능. \n",
    "print(player_name)\n",
    "\n",
    "male.run() # male에 함수를 적용한다. "
   ]
  },
  {
   "cell_type": "code",
   "execution_count": 174,
   "metadata": {},
   "outputs": [
    {
     "name": "stdout",
     "output_type": "stream",
     "text": [
      "info for player다은has been stored.\n",
      "Player count:1\n"
     ]
    }
   ],
   "source": [
    "# 클래스 속성(attribute)과 사례(instance) 속성\n",
    "class Player:\n",
    "    person_count = 0 # 클래스 속성(클래스 내부 아무데서나 쓸 수 있음)\n",
    "    \n",
    "    def infor(self, name, age, gender):\n",
    "        self.name = name # 사례 속성(def 안에서만 self로 정의되어 사용)\n",
    "        self.age = age # 밖에서는 못씀. \n",
    "        self.gender = gender\n",
    "        \n",
    "        Player.person_count += 1 # 1씩 더해짐. \n",
    "        \n",
    "        print('info for player' + self.name + 'has been stored.')\n",
    "\n",
    "# 클래스를 먼저 불러준다\n",
    "player1 = Player() # 아직 속성에 값을 할당하지 않은 상태\n",
    "player1.infor('다은', 21, '여성') # 인스턴스(사례속성) 할당\n",
    "\n",
    "print('Player count:' + str(player1.person_count))  # count가 한번됨. "
   ]
  },
  {
   "cell_type": "code",
   "execution_count": 175,
   "metadata": {},
   "outputs": [
    {
     "name": "stdout",
     "output_type": "stream",
     "text": [
      "info for player동현has been stored.\n"
     ]
    },
    {
     "data": {
      "text/plain": [
       "2"
      ]
     },
     "execution_count": 175,
     "metadata": {},
     "output_type": "execute_result"
    }
   ],
   "source": [
    "plyer2 = Player()\n",
    "plyer2.infor('동현', 24, '남성')\n",
    "plyer2.person_count # player1, player2 에 의해 호환되어서 2로 표시됨. \n",
    "# 클래스가 기억함. "
   ]
  },
  {
   "cell_type": "code",
   "execution_count": 177,
   "metadata": {},
   "outputs": [
    {
     "name": "stdout",
     "output_type": "stream",
     "text": [
      "instance variable start\n",
      "Date is 12/2019\n"
     ]
    }
   ],
   "source": [
    "# 클래스를 호출하면 자동으로 사례속성(인스턴스)를 만들어내는 방법\n",
    "\n",
    "class Food:\n",
    "    def __init__(self, name, year, month): # 생성자\n",
    "        self.name = name\n",
    "        self.year = year\n",
    "        self.month = month\n",
    "        \n",
    "        print('instance variable start')\n",
    "    \n",
    "    def date(self):\n",
    "        print('Date is ' + str(self.month) + \\\n",
    "             '/' + str(self.year))\n",
    "\n",
    "# 클래스를 먼저 부르지 않고 바로 속성할당(생성자때문)        \n",
    "food1 = Food('pizza', 2019, 12) \n",
    "food1.date()"
   ]
  },
  {
   "cell_type": "code",
   "execution_count": null,
   "metadata": {},
   "outputs": [],
   "source": [
    "# 클래스 내에서 속성 제어(책 참고)"
   ]
  },
  {
   "cell_type": "code",
   "execution_count": null,
   "metadata": {},
   "outputs": [],
   "source": [
    "# 부모 클래스는 자식을 가질 수 있다. 이미 쓰인 함수를 불러올 수 있음\n",
    "# 기존 함수를 이용해 맞춤형 클래스를 만드는 법\n",
    "\n",
    "# class ParentA:\n",
    "#     def fA:\n",
    "#         statement\n",
    "        \n",
    "# class ParentB:\n",
    "#     def fB:\n",
    "#         statement\n",
    "\n",
    "# class Child(ParentA, ParentB):\n",
    "#     def fC:\n",
    "#         statement\n",
    "        \n",
    "# s = Child()\n",
    "# s.fA()  # 자식 클래스의 함수를 바로 받아쓸 수 있다. \n",
    "# s.fB()\n",
    "# s.fC()"
   ]
  },
  {
   "cell_type": "markdown",
   "metadata": {},
   "source": [
    "# [ 데이터를 저장하기 ]"
   ]
  },
  {
   "cell_type": "code",
   "execution_count": 182,
   "metadata": {},
   "outputs": [],
   "source": [
    "# 파일 경로에 text를 생성하기('w' : write 이용)\n",
    "# text = open('파일경로', 'w')\n",
    "# for i in range(10):\n",
    "#     data = ('Player%d.\\n' %i)\n",
    "#     text.write(data)\n",
    "# text.close() # open을 하면 반드시 close를 해주기"
   ]
  },
  {
   "cell_type": "code",
   "execution_count": null,
   "metadata": {},
   "outputs": [],
   "source": [
    "# close 자동으로 하기(with)"
   ]
  }
 ],
 "metadata": {
  "kernelspec": {
   "display_name": "Python 3",
   "language": "python",
   "name": "python3"
  },
  "language_info": {
   "codemirror_mode": {
    "name": "ipython",
    "version": 3
   },
   "file_extension": ".py",
   "mimetype": "text/x-python",
   "name": "python",
   "nbconvert_exporter": "python",
   "pygments_lexer": "ipython3",
   "version": "3.7.7"
  }
 },
 "nbformat": 4,
 "nbformat_minor": 4
}
