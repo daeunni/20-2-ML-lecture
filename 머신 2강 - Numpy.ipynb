{
 "cells": [
  {
   "cell_type": "markdown",
   "metadata": {},
   "source": [
    "# [ Numpy ]"
   ]
  },
  {
   "cell_type": "code",
   "execution_count": 1,
   "metadata": {},
   "outputs": [
    {
     "data": {
      "text/plain": [
       "array([1, 5, 7, 6])"
      ]
     },
     "execution_count": 1,
     "metadata": {},
     "output_type": "execute_result"
    }
   ],
   "source": [
    "import numpy as np\n",
    "np.array([1,5,7,6]) # 1d tensor (0d : scalar, 2d : matrix)\n",
    "# row/column : 2d tensor"
   ]
  },
  {
   "cell_type": "code",
   "execution_count": 2,
   "metadata": {},
   "outputs": [
    {
     "data": {
      "text/plain": [
       "array([1.25, 1.  , 5.  , 7.  ])"
      ]
     },
     "execution_count": 2,
     "metadata": {},
     "output_type": "execute_result"
    }
   ],
   "source": [
    "np.array([1.25, 1, 5, 7]) # array는 data type이 같아야함. \n",
    "# 모두 float형태로 반환함. "
   ]
  },
  {
   "cell_type": "markdown",
   "metadata": {},
   "source": [
    "### 난수 생성"
   ]
  },
  {
   "cell_type": "code",
   "execution_count": 3,
   "metadata": {},
   "outputs": [
    {
     "data": {
      "text/plain": [
       "array([0, 0, 0, 0, 0])"
      ]
     },
     "execution_count": 3,
     "metadata": {},
     "output_type": "execute_result"
    }
   ],
   "source": [
    "# 0을 5개\n",
    "np.zeros(5, dtype=int)"
   ]
  },
  {
   "cell_type": "code",
   "execution_count": 4,
   "metadata": {},
   "outputs": [
    {
     "data": {
      "text/plain": [
       "array([[1., 1., 1.],\n",
       "       [1., 1., 1.]])"
      ]
     },
     "execution_count": 4,
     "metadata": {},
     "output_type": "execute_result"
    }
   ],
   "source": [
    "np.ones([2,3], dtype=float) # row 2, column 3 2D tensor"
   ]
  },
  {
   "cell_type": "code",
   "execution_count": 5,
   "metadata": {},
   "outputs": [
    {
     "data": {
      "text/plain": [
       "array([0, 2, 4, 6, 8])"
      ]
     },
     "execution_count": 5,
     "metadata": {},
     "output_type": "execute_result"
    }
   ],
   "source": [
    "np.arange(0, 10, 2) # 0포함, 10불포함, 2간격"
   ]
  },
  {
   "cell_type": "code",
   "execution_count": 6,
   "metadata": {},
   "outputs": [
    {
     "data": {
      "text/plain": [
       "array([0.  , 0.25, 0.5 , 0.75, 1.  ])"
      ]
     },
     "execution_count": 6,
     "metadata": {},
     "output_type": "execute_result"
    }
   ],
   "source": [
    "np.linspace(0, 1, 5) # 0과 1을 5등분"
   ]
  },
  {
   "cell_type": "code",
   "execution_count": 8,
   "metadata": {},
   "outputs": [
    {
     "data": {
      "text/plain": [
       "array([[0.15416284, 0.7400497 , 0.26331502],\n",
       "       [0.53373939, 0.01457496, 0.91874701],\n",
       "       [0.90071485, 0.03342143, 0.95694934]])"
      ]
     },
     "execution_count": 8,
     "metadata": {},
     "output_type": "execute_result"
    }
   ],
   "source": [
    "np.random.seed(12) # seed를 고정해야지 같은 결과가 나옴\n",
    "np.random.random((3,3)) # 3*3 U(0, 1) 균일분포 난수 생성"
   ]
  },
  {
   "cell_type": "code",
   "execution_count": 9,
   "metadata": {},
   "outputs": [
    {
     "data": {
      "text/plain": [
       "array([[-0.42069204, -0.7060276 ,  0.58535808],\n",
       "       [ 0.13978644,  2.73781428,  1.11674795],\n",
       "       [ 1.57453814, -0.08586679,  0.47673663]])"
      ]
     },
     "execution_count": 9,
     "metadata": {},
     "output_type": "execute_result"
    }
   ],
   "source": [
    "np.random.normal(0, 1, (3,3)) # 3*3 N(0, 1) 정규분포 난수 생성"
   ]
  },
  {
   "cell_type": "code",
   "execution_count": 10,
   "metadata": {},
   "outputs": [
    {
     "data": {
      "text/plain": [
       "array([[9, 0, 0],\n",
       "       [9, 8, 9],\n",
       "       [6, 1, 8]])"
      ]
     },
     "execution_count": 10,
     "metadata": {},
     "output_type": "execute_result"
    }
   ],
   "source": [
    "np.random.randint(0, 10, (3,3)) # 3*3 정수(0~9사이) 난수 생성"
   ]
  },
  {
   "cell_type": "code",
   "execution_count": 11,
   "metadata": {},
   "outputs": [
    {
     "data": {
      "text/plain": [
       "array([[-0.6075477 , -0.12613641, -0.68460636],\n",
       "       [ 0.92871475, -1.84440103, -0.46700242],\n",
       "       [ 2.29249034,  0.48881005,  0.71026699]])"
      ]
     },
     "execution_count": 11,
     "metadata": {},
     "output_type": "execute_result"
    }
   ],
   "source": [
    "# np.random.RandomState() 클래스를 rg 객체화\n",
    "rg = np.random.RandomState(40) # 랜덤스테이트 객체 저장\n",
    "# np.random 라이브러리 밑에 RandomState 클래스가 있음. \n",
    "rg.normal(0, 1, (3,3)) "
   ]
  },
  {
   "cell_type": "code",
   "execution_count": 29,
   "metadata": {},
   "outputs": [
    {
     "name": "stdout",
     "output_type": "stream",
     "text": [
      "[[[5 8 9 5]\n",
      "  [0 0 1 7]\n",
      "  [6 9 2 4]]\n",
      "\n",
      " [[5 2 4 2]\n",
      "  [4 7 7 9]\n",
      "  [1 7 0 6]]]\n",
      "3\n",
      "(2, 3, 4)\n",
      "24\n",
      "[5 8 9 5 0 0 1 7 6 9 2 4 5 2 4 2 4 7 7 9 1 7 0 6]\n"
     ]
    }
   ],
   "source": [
    "## array의 객체화\n",
    "np.random.seed(1)\n",
    "x = np.random.randint(10, size=(2,3,4)) # 3D tensor(맨 앞은 sample의 숫자)\n",
    "print(x);print(x.ndim);print(x.shape);print(x.size)\n",
    "# ndim : 3차원, size : 24(element 개수)\n",
    "\n",
    "xx = x.flatten();print(xx) # flatten : 차원에 관계 없이 쭉 1차원으로 펼침"
   ]
  },
  {
   "cell_type": "markdown",
   "metadata": {},
   "source": [
    "### array 접근과 편집"
   ]
  },
  {
   "cell_type": "code",
   "execution_count": 31,
   "metadata": {},
   "outputs": [
    {
     "name": "stdout",
     "output_type": "stream",
     "text": [
      "3\n",
      "[3 5]\n",
      "[3 5 2]\n"
     ]
    }
   ],
   "source": [
    "# array 접근\n",
    "x = np.array([0,3,5,2,4,6])\n",
    "print(x[1]);print(x[1:3]);print(x[1:-2]) # 1부터 끝에서 두번째-1 까지"
   ]
  },
  {
   "cell_type": "code",
   "execution_count": 37,
   "metadata": {},
   "outputs": [
    {
     "name": "stdout",
     "output_type": "stream",
     "text": [
      "[0 3 5 2 4 6]\n",
      "[0 5 4]\n",
      "[0 3]\n",
      "[6 4 2 5 3 0]\n",
      "[6 2 3]\n"
     ]
    }
   ],
   "source": [
    "# x[start : stop : step] 형식 (2D)\n",
    "# x[start : stop : step, start : stop : step] (3D)\n",
    "\n",
    "print(x)\n",
    "print(x[::2]) # start, stop은 디폴트(처음부터 끝까지), step만 2칸씩 띄기\n",
    "print(x[:2]) # start, step은 디폴트. 2번째전에서 stop\n",
    "print(x[::-1]) # 역순으로 읽어줌\n",
    "print(x[5::-2]) # 5번째부터 시작해 역순으로 2칸씩 띄어서 출력 "
   ]
  },
  {
   "cell_type": "code",
   "execution_count": 46,
   "metadata": {},
   "outputs": [
    {
     "name": "stdout",
     "output_type": "stream",
     "text": [
      "[[1 2 3]\n",
      " [4 5 6]\n",
      " [7 8 9]]\n",
      "[[1 2]\n",
      " [4 5]]\n",
      "[1 4 7]\n",
      "[1 2 3]\n",
      "[1 2 3]\n"
     ]
    }
   ],
   "source": [
    "# 2D tensor\n",
    "x = np.array([[1,2,3], [4,5,6], [7,8,9]]) \n",
    "print(x);print(x[:2, :2])\n",
    "print(x[:,0]) # 첫째 열\n",
    "print(x[0, :]) # 첫째 행"
   ]
  },
  {
   "cell_type": "code",
   "execution_count": 48,
   "metadata": {},
   "outputs": [
    {
     "data": {
      "text/plain": [
       "array([1, 2, 3])"
      ]
     },
     "execution_count": 48,
     "metadata": {},
     "output_type": "execute_result"
    }
   ],
   "source": [
    "x[0] # 자동으로 행을 표시함"
   ]
  },
  {
   "cell_type": "code",
   "execution_count": 52,
   "metadata": {},
   "outputs": [
    {
     "name": "stdout",
     "output_type": "stream",
     "text": [
      "6\n",
      "6\n"
     ]
    }
   ],
   "source": [
    "print(x[1,2]) # 첫번째의 2번째 원소(list와 다름. list는 x[1][2]로 같은 작업 수행)\n",
    "print(x[1][2]) "
   ]
  },
  {
   "cell_type": "code",
   "execution_count": 57,
   "metadata": {},
   "outputs": [
    {
     "data": {
      "text/plain": [
       "array([[99,  2,  3],\n",
       "       [ 4,  5,  6],\n",
       "       [ 7,  8,  9]])"
      ]
     },
     "execution_count": 57,
     "metadata": {},
     "output_type": "execute_result"
    }
   ],
   "source": [
    "x[0,0] = 99 # (0,0) element를 99로 바꿈\n",
    "x"
   ]
  },
  {
   "cell_type": "code",
   "execution_count": 58,
   "metadata": {},
   "outputs": [
    {
     "data": {
      "text/plain": [
       "array([[99,  2],\n",
       "       [ 4,  5]])"
      ]
     },
     "execution_count": 58,
     "metadata": {},
     "output_type": "execute_result"
    }
   ],
   "source": [
    "x1 = x[:2, :2] # 2행, 2열만 선택\n",
    "x1 "
   ]
  },
  {
   "cell_type": "code",
   "execution_count": 59,
   "metadata": {},
   "outputs": [
    {
     "data": {
      "text/plain": [
       "array([[99, 99],\n",
       "       [ 4,  5]])"
      ]
     },
     "execution_count": 59,
     "metadata": {},
     "output_type": "execute_result"
    }
   ],
   "source": [
    "x1[0,1] = 99;x1 # (0,1) 원소를 99로 바꿈"
   ]
  },
  {
   "cell_type": "code",
   "execution_count": 60,
   "metadata": {},
   "outputs": [
    {
     "data": {
      "text/plain": [
       "array([[99, 99,  3],\n",
       "       [ 4,  5,  6],\n",
       "       [ 7,  8,  9]])"
      ]
     },
     "execution_count": 60,
     "metadata": {},
     "output_type": "execute_result"
    }
   ],
   "source": [
    "x # x1을 수정하면 x에도 반영이 됨. x1은 x의 객체에 불과할 뿐임. \n",
    "# x1이 바뀌면 원래 왔던 x도 바뀜을 유의하자!!"
   ]
  },
  {
   "cell_type": "markdown",
   "metadata": {},
   "source": [
    "객체화를 함으로써 객체화된 것을 바꾸면 원래것들도 바뀜을 유의하자!"
   ]
  },
  {
   "cell_type": "code",
   "execution_count": 64,
   "metadata": {},
   "outputs": [
    {
     "name": "stdout",
     "output_type": "stream",
     "text": [
      "[[1000   99]\n",
      " [   4    5]]\n",
      "[[99 99]\n",
      " [ 4  5]]\n"
     ]
    }
   ],
   "source": [
    "# x를 바뀌지 않게 하는 법 : copy()를 이용함\n",
    "x1_copy = x[:2, :2].copy()\n",
    "x1_copy[0,0] = 1000\n",
    "print(x1_copy);print(x1) # x1의 변화가 x에 영향을 주지 않는 모습!"
   ]
  },
  {
   "cell_type": "code",
   "execution_count": 25,
   "metadata": {},
   "outputs": [
    {
     "name": "stdout",
     "output_type": "stream",
     "text": [
      "[[0]\n",
      " [3]\n",
      " [5]\n",
      " [2]\n",
      " [4]\n",
      " [6]]\n",
      "[[0 3 5 2 4 6]]\n",
      "[[0]\n",
      " [3]\n",
      " [5]\n",
      " [2]\n",
      " [4]\n",
      " [6]]\n",
      "[[0]\n",
      " [3]\n",
      " [5]\n",
      " [2]\n",
      " [4]\n",
      " [6]]\n",
      "[0 3 5 2 4 6]\n"
     ]
    }
   ],
   "source": [
    "# array 편집\n",
    "x1 = x[:, np.newaxis] # 2D(column vector)로 바뀜(axis=1)\n",
    "print(x1)\n",
    "x5 = x[np.newaxis, :];print(x5) # 2D row vector로 바뀜(axis=0)\n",
    "x2 = x.reshape(6,1)\n",
    "print(x2)\n",
    "x3 = np.reshape(x, (6, 1))\n",
    "print(x3)\n",
    "x4 = x3.flatten();print(x4) # flatten : 1차원으로 펼쳐줌. "
   ]
  },
  {
   "cell_type": "markdown",
   "metadata": {},
   "source": [
    "### 차원변경"
   ]
  },
  {
   "cell_type": "code",
   "execution_count": 130,
   "metadata": {},
   "outputs": [
    {
     "name": "stdout",
     "output_type": "stream",
     "text": [
      "[1 2 3]\n",
      "(3,)\n",
      "[1 2 3]\n",
      "(3,)\n",
      "[1 2 3]\n",
      "(3,)\n",
      "[[1 2 3]]\n",
      "[[1]\n",
      " [2]\n",
      " [3]]\n"
     ]
    }
   ],
   "source": [
    "# reshape 이용\n",
    "x = np.array([1,2,3]);print(x);print(x.shape)\n",
    "x.reshape((1,3));print(x);print(x.shape)\n",
    "x.reshape((3,1));print(x);print(x.shape) \n",
    "# but reshape만으로는 차원이 변하지 않음\n",
    "\n",
    "# row, column 벡터는 2D tensor임을 주의하자!\n",
    "# 1차원 > 2차원 array : np.newaxis 사용\n",
    "x1 = x[np.newaxis, :];print(x1) # 2차원 행벡터화([]가 하나 더 생김)\n",
    "x2 = x[:, np.newaxis];print(x2) # 2차원 열벡터화"
   ]
  },
  {
   "cell_type": "code",
   "execution_count": 74,
   "metadata": {},
   "outputs": [
    {
     "name": "stdout",
     "output_type": "stream",
     "text": [
      "[[[4 7 7 4]\n",
      "  [9 0 2 0]\n",
      "  [7 1 7 9]]\n",
      "\n",
      " [[8 4 0 1]\n",
      "  [9 8 2 3]\n",
      "  [1 2 7 2]]\n",
      "\n",
      " [[6 0 9 2]\n",
      "  [6 6 2 7]\n",
      "  [7 0 6 5]]]\n",
      "[[4 7 7 4 9 0 2 0 7 1 7 9]\n",
      " [8 4 0 1 9 8 2 3 1 2 7 2]\n",
      " [6 0 9 2 6 6 2 7 7 0 6 5]]\n",
      "[[4 7 7 4 9 0 2 0 7 1 7 9]\n",
      " [8 4 0 1 9 8 2 3 1 2 7 2]\n",
      " [6 0 9 2 6 6 2 7 7 0 6 5]]\n"
     ]
    }
   ],
   "source": [
    "x = np.random.randint(10, size=(3,3,4));print(x) # 3d tensor \n",
    "# 3개의 observation, 3*4는 픽셀. \n",
    "\n",
    "# size 변경 : reshape(sample과 픽셀 사이즈(곱)를 맞춰줘야함)\n",
    "x1 = x.reshape((3,12));print(x1) \n",
    "x2 = x.reshape((-1, 12));print(x2) # 맞춰주기 귀찮을때는 -1. 알아서 해줌. "
   ]
  },
  {
   "cell_type": "markdown",
   "metadata": {},
   "source": [
    "### 분할"
   ]
  },
  {
   "cell_type": "code",
   "execution_count": 75,
   "metadata": {},
   "outputs": [
    {
     "name": "stdout",
     "output_type": "stream",
     "text": [
      "[1 2] [3 4 5 6] [7 8]\n"
     ]
    }
   ],
   "source": [
    "x = [1,2,3,4,5,6,7,8]\n",
    "x1, x2, x3 = np.split(x, [2,6]);print(x1, x2, x3)\n",
    "# [2,6] : '0~1 / 2~5 / 6~ 나머지'로 쪼개라는 뜻"
   ]
  },
  {
   "cell_type": "code",
   "execution_count": 76,
   "metadata": {},
   "outputs": [
    {
     "name": "stdout",
     "output_type": "stream",
     "text": [
      "[100   2]\n",
      "[1, 2, 3, 4, 5, 6, 7, 8]\n"
     ]
    }
   ],
   "source": [
    "# 분할하여 저장한 변수의 변경은 원래 x에 반영되지 않음. \n",
    "x1[0] = 100;print(x1)\n",
    "print(x)"
   ]
  },
  {
   "cell_type": "code",
   "execution_count": 77,
   "metadata": {},
   "outputs": [
    {
     "name": "stdout",
     "output_type": "stream",
     "text": [
      "[[0.61714491 0.3266449  0.5270581  0.8859421 ]\n",
      " [0.35726976 0.90853515 0.62336012 0.01582124]\n",
      " [0.92943723 0.69089692 0.99732285 0.17234051]\n",
      " [0.13713575 0.93259546 0.69681816 0.06600017]]\n"
     ]
    }
   ],
   "source": [
    "x = np.random.random((4,4));print(x)"
   ]
  },
  {
   "cell_type": "code",
   "execution_count": 84,
   "metadata": {},
   "outputs": [
    {
     "name": "stdout",
     "output_type": "stream",
     "text": [
      "[[0.61714491 0.3266449  0.5270581  0.8859421 ]\n",
      " [0.35726976 0.90853515 0.62336012 0.01582124]]\n",
      "------------------------------------------------------------\n",
      "[[0.92943723 0.69089692 0.99732285 0.17234051]\n",
      " [0.13713575 0.93259546 0.69681816 0.06600017]]\n"
     ]
    }
   ],
   "source": [
    "# vsplit : 가로분할\n",
    "x1, x2 = np.vsplit(x, [2]) # 숫자는 첫번째 분할을 뭘로 할 것인가? \n",
    "print(x1)\n",
    "print('-'*60)\n",
    "print(x2)"
   ]
  },
  {
   "cell_type": "code",
   "execution_count": 82,
   "metadata": {},
   "outputs": [
    {
     "name": "stdout",
     "output_type": "stream",
     "text": [
      "[[0.61714491 0.3266449 ]\n",
      " [0.35726976 0.90853515]\n",
      " [0.92943723 0.69089692]\n",
      " [0.13713575 0.93259546]]\n",
      "------------------------------------------------------------\n",
      "[[0.5270581  0.8859421 ]\n",
      " [0.62336012 0.01582124]\n",
      " [0.99732285 0.17234051]\n",
      " [0.69681816 0.06600017]]\n"
     ]
    }
   ],
   "source": [
    "# hsplit : 세로분할\n",
    "y1, y2 = np.hsplit(x, [2])\n",
    "print(y1)\n",
    "print('-' * 60)\n",
    "print(y2)"
   ]
  },
  {
   "cell_type": "markdown",
   "metadata": {},
   "source": [
    "### 덧붙이기"
   ]
  },
  {
   "cell_type": "code",
   "execution_count": 85,
   "metadata": {},
   "outputs": [
    {
     "data": {
      "text/plain": [
       "array([1, 2, 2, 3, 4, 5])"
      ]
     },
     "execution_count": 85,
     "metadata": {},
     "output_type": "execute_result"
    }
   ],
   "source": [
    "# concatenate : observation 을 늘린다. \n",
    "x = np.array([1,2])\n",
    "y = np.array([2,3])\n",
    "z = np.array([4,5])\n",
    "np.concatenate([x,y,z]) # 연결지을 array는 꼭 대괄호[] 로 묶어준다!"
   ]
  },
  {
   "cell_type": "code",
   "execution_count": 91,
   "metadata": {},
   "outputs": [
    {
     "name": "stdout",
     "output_type": "stream",
     "text": [
      "[[1 2 3]\n",
      " [4 5 6]]\n",
      "[[2 4 6]\n",
      " [6 7 8]]\n",
      "[[1 2 3 2 4 6]\n",
      " [4 5 6 6 7 8]]\n",
      "[[1 2 3]\n",
      " [4 5 6]\n",
      " [2 4 6]\n",
      " [6 7 8]]\n"
     ]
    }
   ],
   "source": [
    "xx = np.array([[1,2,3], [4,5,6]])\n",
    "yy = np.array([[2,4,6], [6,7,8]])\n",
    "print(xx);print(yy)\n",
    "\n",
    "zz = np.concatenate([xx, yy], axis=1);print(zz) # axis=1 : 칼럼으로 연결\n",
    "zz = np.concatenate([xx, yy], axis=0);print(zz) # axis=0 : 행으로 연결"
   ]
  },
  {
   "cell_type": "code",
   "execution_count": 94,
   "metadata": {},
   "outputs": [
    {
     "data": {
      "text/plain": [
       "array([[55, 66, 77],\n",
       "       [ 1,  2,  3],\n",
       "       [ 4,  5,  6]])"
      ]
     },
     "execution_count": 94,
     "metadata": {},
     "output_type": "execute_result"
    }
   ],
   "source": [
    "# vstack : 세로로 위에 쌓기. \n",
    "# np.concatenate([aa.reshape((1,3)), xx])과 결과 동일\n",
    "\n",
    "aa = np.array([55,66,77])\n",
    "np.vstack([aa, xx])"
   ]
  },
  {
   "cell_type": "code",
   "execution_count": 105,
   "metadata": {},
   "outputs": [
    {
     "name": "stdout",
     "output_type": "stream",
     "text": [
      "[[100 200]]\n",
      "(1, 2)\n"
     ]
    },
    {
     "ename": "ValueError",
     "evalue": "all the input array dimensions for the concatenation axis must match exactly, but along dimension 0, the array at index 0 has size 1 and the array at index 1 has size 2",
     "output_type": "error",
     "traceback": [
      "\u001b[1;31m---------------------------------------------------------------------------\u001b[0m",
      "\u001b[1;31mValueError\u001b[0m                                Traceback (most recent call last)",
      "\u001b[1;32m<ipython-input-105-583e47796233>\u001b[0m in \u001b[0;36m<module>\u001b[1;34m\u001b[0m\n\u001b[0;32m      1\u001b[0m \u001b[1;31m# hstack : 가로로 옆에 쌓기\u001b[0m\u001b[1;33m\u001b[0m\u001b[1;33m\u001b[0m\u001b[1;33m\u001b[0m\u001b[0m\n\u001b[0;32m      2\u001b[0m \u001b[0mww\u001b[0m \u001b[1;33m=\u001b[0m \u001b[0mnp\u001b[0m\u001b[1;33m.\u001b[0m\u001b[0marray\u001b[0m\u001b[1;33m(\u001b[0m\u001b[1;33m[\u001b[0m\u001b[1;33m[\u001b[0m\u001b[1;36m100\u001b[0m\u001b[1;33m,\u001b[0m \u001b[1;36m200\u001b[0m\u001b[1;33m]\u001b[0m\u001b[1;33m]\u001b[0m\u001b[1;33m)\u001b[0m\u001b[1;33m;\u001b[0m\u001b[0mprint\u001b[0m\u001b[1;33m(\u001b[0m\u001b[0mww\u001b[0m\u001b[1;33m)\u001b[0m\u001b[1;33m;\u001b[0m\u001b[0mprint\u001b[0m\u001b[1;33m(\u001b[0m\u001b[0mww\u001b[0m\u001b[1;33m.\u001b[0m\u001b[0mshape\u001b[0m\u001b[1;33m)\u001b[0m \u001b[1;31m# 이렇게 붙이면 왠지 모르게 안붙음\u001b[0m\u001b[1;33m\u001b[0m\u001b[1;33m\u001b[0m\u001b[0m\n\u001b[1;32m----> 3\u001b[1;33m \u001b[0mnp\u001b[0m\u001b[1;33m.\u001b[0m\u001b[0mhstack\u001b[0m\u001b[1;33m(\u001b[0m\u001b[1;33m[\u001b[0m\u001b[0mww\u001b[0m\u001b[1;33m,\u001b[0m\u001b[0mxx\u001b[0m\u001b[1;33m]\u001b[0m\u001b[1;33m)\u001b[0m\u001b[1;33m\u001b[0m\u001b[1;33m\u001b[0m\u001b[0m\n\u001b[0m",
      "\u001b[1;32m<__array_function__ internals>\u001b[0m in \u001b[0;36mhstack\u001b[1;34m(*args, **kwargs)\u001b[0m\n",
      "\u001b[1;32mC:\\ProgramData\\Anaconda3\\lib\\site-packages\\numpy\\core\\shape_base.py\u001b[0m in \u001b[0;36mhstack\u001b[1;34m(tup)\u001b[0m\n\u001b[0;32m    343\u001b[0m         \u001b[1;32mreturn\u001b[0m \u001b[0m_nx\u001b[0m\u001b[1;33m.\u001b[0m\u001b[0mconcatenate\u001b[0m\u001b[1;33m(\u001b[0m\u001b[0marrs\u001b[0m\u001b[1;33m,\u001b[0m \u001b[1;36m0\u001b[0m\u001b[1;33m)\u001b[0m\u001b[1;33m\u001b[0m\u001b[1;33m\u001b[0m\u001b[0m\n\u001b[0;32m    344\u001b[0m     \u001b[1;32melse\u001b[0m\u001b[1;33m:\u001b[0m\u001b[1;33m\u001b[0m\u001b[1;33m\u001b[0m\u001b[0m\n\u001b[1;32m--> 345\u001b[1;33m         \u001b[1;32mreturn\u001b[0m \u001b[0m_nx\u001b[0m\u001b[1;33m.\u001b[0m\u001b[0mconcatenate\u001b[0m\u001b[1;33m(\u001b[0m\u001b[0marrs\u001b[0m\u001b[1;33m,\u001b[0m \u001b[1;36m1\u001b[0m\u001b[1;33m)\u001b[0m\u001b[1;33m\u001b[0m\u001b[1;33m\u001b[0m\u001b[0m\n\u001b[0m\u001b[0;32m    346\u001b[0m \u001b[1;33m\u001b[0m\u001b[0m\n\u001b[0;32m    347\u001b[0m \u001b[1;33m\u001b[0m\u001b[0m\n",
      "\u001b[1;32m<__array_function__ internals>\u001b[0m in \u001b[0;36mconcatenate\u001b[1;34m(*args, **kwargs)\u001b[0m\n",
      "\u001b[1;31mValueError\u001b[0m: all the input array dimensions for the concatenation axis must match exactly, but along dimension 0, the array at index 0 has size 1 and the array at index 1 has size 2"
     ]
    }
   ],
   "source": [
    "# hstack : 가로로 옆에 쌓기\n",
    "ww = np.array([[100, 200]]);print(ww);print(ww.shape) # 이렇게 붙이면 왠지 모르게 안붙음\n",
    "np.hstack([ww,xx])"
   ]
  },
  {
   "cell_type": "code",
   "execution_count": 107,
   "metadata": {},
   "outputs": [
    {
     "name": "stdout",
     "output_type": "stream",
     "text": [
      "[[100]\n",
      " [200]]\n",
      "(2, 1)\n"
     ]
    },
    {
     "data": {
      "text/plain": [
       "array([[100,   1,   2,   3],\n",
       "       [200,   4,   5,   6]])"
      ]
     },
     "execution_count": 107,
     "metadata": {},
     "output_type": "execute_result"
    }
   ],
   "source": [
    "# 붙이는 array 지정에 유의하기!\n",
    "ww = np.array([[100], [200]]);print(ww);print(ww.shape)\n",
    "np.hstack([ww, xx])"
   ]
  },
  {
   "cell_type": "markdown",
   "metadata": {},
   "source": [
    "### 연산"
   ]
  },
  {
   "cell_type": "code",
   "execution_count": 114,
   "metadata": {},
   "outputs": [
    {
     "name": "stdout",
     "output_type": "stream",
     "text": [
      "[4 5 6 7]\n",
      "[0.33333333 0.66666667 1.         1.33333333]\n",
      "[ 1  8 27 64]\n",
      "[ 2.71828183  7.3890561  20.08553692 54.59815003]\n",
      "[ 3  9 27 81]\n",
      "[0.         0.69314718 1.09861229 1.38629436]\n",
      "[0.        1.        1.5849625 2.       ]\n"
     ]
    }
   ],
   "source": [
    "# array element 마다 연산이 들어감(broadcasting)\n",
    "x = np.array([1,2,3,4])\n",
    "print(x+3)\n",
    "print(x/3)\n",
    "print(x**3)\n",
    "\n",
    "print(np.exp(x))\n",
    "print(np.power(3, x)) # 3의 x승\n",
    "print(np.log(x))\n",
    "print(np.log2(x))"
   ]
  },
  {
   "cell_type": "code",
   "execution_count": 118,
   "metadata": {},
   "outputs": [
    {
     "name": "stdout",
     "output_type": "stream",
     "text": [
      "[[1. 1. 1.]\n",
      " [1. 1. 1.]\n",
      " [1. 1. 1.]]\n",
      "[[2. 2. 2.]\n",
      " [2. 2. 2.]\n",
      " [2. 2. 2.]]\n",
      "[[2. 3. 4.]\n",
      " [2. 3. 4.]\n",
      " [2. 3. 4.]]\n"
     ]
    }
   ],
   "source": [
    "# 행렬 단위 연산\n",
    "M = np.ones((3,3));print(M)\n",
    "M1 = M + 1;print(M1)\n",
    "\n",
    "a = np.array([1,2,3]) # 행단위로 한 행씩 더한다!~!!!\n",
    "M2 = M + a ; print(M2) "
   ]
  },
  {
   "cell_type": "code",
   "execution_count": 135,
   "metadata": {},
   "outputs": [
    {
     "name": "stdout",
     "output_type": "stream",
     "text": [
      "[0 1 2]\n",
      "(3,)\n",
      "[[0]\n",
      " [1]\n",
      " [2]]\n",
      "(3, 1)\n",
      "[[0 1 2]\n",
      " [1 2 3]\n",
      " [2 3 4]]\n"
     ]
    }
   ],
   "source": [
    "a = np.arange(3);print(a);print(a.shape)\n",
    "b = np.arange(3)\n",
    "b = b[:, np.newaxis];print(b);print(b.shape)\n",
    "\n",
    "# 차원이 다른 두 array 연산 (a = 1차원, b = 2차원)\n",
    "# 차원이 안맞으므로 0,1,2 행 3개, 열 3개를 임의로 만들어서 연산한다\n",
    "print(a+b)"
   ]
  },
  {
   "cell_type": "code",
   "execution_count": 136,
   "metadata": {},
   "outputs": [
    {
     "data": {
      "text/plain": [
       "array([[2, 0, 0, 6],\n",
       "       [2, 4, 9, 3],\n",
       "       [4, 2, 6, 5]])"
      ]
     },
     "execution_count": 136,
     "metadata": {},
     "output_type": "execute_result"
    }
   ],
   "source": [
    "# 기초통계량 계산\n",
    "np.random.seed(13)\n",
    "x = np.random.randint(10, size=(3,4));x"
   ]
  },
  {
   "cell_type": "code",
   "execution_count": 140,
   "metadata": {},
   "outputs": [
    {
     "name": "stdout",
     "output_type": "stream",
     "text": [
      "43\n",
      "[0 2 2]\n",
      "[2.66666667 2.         5.         4.66666667]\n",
      "[0.94280904 1.63299316 3.74165739 1.24721913]\n"
     ]
    }
   ],
   "source": [
    "print(np.sum(x))\n",
    "# axis 주의하기!!\n",
    "\n",
    "print(np.min(x, axis=1)) # 각 행의 최소값(row 별로)\n",
    "print(np.mean(x, axis=0)) # 각 열의 평균(column 별로)\n",
    "print(np.std(x, axis=0)) # 각 열의 표준편차(column 별로)"
   ]
  },
  {
   "cell_type": "code",
   "execution_count": 142,
   "metadata": {},
   "outputs": [
    {
     "name": "stdout",
     "output_type": "stream",
     "text": [
      "[ 4.44089210e-16  0.00000000e+00  1.11022302e-16 -7.77156117e-16]\n"
     ]
    }
   ],
   "source": [
    "x_std = (x - np.mean(x, axis=0)) /np.std(x, axis=0) # 표준화\n",
    "print(np.sum(x_std, axis=0)) # 왜더하는지는 잘 모르겠네~~~"
   ]
  },
  {
   "cell_type": "markdown",
   "metadata": {},
   "source": [
    "### 논리인덱싱(Boolean indexing), 순서정렬(Sorting)"
   ]
  },
  {
   "cell_type": "code",
   "execution_count": 143,
   "metadata": {},
   "outputs": [
    {
     "name": "stdout",
     "output_type": "stream",
     "text": [
      "[[1 2 3 4]\n",
      " [5 6 7 8]]\n"
     ]
    }
   ],
   "source": [
    "x = np.array([[1,2,3,4], [5,6,7,8]]);print(x) # 2D tensor"
   ]
  },
  {
   "cell_type": "code",
   "execution_count": 146,
   "metadata": {},
   "outputs": [
    {
     "name": "stdout",
     "output_type": "stream",
     "text": [
      "[[False False False False]\n",
      " [ True  True  True  True]]\n",
      "4\n",
      "[0 4]\n"
     ]
    }
   ],
   "source": [
    "print(x>=5)\n",
    "print(np.sum(x>=5)) # true에 해당하는게 1로 더해짐\n",
    "print(np.sum(x>=5, axis=1)) # 각 행별로 연산(첫행은 0개, 둘째행은 4개)"
   ]
  },
  {
   "cell_type": "code",
   "execution_count": 147,
   "metadata": {},
   "outputs": [
    {
     "name": "stdout",
     "output_type": "stream",
     "text": [
      "False\n",
      "[ True  True False False]\n",
      "False\n"
     ]
    }
   ],
   "source": [
    "print(np.any(x>100)) # any : 100보다 큰게 하나라도 있는가? False\n",
    "print(np.all(x<7, axis=0)) # 각 열별로 모두 7보다 작은가? \n",
    "print(np.all(x==100)) # 모두 x가 100인가?"
   ]
  },
  {
   "cell_type": "code",
   "execution_count": 151,
   "metadata": {},
   "outputs": [
    {
     "name": "stdout",
     "output_type": "stream",
     "text": [
      "[[ 1  2  3  4]\n",
      " [ 5  6  7  8]\n",
      " [ 9 10 11 12]\n",
      " [13 14 15 16]]\n",
      "[1 0 1 0]\n",
      "--------------------------------------------------\n",
      "[[ 5  6  7  8]\n",
      " [13 14 15 16]]\n",
      "--------------------------------------------------\n",
      "[[ 2  4]\n",
      " [ 6  8]\n",
      " [10 12]\n",
      " [14 16]]\n"
     ]
    }
   ],
   "source": [
    "# 논리인덱싱\n",
    "x = np.array([[1,2,3,4], [5,6,7,8], [9, 10, 11, 12], [13, 14, 15, 16]]);print(x)\n",
    "y = np.array([1,0,1,0]);print(y)\n",
    "print('-'*50)\n",
    "print(x[y==0, :]) # y==0인 자리의 열만 출력하기\n",
    "print('-'*50)\n",
    "print(x[:, y==0]) # y==0인 자리의 행만 출력하기"
   ]
  },
  {
   "cell_type": "code",
   "execution_count": 155,
   "metadata": {},
   "outputs": [
    {
     "name": "stdout",
     "output_type": "stream",
     "text": [
      "[11 12 13 14 15 16 17 18 19]\n",
      "--------------------------------------------------\n",
      "[13 14 15]\n",
      "--------------------------------------------------\n",
      "[[13 12 14]\n",
      " [16 13 18]]\n"
     ]
    }
   ],
   "source": [
    "# array를 활용한 인덱싱\n",
    "# 뽑고싶은 인덱스를 array로 지정한다!\n",
    "\n",
    "x = np.array([11,12,13,14,15,16,17,18,19]);print(x) # 1차원 array\n",
    "print('-'*50)\n",
    "\n",
    "ind1 = np.array([2,3,4]) # 1차원 array 중 2,3,4번째만 출력(0부터 시작됨!)\n",
    "x1 = x[ind1]\n",
    "print(x1)\n",
    "print('-'*50)\n",
    "\n",
    "# 2번째, 1번째, 3번째 등에 해당하는 원소로 2차원 array 만들기\n",
    "# 1차원 array를 2차원 array로 바꿀 수 있음! \n",
    "ind2 = np.array([[2,1,3], [5,2,7]]) \n",
    "x2 = x[ind2]\n",
    "print(x2)"
   ]
  },
  {
   "cell_type": "code",
   "execution_count": 165,
   "metadata": {},
   "outputs": [
    {
     "name": "stdout",
     "output_type": "stream",
     "text": [
      "[[ 0  1  2  3]\n",
      " [ 4  5  6  7]\n",
      " [ 8  9 10 11]]\n"
     ]
    },
    {
     "data": {
      "text/plain": [
       "array([[4, 5, 6, 7],\n",
       "       [0, 1, 2, 3]])"
      ]
     },
     "execution_count": 165,
     "metadata": {},
     "output_type": "execute_result"
    }
   ],
   "source": [
    "x = np.arange(12).reshape((3,4));print(x)\n",
    "ind = np.array([1,0]) # 이렇게 하면 몇행 몇행 이렇게 골라서 차례로 출력해줌. \n",
    "x1 = x[ind];x1"
   ]
  },
  {
   "cell_type": "code",
   "execution_count": 168,
   "metadata": {},
   "outputs": [
    {
     "name": "stdout",
     "output_type": "stream",
     "text": [
      "[[ 3  1]\n",
      " [ 7  5]\n",
      " [11  9]]\n"
     ]
    }
   ],
   "source": [
    "ind2 = np.array([1,3])\n",
    "xx = x[:, -ind2];print(xx) # (역순으로 첫번째, 세번째 행이 출력됨!)\n",
    "# -ind : not index. 1,3번째(0부터 세기) 컬럼 제외(근데 이렇게하면 위치가안맞는데 교수님이 이렇게설명함)"
   ]
  },
  {
   "cell_type": "code",
   "execution_count": 169,
   "metadata": {},
   "outputs": [
    {
     "data": {
      "text/plain": [
       "array([-1, -3])"
      ]
     },
     "execution_count": 169,
     "metadata": {},
     "output_type": "execute_result"
    }
   ],
   "source": [
    "-ind2 # 전체 마이너스가 붙어서 나옴. "
   ]
  },
  {
   "cell_type": "code",
   "execution_count": 177,
   "metadata": {},
   "outputs": [
    {
     "name": "stdout",
     "output_type": "stream",
     "text": [
      "[1 2 2]\n",
      "[2 0 1]\n",
      "[[1]\n",
      " [2]\n",
      " [2]]\n",
      "--------------------------------------------------\n",
      "[[ 0  1  2  3]\n",
      " [ 4  5  6  7]\n",
      " [ 8  9 10 11]]\n"
     ]
    }
   ],
   "source": [
    "y1 = np.array([1,2,2]);print(y1)\n",
    "y2 = np.array([2,0,1]);print(y2)\n",
    "print(y1[:, np.newaxis]) # 열벡터로 만듦\n",
    "print('-'*50)\n",
    "print(x)"
   ]
  },
  {
   "cell_type": "code",
   "execution_count": 173,
   "metadata": {},
   "outputs": [
    {
     "name": "stdout",
     "output_type": "stream",
     "text": [
      "[6 8 9]\n"
     ]
    }
   ],
   "source": [
    "# y1으로 우선 행 선택하고, y2 위치에 해당하는 요소를 고른다. \n",
    "print(x[y1, y2])"
   ]
  },
  {
   "cell_type": "code",
   "execution_count": 175,
   "metadata": {},
   "outputs": [
    {
     "name": "stdout",
     "output_type": "stream",
     "text": [
      "[[ 6  4  5]\n",
      " [10  8  9]\n",
      " [10  8  9]]\n"
     ]
    }
   ],
   "source": [
    "print(x[y1[:, np.newaxis], y2]) # broadcasting\n",
    "# 아니 이거 어칸다는거야??"
   ]
  },
  {
   "cell_type": "code",
   "execution_count": 178,
   "metadata": {},
   "outputs": [
    {
     "data": {
      "text/plain": [
       "[array([[1],\n",
       "        [2],\n",
       "        [2]]),\n",
       " array([2, 0, 1])]"
      ]
     },
     "execution_count": 178,
     "metadata": {},
     "output_type": "execute_result"
    }
   ],
   "source": [
    "[y1[:, np.newaxis], y2] "
   ]
  },
  {
   "cell_type": "code",
   "execution_count": 179,
   "metadata": {},
   "outputs": [
    {
     "data": {
      "text/plain": [
       "array([1, 2, 3, 4, 5])"
      ]
     },
     "execution_count": 179,
     "metadata": {},
     "output_type": "execute_result"
    }
   ],
   "source": [
    "## 순서정렬\n",
    "# sort : 오름차순 정렬\n",
    "x = np.array([2,4,3,1,5])\n",
    "np.sort(x)"
   ]
  },
  {
   "cell_type": "code",
   "execution_count": 182,
   "metadata": {},
   "outputs": [
    {
     "data": {
      "text/plain": [
       "array([3, 0, 2, 1, 4], dtype=int64)"
      ]
     },
     "execution_count": 182,
     "metadata": {},
     "output_type": "execute_result"
    }
   ],
   "source": [
    "# argsort : 순서대로 인덱스 반환\n",
    "ind = np.argsort(x)\n",
    "ind"
   ]
  },
  {
   "cell_type": "code",
   "execution_count": 188,
   "metadata": {},
   "outputs": [
    {
     "name": "stdout",
     "output_type": "stream",
     "text": [
      "[[[1 9 3 4]\n",
      "  [4 1 2 9]\n",
      "  [1 6 1 6]]\n",
      "\n",
      " [[5 9 1 7]\n",
      "  [2 5 2 8]\n",
      "  [2 9 9 9]]]\n",
      "[[1 6 1 6]\n",
      " [2 9 9 9]]\n"
     ]
    }
   ],
   "source": [
    "x = np.random.randint(1, 10, size=(2,3,4));print(x)\n",
    "x1 = x[:, -1, :];print(x1)\n",
    "# -1이니까 가장 끝에있는 row들 전체 출력"
   ]
  },
  {
   "cell_type": "code",
   "execution_count": 189,
   "metadata": {},
   "outputs": [
    {
     "data": {
      "text/plain": [
       "array([2, 9, 9, 9])"
      ]
     },
     "execution_count": 189,
     "metadata": {},
     "output_type": "execute_result"
    }
   ],
   "source": [
    "x[1, -1, :] # 1번째 샘플 가장 끝에있는 row 출력"
   ]
  },
  {
   "cell_type": "code",
   "execution_count": 190,
   "metadata": {},
   "outputs": [
    {
     "data": {
      "text/plain": [
       "9"
      ]
     },
     "execution_count": 190,
     "metadata": {},
     "output_type": "execute_result"
    }
   ],
   "source": [
    "x[1, -1, 1] # 1번째 샘플 가장 끝에있는 row의 1번째 element 출력"
   ]
  }
 ],
 "metadata": {
  "kernelspec": {
   "display_name": "Python 3",
   "language": "python",
   "name": "python3"
  },
  "language_info": {
   "codemirror_mode": {
    "name": "ipython",
    "version": 3
   },
   "file_extension": ".py",
   "mimetype": "text/x-python",
   "name": "python",
   "nbconvert_exporter": "python",
   "pygments_lexer": "ipython3",
   "version": "3.7.7"
  }
 },
 "nbformat": 4,
 "nbformat_minor": 4
}
